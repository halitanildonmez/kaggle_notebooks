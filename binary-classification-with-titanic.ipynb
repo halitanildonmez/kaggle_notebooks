{
 "cells": [
  {
   "cell_type": "code",
   "execution_count": 1,
   "metadata": {
    "_cell_guid": "b1076dfc-b9ad-4769-8c92-a6c4dae69d19",
    "_uuid": "8f2839f25d086af736a60e9eeb907d3b93b6e0e5",
    "execution": {
     "iopub.execute_input": "2023-01-07T17:59:55.482423Z",
     "iopub.status.busy": "2023-01-07T17:59:55.481758Z",
     "iopub.status.idle": "2023-01-07T17:59:56.192667Z",
     "shell.execute_reply": "2023-01-07T17:59:56.193260Z",
     "shell.execute_reply.started": "2023-01-07T17:00:18.179467Z"
    },
    "papermill": {
     "duration": 0.759403,
     "end_time": "2023-01-07T17:59:56.193610",
     "exception": false,
     "start_time": "2023-01-07T17:59:55.434207",
     "status": "completed"
    },
    "tags": []
   },
   "outputs": [
    {
     "name": "stdout",
     "output_type": "stream",
     "text": [
      "/kaggle/input/titanic/train.csv\n",
      "/kaggle/input/titanic/test.csv\n",
      "/kaggle/input/titanic/gender_submission.csv\n"
     ]
    }
   ],
   "source": [
    "# This Python 3 environment comes with many helpful analytics libraries installed\n",
    "# It is defined by the kaggle/python Docker image: https://github.com/kaggle/docker-python\n",
    "# For example, here's several helpful packages to load\n",
    "\n",
    "import numpy as np # linear algebra\n",
    "import pandas as pd # data processing, CSV file I/O (e.g. pd.read_csv)\n",
    "import seaborn as sns\n",
    "\n",
    "# Input data files are available in the read-only \"../input/\" directory\n",
    "# For example, running this (by clicking run or pressing Shift+Enter) will list all files under the input directory\n",
    "\n",
    "import os\n",
    "for dirname, _, filenames in os.walk('/kaggle/input'):\n",
    "    for filename in filenames:\n",
    "        print(os.path.join(dirname, filename))\n",
    "\n",
    "# You can write up to 20GB to the current directory (/kaggle/working/) that gets preserved as output when you create a version using \"Save & Run All\" \n",
    "# You can also write temporary files to /kaggle/temp/, but they won't be saved outside of the current session"
   ]
  },
  {
   "cell_type": "markdown",
   "metadata": {
    "papermill": {
     "duration": 0.041559,
     "end_time": "2023-01-07T17:59:56.278737",
     "exception": false,
     "start_time": "2023-01-07T17:59:56.237178",
     "status": "completed"
    },
    "tags": []
   },
   "source": [
    "This notebook will do the following:\n",
    "\n",
    "- Will start with an EDA to investigate the data first and see what intutions we can get\n",
    "- Will run a voting classifier\n",
    "- Will run a xgboost classfier\n",
    "- Will run a NN classifier"
   ]
  },
  {
   "cell_type": "markdown",
   "metadata": {
    "papermill": {
     "duration": 0.041037,
     "end_time": "2023-01-07T17:59:56.364273",
     "exception": false,
     "start_time": "2023-01-07T17:59:56.323236",
     "status": "completed"
    },
    "tags": []
   },
   "source": [
    "## EDA\n",
    "\n",
    "We will start with EDA (Explatory Data Analysis)"
   ]
  },
  {
   "cell_type": "code",
   "execution_count": 2,
   "metadata": {
    "execution": {
     "iopub.execute_input": "2023-01-07T17:59:56.453389Z",
     "iopub.status.busy": "2023-01-07T17:59:56.452628Z",
     "iopub.status.idle": "2023-01-07T17:59:56.483650Z",
     "shell.execute_reply": "2023-01-07T17:59:56.483015Z",
     "shell.execute_reply.started": "2023-01-07T17:00:19.198794Z"
    },
    "papermill": {
     "duration": 0.078233,
     "end_time": "2023-01-07T17:59:56.483840",
     "exception": false,
     "start_time": "2023-01-07T17:59:56.405607",
     "status": "completed"
    },
    "tags": []
   },
   "outputs": [],
   "source": [
    "df_train = pd.read_csv('/kaggle/input/titanic/train.csv')\n",
    "df_test = pd.read_csv('/kaggle/input/titanic/test.csv')\n",
    "df_submission = pd.read_csv('/kaggle/input/titanic/gender_submission.csv')"
   ]
  },
  {
   "cell_type": "code",
   "execution_count": 3,
   "metadata": {
    "execution": {
     "iopub.execute_input": "2023-01-07T17:59:56.572902Z",
     "iopub.status.busy": "2023-01-07T17:59:56.571945Z",
     "iopub.status.idle": "2023-01-07T17:59:56.604784Z",
     "shell.execute_reply": "2023-01-07T17:59:56.605355Z",
     "shell.execute_reply.started": "2023-01-07T17:00:19.241312Z"
    },
    "papermill": {
     "duration": 0.079634,
     "end_time": "2023-01-07T17:59:56.605539",
     "exception": false,
     "start_time": "2023-01-07T17:59:56.525905",
     "status": "completed"
    },
    "tags": []
   },
   "outputs": [
    {
     "data": {
      "text/html": [
       "<div>\n",
       "<style scoped>\n",
       "    .dataframe tbody tr th:only-of-type {\n",
       "        vertical-align: middle;\n",
       "    }\n",
       "\n",
       "    .dataframe tbody tr th {\n",
       "        vertical-align: top;\n",
       "    }\n",
       "\n",
       "    .dataframe thead th {\n",
       "        text-align: right;\n",
       "    }\n",
       "</style>\n",
       "<table border=\"1\" class=\"dataframe\">\n",
       "  <thead>\n",
       "    <tr style=\"text-align: right;\">\n",
       "      <th></th>\n",
       "      <th>PassengerId</th>\n",
       "      <th>Survived</th>\n",
       "      <th>Pclass</th>\n",
       "      <th>Name</th>\n",
       "      <th>Sex</th>\n",
       "      <th>Age</th>\n",
       "      <th>SibSp</th>\n",
       "      <th>Parch</th>\n",
       "      <th>Ticket</th>\n",
       "      <th>Fare</th>\n",
       "      <th>Cabin</th>\n",
       "      <th>Embarked</th>\n",
       "    </tr>\n",
       "  </thead>\n",
       "  <tbody>\n",
       "    <tr>\n",
       "      <th>0</th>\n",
       "      <td>1</td>\n",
       "      <td>0</td>\n",
       "      <td>3</td>\n",
       "      <td>Braund, Mr. Owen Harris</td>\n",
       "      <td>male</td>\n",
       "      <td>22.0</td>\n",
       "      <td>1</td>\n",
       "      <td>0</td>\n",
       "      <td>A/5 21171</td>\n",
       "      <td>7.2500</td>\n",
       "      <td>NaN</td>\n",
       "      <td>S</td>\n",
       "    </tr>\n",
       "    <tr>\n",
       "      <th>1</th>\n",
       "      <td>2</td>\n",
       "      <td>1</td>\n",
       "      <td>1</td>\n",
       "      <td>Cumings, Mrs. John Bradley (Florence Briggs Th...</td>\n",
       "      <td>female</td>\n",
       "      <td>38.0</td>\n",
       "      <td>1</td>\n",
       "      <td>0</td>\n",
       "      <td>PC 17599</td>\n",
       "      <td>71.2833</td>\n",
       "      <td>C85</td>\n",
       "      <td>C</td>\n",
       "    </tr>\n",
       "    <tr>\n",
       "      <th>2</th>\n",
       "      <td>3</td>\n",
       "      <td>1</td>\n",
       "      <td>3</td>\n",
       "      <td>Heikkinen, Miss. Laina</td>\n",
       "      <td>female</td>\n",
       "      <td>26.0</td>\n",
       "      <td>0</td>\n",
       "      <td>0</td>\n",
       "      <td>STON/O2. 3101282</td>\n",
       "      <td>7.9250</td>\n",
       "      <td>NaN</td>\n",
       "      <td>S</td>\n",
       "    </tr>\n",
       "    <tr>\n",
       "      <th>3</th>\n",
       "      <td>4</td>\n",
       "      <td>1</td>\n",
       "      <td>1</td>\n",
       "      <td>Futrelle, Mrs. Jacques Heath (Lily May Peel)</td>\n",
       "      <td>female</td>\n",
       "      <td>35.0</td>\n",
       "      <td>1</td>\n",
       "      <td>0</td>\n",
       "      <td>113803</td>\n",
       "      <td>53.1000</td>\n",
       "      <td>C123</td>\n",
       "      <td>S</td>\n",
       "    </tr>\n",
       "    <tr>\n",
       "      <th>4</th>\n",
       "      <td>5</td>\n",
       "      <td>0</td>\n",
       "      <td>3</td>\n",
       "      <td>Allen, Mr. William Henry</td>\n",
       "      <td>male</td>\n",
       "      <td>35.0</td>\n",
       "      <td>0</td>\n",
       "      <td>0</td>\n",
       "      <td>373450</td>\n",
       "      <td>8.0500</td>\n",
       "      <td>NaN</td>\n",
       "      <td>S</td>\n",
       "    </tr>\n",
       "  </tbody>\n",
       "</table>\n",
       "</div>"
      ],
      "text/plain": [
       "   PassengerId  Survived  Pclass  \\\n",
       "0            1         0       3   \n",
       "1            2         1       1   \n",
       "2            3         1       3   \n",
       "3            4         1       1   \n",
       "4            5         0       3   \n",
       "\n",
       "                                                Name     Sex   Age  SibSp  \\\n",
       "0                            Braund, Mr. Owen Harris    male  22.0      1   \n",
       "1  Cumings, Mrs. John Bradley (Florence Briggs Th...  female  38.0      1   \n",
       "2                             Heikkinen, Miss. Laina  female  26.0      0   \n",
       "3       Futrelle, Mrs. Jacques Heath (Lily May Peel)  female  35.0      1   \n",
       "4                           Allen, Mr. William Henry    male  35.0      0   \n",
       "\n",
       "   Parch            Ticket     Fare Cabin Embarked  \n",
       "0      0         A/5 21171   7.2500   NaN        S  \n",
       "1      0          PC 17599  71.2833   C85        C  \n",
       "2      0  STON/O2. 3101282   7.9250   NaN        S  \n",
       "3      0            113803  53.1000  C123        S  \n",
       "4      0            373450   8.0500   NaN        S  "
      ]
     },
     "execution_count": 3,
     "metadata": {},
     "output_type": "execute_result"
    }
   ],
   "source": [
    "df_train.head()"
   ]
  },
  {
   "cell_type": "code",
   "execution_count": 4,
   "metadata": {
    "execution": {
     "iopub.execute_input": "2023-01-07T17:59:56.692887Z",
     "iopub.status.busy": "2023-01-07T17:59:56.692231Z",
     "iopub.status.idle": "2023-01-07T17:59:56.724782Z",
     "shell.execute_reply": "2023-01-07T17:59:56.725370Z",
     "shell.execute_reply.started": "2023-01-07T17:00:19.287571Z"
    },
    "papermill": {
     "duration": 0.078093,
     "end_time": "2023-01-07T17:59:56.725563",
     "exception": false,
     "start_time": "2023-01-07T17:59:56.647470",
     "status": "completed"
    },
    "tags": []
   },
   "outputs": [
    {
     "data": {
      "text/html": [
       "<div>\n",
       "<style scoped>\n",
       "    .dataframe tbody tr th:only-of-type {\n",
       "        vertical-align: middle;\n",
       "    }\n",
       "\n",
       "    .dataframe tbody tr th {\n",
       "        vertical-align: top;\n",
       "    }\n",
       "\n",
       "    .dataframe thead th {\n",
       "        text-align: right;\n",
       "    }\n",
       "</style>\n",
       "<table border=\"1\" class=\"dataframe\">\n",
       "  <thead>\n",
       "    <tr style=\"text-align: right;\">\n",
       "      <th></th>\n",
       "      <th>PassengerId</th>\n",
       "      <th>Survived</th>\n",
       "      <th>Pclass</th>\n",
       "      <th>Age</th>\n",
       "      <th>SibSp</th>\n",
       "      <th>Parch</th>\n",
       "      <th>Fare</th>\n",
       "    </tr>\n",
       "  </thead>\n",
       "  <tbody>\n",
       "    <tr>\n",
       "      <th>count</th>\n",
       "      <td>891.000000</td>\n",
       "      <td>891.000000</td>\n",
       "      <td>891.000000</td>\n",
       "      <td>714.000000</td>\n",
       "      <td>891.000000</td>\n",
       "      <td>891.000000</td>\n",
       "      <td>891.000000</td>\n",
       "    </tr>\n",
       "    <tr>\n",
       "      <th>mean</th>\n",
       "      <td>446.000000</td>\n",
       "      <td>0.383838</td>\n",
       "      <td>2.308642</td>\n",
       "      <td>29.699118</td>\n",
       "      <td>0.523008</td>\n",
       "      <td>0.381594</td>\n",
       "      <td>32.204208</td>\n",
       "    </tr>\n",
       "    <tr>\n",
       "      <th>std</th>\n",
       "      <td>257.353842</td>\n",
       "      <td>0.486592</td>\n",
       "      <td>0.836071</td>\n",
       "      <td>14.526497</td>\n",
       "      <td>1.102743</td>\n",
       "      <td>0.806057</td>\n",
       "      <td>49.693429</td>\n",
       "    </tr>\n",
       "    <tr>\n",
       "      <th>min</th>\n",
       "      <td>1.000000</td>\n",
       "      <td>0.000000</td>\n",
       "      <td>1.000000</td>\n",
       "      <td>0.420000</td>\n",
       "      <td>0.000000</td>\n",
       "      <td>0.000000</td>\n",
       "      <td>0.000000</td>\n",
       "    </tr>\n",
       "    <tr>\n",
       "      <th>25%</th>\n",
       "      <td>223.500000</td>\n",
       "      <td>0.000000</td>\n",
       "      <td>2.000000</td>\n",
       "      <td>20.125000</td>\n",
       "      <td>0.000000</td>\n",
       "      <td>0.000000</td>\n",
       "      <td>7.910400</td>\n",
       "    </tr>\n",
       "    <tr>\n",
       "      <th>50%</th>\n",
       "      <td>446.000000</td>\n",
       "      <td>0.000000</td>\n",
       "      <td>3.000000</td>\n",
       "      <td>28.000000</td>\n",
       "      <td>0.000000</td>\n",
       "      <td>0.000000</td>\n",
       "      <td>14.454200</td>\n",
       "    </tr>\n",
       "    <tr>\n",
       "      <th>75%</th>\n",
       "      <td>668.500000</td>\n",
       "      <td>1.000000</td>\n",
       "      <td>3.000000</td>\n",
       "      <td>38.000000</td>\n",
       "      <td>1.000000</td>\n",
       "      <td>0.000000</td>\n",
       "      <td>31.000000</td>\n",
       "    </tr>\n",
       "    <tr>\n",
       "      <th>max</th>\n",
       "      <td>891.000000</td>\n",
       "      <td>1.000000</td>\n",
       "      <td>3.000000</td>\n",
       "      <td>80.000000</td>\n",
       "      <td>8.000000</td>\n",
       "      <td>6.000000</td>\n",
       "      <td>512.329200</td>\n",
       "    </tr>\n",
       "  </tbody>\n",
       "</table>\n",
       "</div>"
      ],
      "text/plain": [
       "       PassengerId    Survived      Pclass         Age       SibSp  \\\n",
       "count   891.000000  891.000000  891.000000  714.000000  891.000000   \n",
       "mean    446.000000    0.383838    2.308642   29.699118    0.523008   \n",
       "std     257.353842    0.486592    0.836071   14.526497    1.102743   \n",
       "min       1.000000    0.000000    1.000000    0.420000    0.000000   \n",
       "25%     223.500000    0.000000    2.000000   20.125000    0.000000   \n",
       "50%     446.000000    0.000000    3.000000   28.000000    0.000000   \n",
       "75%     668.500000    1.000000    3.000000   38.000000    1.000000   \n",
       "max     891.000000    1.000000    3.000000   80.000000    8.000000   \n",
       "\n",
       "            Parch        Fare  \n",
       "count  891.000000  891.000000  \n",
       "mean     0.381594   32.204208  \n",
       "std      0.806057   49.693429  \n",
       "min      0.000000    0.000000  \n",
       "25%      0.000000    7.910400  \n",
       "50%      0.000000   14.454200  \n",
       "75%      0.000000   31.000000  \n",
       "max      6.000000  512.329200  "
      ]
     },
     "execution_count": 4,
     "metadata": {},
     "output_type": "execute_result"
    }
   ],
   "source": [
    "df_train.describe()"
   ]
  },
  {
   "cell_type": "code",
   "execution_count": 5,
   "metadata": {
    "execution": {
     "iopub.execute_input": "2023-01-07T17:59:56.815174Z",
     "iopub.status.busy": "2023-01-07T17:59:56.814509Z",
     "iopub.status.idle": "2023-01-07T17:59:56.833372Z",
     "shell.execute_reply": "2023-01-07T17:59:56.832682Z",
     "shell.execute_reply.started": "2023-01-07T17:00:19.334271Z"
    },
    "papermill": {
     "duration": 0.064758,
     "end_time": "2023-01-07T17:59:56.833524",
     "exception": false,
     "start_time": "2023-01-07T17:59:56.768766",
     "status": "completed"
    },
    "tags": []
   },
   "outputs": [
    {
     "name": "stdout",
     "output_type": "stream",
     "text": [
      "<class 'pandas.core.frame.DataFrame'>\n",
      "RangeIndex: 891 entries, 0 to 890\n",
      "Data columns (total 12 columns):\n",
      " #   Column       Non-Null Count  Dtype  \n",
      "---  ------       --------------  -----  \n",
      " 0   PassengerId  891 non-null    int64  \n",
      " 1   Survived     891 non-null    int64  \n",
      " 2   Pclass       891 non-null    int64  \n",
      " 3   Name         891 non-null    object \n",
      " 4   Sex          891 non-null    object \n",
      " 5   Age          714 non-null    float64\n",
      " 6   SibSp        891 non-null    int64  \n",
      " 7   Parch        891 non-null    int64  \n",
      " 8   Ticket       891 non-null    object \n",
      " 9   Fare         891 non-null    float64\n",
      " 10  Cabin        204 non-null    object \n",
      " 11  Embarked     889 non-null    object \n",
      "dtypes: float64(2), int64(5), object(5)\n",
      "memory usage: 83.7+ KB\n"
     ]
    }
   ],
   "source": [
    "df_train.info()"
   ]
  },
  {
   "cell_type": "code",
   "execution_count": 6,
   "metadata": {
    "execution": {
     "iopub.execute_input": "2023-01-07T17:59:56.925429Z",
     "iopub.status.busy": "2023-01-07T17:59:56.924694Z",
     "iopub.status.idle": "2023-01-07T17:59:57.138906Z",
     "shell.execute_reply": "2023-01-07T17:59:57.139406Z",
     "shell.execute_reply.started": "2023-01-07T17:00:19.362078Z"
    },
    "papermill": {
     "duration": 0.263023,
     "end_time": "2023-01-07T17:59:57.139603",
     "exception": false,
     "start_time": "2023-01-07T17:59:56.876580",
     "status": "completed"
    },
    "tags": []
   },
   "outputs": [
    {
     "data": {
      "text/plain": [
       "<matplotlib.legend.Legend at 0x7fc3baf322d0>"
      ]
     },
     "execution_count": 6,
     "metadata": {},
     "output_type": "execute_result"
    },
    {
     "data": {
      "image/png": "[encoded data removed]",
      "text/plain": [
       "<Figure size 432x288 with 1 Axes>"
      ]
     },
     "metadata": {},
     "output_type": "display_data"
    }
   ],
   "source": [
    "import matplotlib.pyplot as plt\n",
    "values = df_train['Survived'].value_counts()\n",
    "plt.pie(values, autopct='%1.1f%%', startangle=90, radius=2)\n",
    "plt.title('Survived vs Not Survived Ratio', loc = 'center', fontdict ={'size':20},pad=100)\n",
    "plt.legend(labels=['Survived', 'Not Survived'])"
   ]
  },
  {
   "cell_type": "code",
   "execution_count": 7,
   "metadata": {
    "execution": {
     "iopub.execute_input": "2023-01-07T17:59:57.237625Z",
     "iopub.status.busy": "2023-01-07T17:59:57.236985Z",
     "iopub.status.idle": "2023-01-07T17:59:57.247301Z",
     "shell.execute_reply": "2023-01-07T17:59:57.247866Z",
     "shell.execute_reply.started": "2023-01-07T17:00:19.610676Z"
    },
    "papermill": {
     "duration": 0.061937,
     "end_time": "2023-01-07T17:59:57.248064",
     "exception": false,
     "start_time": "2023-01-07T17:59:57.186127",
     "status": "completed"
    },
    "tags": []
   },
   "outputs": [
    {
     "data": {
      "text/plain": [
       "PassengerId      0\n",
       "Survived         0\n",
       "Pclass           0\n",
       "Name             0\n",
       "Sex              0\n",
       "Age            177\n",
       "SibSp            0\n",
       "Parch            0\n",
       "Ticket           0\n",
       "Fare             0\n",
       "Cabin          687\n",
       "Embarked         2\n",
       "dtype: int64"
      ]
     },
     "execution_count": 7,
     "metadata": {},
     "output_type": "execute_result"
    }
   ],
   "source": [
    "# list missing values per column\n",
    "df_train.isnull().sum()"
   ]
  },
  {
   "cell_type": "markdown",
   "metadata": {
    "papermill": {
     "duration": 0.046856,
     "end_time": "2023-01-07T17:59:57.339382",
     "exception": false,
     "start_time": "2023-01-07T17:59:57.292526",
     "status": "completed"
    },
    "tags": []
   },
   "source": [
    "**Intuition**\n",
    "We have missing values on *Age* and *Cabin* columns"
   ]
  },
  {
   "cell_type": "code",
   "execution_count": 8,
   "metadata": {
    "execution": {
     "iopub.execute_input": "2023-01-07T17:59:57.440601Z",
     "iopub.status.busy": "2023-01-07T17:59:57.439621Z",
     "iopub.status.idle": "2023-01-07T17:59:57.456094Z",
     "shell.execute_reply": "2023-01-07T17:59:57.456655Z",
     "shell.execute_reply.started": "2023-01-07T17:00:19.622543Z"
    },
    "papermill": {
     "duration": 0.073273,
     "end_time": "2023-01-07T17:59:57.456867",
     "exception": false,
     "start_time": "2023-01-07T17:59:57.383594",
     "status": "completed"
    },
    "tags": []
   },
   "outputs": [
    {
     "data": {
      "text/html": [
       "<div>\n",
       "<style scoped>\n",
       "    .dataframe tbody tr th:only-of-type {\n",
       "        vertical-align: middle;\n",
       "    }\n",
       "\n",
       "    .dataframe tbody tr th {\n",
       "        vertical-align: top;\n",
       "    }\n",
       "\n",
       "    .dataframe thead th {\n",
       "        text-align: right;\n",
       "    }\n",
       "</style>\n",
       "<table border=\"1\" class=\"dataframe\">\n",
       "  <thead>\n",
       "    <tr style=\"text-align: right;\">\n",
       "      <th></th>\n",
       "      <th>Pclass</th>\n",
       "      <th>Survived</th>\n",
       "    </tr>\n",
       "  </thead>\n",
       "  <tbody>\n",
       "    <tr>\n",
       "      <th>0</th>\n",
       "      <td>1</td>\n",
       "      <td>0.629630</td>\n",
       "    </tr>\n",
       "    <tr>\n",
       "      <th>1</th>\n",
       "      <td>2</td>\n",
       "      <td>0.472826</td>\n",
       "    </tr>\n",
       "    <tr>\n",
       "      <th>2</th>\n",
       "      <td>3</td>\n",
       "      <td>0.242363</td>\n",
       "    </tr>\n",
       "  </tbody>\n",
       "</table>\n",
       "</div>"
      ],
      "text/plain": [
       "   Pclass  Survived\n",
       "0       1  0.629630\n",
       "1       2  0.472826\n",
       "2       3  0.242363"
      ]
     },
     "execution_count": 8,
     "metadata": {},
     "output_type": "execute_result"
    }
   ],
   "source": [
    "def group_by_columns_per_survived(column_name):\n",
    "    return df_train[[column_name, 'Survived']].groupby([column_name], as_index=False).mean().sort_values(by='Survived', ascending=False)\n",
    "group_by_columns_per_survived('Pclass')"
   ]
  },
  {
   "cell_type": "markdown",
   "metadata": {
    "papermill": {
     "duration": 0.044379,
     "end_time": "2023-01-07T17:59:57.548511",
     "exception": false,
     "start_time": "2023-01-07T17:59:57.504132",
     "status": "completed"
    },
    "tags": []
   },
   "source": [
    "**Intuition**\n",
    "\n",
    "Within the classes:\n",
    "* 62% of class 1\n",
    "* 47% of class 2\n",
    "* 24% of class 3\n",
    "\n",
    "survivied"
   ]
  },
  {
   "cell_type": "code",
   "execution_count": 9,
   "metadata": {
    "execution": {
     "iopub.execute_input": "2023-01-07T17:59:57.641296Z",
     "iopub.status.busy": "2023-01-07T17:59:57.640373Z",
     "iopub.status.idle": "2023-01-07T17:59:57.654177Z",
     "shell.execute_reply": "2023-01-07T17:59:57.654731Z",
     "shell.execute_reply.started": "2023-01-07T17:00:19.650072Z"
    },
    "papermill": {
     "duration": 0.062031,
     "end_time": "2023-01-07T17:59:57.654915",
     "exception": false,
     "start_time": "2023-01-07T17:59:57.592884",
     "status": "completed"
    },
    "tags": []
   },
   "outputs": [
    {
     "data": {
      "text/html": [
       "<div>\n",
       "<style scoped>\n",
       "    .dataframe tbody tr th:only-of-type {\n",
       "        vertical-align: middle;\n",
       "    }\n",
       "\n",
       "    .dataframe tbody tr th {\n",
       "        vertical-align: top;\n",
       "    }\n",
       "\n",
       "    .dataframe thead th {\n",
       "        text-align: right;\n",
       "    }\n",
       "</style>\n",
       "<table border=\"1\" class=\"dataframe\">\n",
       "  <thead>\n",
       "    <tr style=\"text-align: right;\">\n",
       "      <th></th>\n",
       "      <th>Sex</th>\n",
       "      <th>Survived</th>\n",
       "    </tr>\n",
       "  </thead>\n",
       "  <tbody>\n",
       "    <tr>\n",
       "      <th>0</th>\n",
       "      <td>female</td>\n",
       "      <td>0.742038</td>\n",
       "    </tr>\n",
       "    <tr>\n",
       "      <th>1</th>\n",
       "      <td>male</td>\n",
       "      <td>0.188908</td>\n",
       "    </tr>\n",
       "  </tbody>\n",
       "</table>\n",
       "</div>"
      ],
      "text/plain": [
       "      Sex  Survived\n",
       "0  female  0.742038\n",
       "1    male  0.188908"
      ]
     },
     "execution_count": 9,
     "metadata": {},
     "output_type": "execute_result"
    }
   ],
   "source": [
    "group_by_columns_per_survived('Sex')"
   ]
  },
  {
   "cell_type": "markdown",
   "metadata": {
    "papermill": {
     "duration": 0.044472,
     "end_time": "2023-01-07T17:59:57.744371",
     "exception": false,
     "start_time": "2023-01-07T17:59:57.699899",
     "status": "completed"
    },
    "tags": []
   },
   "source": [
    "**Intuition**\n",
    "\n",
    "74% of females and 18% of males have survived"
   ]
  },
  {
   "cell_type": "code",
   "execution_count": 10,
   "metadata": {
    "execution": {
     "iopub.execute_input": "2023-01-07T17:59:57.842685Z",
     "iopub.status.busy": "2023-01-07T17:59:57.842007Z",
     "iopub.status.idle": "2023-01-07T17:59:57.850595Z",
     "shell.execute_reply": "2023-01-07T17:59:57.851067Z",
     "shell.execute_reply.started": "2023-01-07T17:00:19.671347Z"
    },
    "papermill": {
     "duration": 0.062025,
     "end_time": "2023-01-07T17:59:57.851253",
     "exception": false,
     "start_time": "2023-01-07T17:59:57.789228",
     "status": "completed"
    },
    "tags": []
   },
   "outputs": [
    {
     "data": {
      "text/html": [
       "<div>\n",
       "<style scoped>\n",
       "    .dataframe tbody tr th:only-of-type {\n",
       "        vertical-align: middle;\n",
       "    }\n",
       "\n",
       "    .dataframe tbody tr th {\n",
       "        vertical-align: top;\n",
       "    }\n",
       "\n",
       "    .dataframe thead th {\n",
       "        text-align: right;\n",
       "    }\n",
       "</style>\n",
       "<table border=\"1\" class=\"dataframe\">\n",
       "  <thead>\n",
       "    <tr style=\"text-align: right;\">\n",
       "      <th></th>\n",
       "      <th>SibSp</th>\n",
       "      <th>Survived</th>\n",
       "    </tr>\n",
       "  </thead>\n",
       "  <tbody>\n",
       "    <tr>\n",
       "      <th>1</th>\n",
       "      <td>1</td>\n",
       "      <td>0.535885</td>\n",
       "    </tr>\n",
       "    <tr>\n",
       "      <th>2</th>\n",
       "      <td>2</td>\n",
       "      <td>0.464286</td>\n",
       "    </tr>\n",
       "    <tr>\n",
       "      <th>0</th>\n",
       "      <td>0</td>\n",
       "      <td>0.345395</td>\n",
       "    </tr>\n",
       "    <tr>\n",
       "      <th>3</th>\n",
       "      <td>3</td>\n",
       "      <td>0.250000</td>\n",
       "    </tr>\n",
       "    <tr>\n",
       "      <th>4</th>\n",
       "      <td>4</td>\n",
       "      <td>0.166667</td>\n",
       "    </tr>\n",
       "    <tr>\n",
       "      <th>5</th>\n",
       "      <td>5</td>\n",
       "      <td>0.000000</td>\n",
       "    </tr>\n",
       "    <tr>\n",
       "      <th>6</th>\n",
       "      <td>8</td>\n",
       "      <td>0.000000</td>\n",
       "    </tr>\n",
       "  </tbody>\n",
       "</table>\n",
       "</div>"
      ],
      "text/plain": [
       "   SibSp  Survived\n",
       "1      1  0.535885\n",
       "2      2  0.464286\n",
       "0      0  0.345395\n",
       "3      3  0.250000\n",
       "4      4  0.166667\n",
       "5      5  0.000000\n",
       "6      8  0.000000"
      ]
     },
     "execution_count": 10,
     "metadata": {},
     "output_type": "execute_result"
    }
   ],
   "source": [
    "group_by_columns_per_survived('SibSp')"
   ]
  },
  {
   "cell_type": "code",
   "execution_count": 11,
   "metadata": {
    "execution": {
     "iopub.execute_input": "2023-01-07T17:59:57.945801Z",
     "iopub.status.busy": "2023-01-07T17:59:57.945118Z",
     "iopub.status.idle": "2023-01-07T17:59:58.274487Z",
     "shell.execute_reply": "2023-01-07T17:59:58.275008Z",
     "shell.execute_reply.started": "2023-01-07T17:00:19.694227Z"
    },
    "papermill": {
     "duration": 0.378023,
     "end_time": "2023-01-07T17:59:58.275193",
     "exception": false,
     "start_time": "2023-01-07T17:59:57.897170",
     "status": "completed"
    },
    "tags": []
   },
   "outputs": [
    {
     "data": {
      "image/png": "[encoded data removed]",
      "text/plain": [
       "<Figure size 432x288 with 1 Axes>"
      ]
     },
     "metadata": {
      "needs_background": "light"
     },
     "output_type": "display_data"
    }
   ],
   "source": [
    "sns.pointplot(x='SibSp', y='Survived', data=df_train)\n",
    "plt.show()"
   ]
  },
  {
   "cell_type": "markdown",
   "metadata": {
    "papermill": {
     "duration": 0.045644,
     "end_time": "2023-01-07T17:59:58.367003",
     "exception": false,
     "start_time": "2023-01-07T17:59:58.321359",
     "status": "completed"
    },
    "tags": []
   },
   "source": [
    "**Intuition**\n",
    "\n",
    "People with siblings / spouses aboard the Titanic % of survival of people with \n",
    "* 0 siblings: 24\n",
    "* 1 siblings: 55\n",
    "* 2 siblings: 50\n",
    "* 3 siblings: 60\n",
    "* 4 siblings: 0\n",
    "* 5 siblings: 20\n",
    "* 6 siblings: 0"
   ]
  },
  {
   "cell_type": "code",
   "execution_count": 12,
   "metadata": {
    "execution": {
     "iopub.execute_input": "2023-01-07T17:59:58.464197Z",
     "iopub.status.busy": "2023-01-07T17:59:58.463218Z",
     "iopub.status.idle": "2023-01-07T17:59:58.477041Z",
     "shell.execute_reply": "2023-01-07T17:59:58.477518Z",
     "shell.execute_reply.started": "2023-01-07T17:00:20.064057Z"
    },
    "papermill": {
     "duration": 0.063925,
     "end_time": "2023-01-07T17:59:58.477735",
     "exception": false,
     "start_time": "2023-01-07T17:59:58.413810",
     "status": "completed"
    },
    "tags": []
   },
   "outputs": [
    {
     "data": {
      "text/html": [
       "<div>\n",
       "<style scoped>\n",
       "    .dataframe tbody tr th:only-of-type {\n",
       "        vertical-align: middle;\n",
       "    }\n",
       "\n",
       "    .dataframe tbody tr th {\n",
       "        vertical-align: top;\n",
       "    }\n",
       "\n",
       "    .dataframe thead th {\n",
       "        text-align: right;\n",
       "    }\n",
       "</style>\n",
       "<table border=\"1\" class=\"dataframe\">\n",
       "  <thead>\n",
       "    <tr style=\"text-align: right;\">\n",
       "      <th></th>\n",
       "      <th>Parch</th>\n",
       "      <th>Survived</th>\n",
       "    </tr>\n",
       "  </thead>\n",
       "  <tbody>\n",
       "    <tr>\n",
       "      <th>3</th>\n",
       "      <td>3</td>\n",
       "      <td>0.600000</td>\n",
       "    </tr>\n",
       "    <tr>\n",
       "      <th>1</th>\n",
       "      <td>1</td>\n",
       "      <td>0.550847</td>\n",
       "    </tr>\n",
       "    <tr>\n",
       "      <th>2</th>\n",
       "      <td>2</td>\n",
       "      <td>0.500000</td>\n",
       "    </tr>\n",
       "    <tr>\n",
       "      <th>0</th>\n",
       "      <td>0</td>\n",
       "      <td>0.343658</td>\n",
       "    </tr>\n",
       "    <tr>\n",
       "      <th>5</th>\n",
       "      <td>5</td>\n",
       "      <td>0.200000</td>\n",
       "    </tr>\n",
       "    <tr>\n",
       "      <th>4</th>\n",
       "      <td>4</td>\n",
       "      <td>0.000000</td>\n",
       "    </tr>\n",
       "    <tr>\n",
       "      <th>6</th>\n",
       "      <td>6</td>\n",
       "      <td>0.000000</td>\n",
       "    </tr>\n",
       "  </tbody>\n",
       "</table>\n",
       "</div>"
      ],
      "text/plain": [
       "   Parch  Survived\n",
       "3      3  0.600000\n",
       "1      1  0.550847\n",
       "2      2  0.500000\n",
       "0      0  0.343658\n",
       "5      5  0.200000\n",
       "4      4  0.000000\n",
       "6      6  0.000000"
      ]
     },
     "execution_count": 12,
     "metadata": {},
     "output_type": "execute_result"
    }
   ],
   "source": [
    "group_by_columns_per_survived('Parch')"
   ]
  },
  {
   "cell_type": "code",
   "execution_count": 13,
   "metadata": {
    "execution": {
     "iopub.execute_input": "2023-01-07T17:59:58.574957Z",
     "iopub.status.busy": "2023-01-07T17:59:58.573980Z",
     "iopub.status.idle": "2023-01-07T17:59:58.950090Z",
     "shell.execute_reply": "2023-01-07T17:59:58.950597Z",
     "shell.execute_reply.started": "2023-01-07T17:00:20.086748Z"
    },
    "papermill": {
     "duration": 0.426268,
     "end_time": "2023-01-07T17:59:58.950799",
     "exception": false,
     "start_time": "2023-01-07T17:59:58.524531",
     "status": "completed"
    },
    "tags": []
   },
   "outputs": [
    {
     "data": {
      "image/png": "[encoded data removed]",
      "text/plain": [
       "<Figure size 432x288 with 1 Axes>"
      ]
     },
     "metadata": {
      "needs_background": "light"
     },
     "output_type": "display_data"
    }
   ],
   "source": [
    "sns.pointplot(x='Parch', y='Survived', data=df_train)\n",
    "plt.show()"
   ]
  },
  {
   "cell_type": "markdown",
   "metadata": {
    "papermill": {
     "duration": 0.051268,
     "end_time": "2023-01-07T17:59:59.049804",
     "exception": false,
     "start_time": "2023-01-07T17:59:58.998536",
     "status": "completed"
    },
    "tags": []
   },
   "source": [
    "People with parents / children aboard the Titanic\n",
    "\n",
    "% of survival:\n",
    "\n",
    "* 0 parent 34\n",
    "* 1 parent 55\n",
    "* 2 parent 50\n",
    "* 3 parent 60\n",
    "* 4 parent 0\n",
    "* 5 parent 20\n",
    "* 6 parent 0"
   ]
  },
  {
   "cell_type": "code",
   "execution_count": 14,
   "metadata": {
    "execution": {
     "iopub.execute_input": "2023-01-07T17:59:59.169846Z",
     "iopub.status.busy": "2023-01-07T17:59:59.168853Z",
     "iopub.status.idle": "2023-01-07T17:59:59.550651Z",
     "shell.execute_reply": "2023-01-07T17:59:59.551128Z",
     "shell.execute_reply.started": "2023-01-07T17:00:20.504875Z"
    },
    "papermill": {
     "duration": 0.435928,
     "end_time": "2023-01-07T17:59:59.551317",
     "exception": false,
     "start_time": "2023-01-07T17:59:59.115389",
     "status": "completed"
    },
    "tags": []
   },
   "outputs": [
    {
     "data": {
      "text/plain": [
       "<seaborn.axisgrid.FacetGrid at 0x7fc3bae6bf10>"
      ]
     },
     "execution_count": 14,
     "metadata": {},
     "output_type": "execute_result"
    },
    {
     "data": {
      "image/png": "[encoded data removed]",
      "text/plain": [
       "<Figure size 432x216 with 2 Axes>"
      ]
     },
     "metadata": {
      "needs_background": "light"
     },
     "output_type": "display_data"
    }
   ],
   "source": [
    "g = sns.FacetGrid(df_train, col='Survived')\n",
    "g.map(plt.hist, 'Age', bins=20)"
   ]
  },
  {
   "cell_type": "code",
   "execution_count": 15,
   "metadata": {
    "execution": {
     "iopub.execute_input": "2023-01-07T17:59:59.651432Z",
     "iopub.status.busy": "2023-01-07T17:59:59.650479Z",
     "iopub.status.idle": "2023-01-07T18:00:00.812959Z",
     "shell.execute_reply": "2023-01-07T18:00:00.812399Z",
     "shell.execute_reply.started": "2023-01-07T17:00:20.986291Z"
    },
    "papermill": {
     "duration": 1.213747,
     "end_time": "2023-01-07T18:00:00.813124",
     "exception": false,
     "start_time": "2023-01-07T17:59:59.599377",
     "status": "completed"
    },
    "tags": []
   },
   "outputs": [
    {
     "data": {
      "image/png": "[encoded data removed]",
      "text/plain": [
       "<Figure size 440x648 with 6 Axes>"
      ]
     },
     "metadata": {
      "needs_background": "light"
     },
     "output_type": "display_data"
    }
   ],
   "source": [
    "grid = sns.FacetGrid(df_train, col='Survived', row='Pclass')\n",
    "grid.map(plt.hist, 'Age')\n",
    "grid.add_legend();"
   ]
  },
  {
   "cell_type": "code",
   "execution_count": 16,
   "metadata": {
    "execution": {
     "iopub.execute_input": "2023-01-07T18:00:00.918212Z",
     "iopub.status.busy": "2023-01-07T18:00:00.917228Z",
     "iopub.status.idle": "2023-01-07T18:00:02.015098Z",
     "shell.execute_reply": "2023-01-07T18:00:02.014355Z",
     "shell.execute_reply.started": "2023-01-07T17:00:22.386766Z"
    },
    "papermill": {
     "duration": 1.15132,
     "end_time": "2023-01-07T18:00:02.015267",
     "exception": false,
     "start_time": "2023-01-07T18:00:00.863947",
     "status": "completed"
    },
    "tags": []
   },
   "outputs": [
    {
     "name": "stderr",
     "output_type": "stream",
     "text": [
      "/opt/conda/lib/python3.7/site-packages/seaborn/axisgrid.py:643: UserWarning: Using the pointplot function without specifying `order` is likely to produce an incorrect plot.\n",
      "  warnings.warn(warning)\n",
      "/opt/conda/lib/python3.7/site-packages/seaborn/axisgrid.py:648: UserWarning: Using the pointplot function without specifying `hue_order` is likely to produce an incorrect plot.\n",
      "  warnings.warn(warning)\n"
     ]
    },
    {
     "data": {
      "text/plain": [
       "<seaborn.axisgrid.FacetGrid at 0x7fc3b8971910>"
      ]
     },
     "execution_count": 16,
     "metadata": {},
     "output_type": "execute_result"
    },
    {
     "data": {
      "image/png": "[encoded data removed]",
      "text/plain": [
       "<Figure size 286.5x648 with 3 Axes>"
      ]
     },
     "metadata": {
      "needs_background": "light"
     },
     "output_type": "display_data"
    }
   ],
   "source": [
    "grid = sns.FacetGrid(df_train, row='Embarked')\n",
    "grid.map(sns.pointplot, 'Pclass', 'Survived', 'Sex')\n",
    "grid.add_legend()"
   ]
  },
  {
   "cell_type": "markdown",
   "metadata": {
    "papermill": {
     "duration": 0.051438,
     "end_time": "2023-01-07T18:00:02.117870",
     "exception": false,
     "start_time": "2023-01-07T18:00:02.066432",
     "status": "completed"
    },
    "tags": []
   },
   "source": [
    "For embarked C = Cherbourg, Q = Queenstown, S = Southampton\n",
    "\n",
    "It seems like For Queenstown females mostly survived (has a high survival rate) while Cherborg has the opposite true"
   ]
  },
  {
   "cell_type": "code",
   "execution_count": 17,
   "metadata": {
    "execution": {
     "iopub.execute_input": "2023-01-07T18:00:02.225912Z",
     "iopub.status.busy": "2023-01-07T18:00:02.225181Z",
     "iopub.status.idle": "2023-01-07T18:00:02.388762Z",
     "shell.execute_reply": "2023-01-07T18:00:02.388089Z",
     "shell.execute_reply.started": "2023-01-07T17:00:23.672488Z"
    },
    "papermill": {
     "duration": 0.219814,
     "end_time": "2023-01-07T18:00:02.388917",
     "exception": false,
     "start_time": "2023-01-07T18:00:02.169103",
     "status": "completed"
    },
    "tags": []
   },
   "outputs": [
    {
     "data": {
      "image/png": "[encoded data removed]",
      "text/plain": [
       "<Figure size 432x288 with 1 Axes>"
      ]
     },
     "metadata": {
      "needs_background": "light"
     },
     "output_type": "display_data"
    }
   ],
   "source": [
    "sns.countplot(x='Pclass', hue='Survived', data=df_train)\n",
    "plt.show()"
   ]
  },
  {
   "cell_type": "markdown",
   "metadata": {
    "papermill": {
     "duration": 0.052157,
     "end_time": "2023-01-07T18:00:02.494308",
     "exception": false,
     "start_time": "2023-01-07T18:00:02.442151",
     "status": "completed"
    },
    "tags": []
   },
   "source": [
    "For all intents and purposes it seems like you are likely to survive if you are at first class. "
   ]
  },
  {
   "cell_type": "code",
   "execution_count": 18,
   "metadata": {
    "execution": {
     "iopub.execute_input": "2023-01-07T18:00:02.602767Z",
     "iopub.status.busy": "2023-01-07T18:00:02.602076Z",
     "iopub.status.idle": "2023-01-07T18:00:02.936322Z",
     "shell.execute_reply": "2023-01-07T18:00:02.935757Z",
     "shell.execute_reply.started": "2023-01-07T17:00:23.876379Z"
    },
    "papermill": {
     "duration": 0.390152,
     "end_time": "2023-01-07T18:00:02.936488",
     "exception": false,
     "start_time": "2023-01-07T18:00:02.546336",
     "status": "completed"
    },
    "tags": []
   },
   "outputs": [
    {
     "data": {
      "image/png": "[encoded data removed]",
      "text/plain": [
       "<Figure size 432x288 with 1 Axes>"
      ]
     },
     "metadata": {
      "needs_background": "light"
     },
     "output_type": "display_data"
    }
   ],
   "source": [
    "sns.pointplot(x='Pclass', y='Survived', hue='Sex', data=df_train)\n",
    "plt.show()"
   ]
  },
  {
   "cell_type": "markdown",
   "metadata": {
    "papermill": {
     "duration": 0.054555,
     "end_time": "2023-01-07T18:00:03.045672",
     "exception": false,
     "start_time": "2023-01-07T18:00:02.991117",
     "status": "completed"
    },
    "tags": []
   },
   "source": [
    "Woman in first class most likely survived as well"
   ]
  },
  {
   "cell_type": "code",
   "execution_count": 19,
   "metadata": {
    "execution": {
     "iopub.execute_input": "2023-01-07T18:00:03.163772Z",
     "iopub.status.busy": "2023-01-07T18:00:03.163033Z",
     "iopub.status.idle": "2023-01-07T18:00:03.275494Z",
     "shell.execute_reply": "2023-01-07T18:00:03.276007Z",
     "shell.execute_reply.started": "2023-01-07T17:00:24.241233Z"
    },
    "papermill": {
     "duration": 0.17739,
     "end_time": "2023-01-07T18:00:03.276203",
     "exception": false,
     "start_time": "2023-01-07T18:00:03.098813",
     "status": "completed"
    },
    "tags": []
   },
   "outputs": [
    {
     "data": {
      "image/png": "[encoded data removed]",
      "text/plain": [
       "<Figure size 432x288 with 1 Axes>"
      ]
     },
     "metadata": {
      "needs_background": "light"
     },
     "output_type": "display_data"
    }
   ],
   "source": [
    "sns.countplot(x='Embarked', data=df_train)\n",
    "plt.show()"
   ]
  },
  {
   "cell_type": "markdown",
   "metadata": {
    "papermill": {
     "duration": 0.052354,
     "end_time": "2023-01-07T18:00:03.381660",
     "exception": false,
     "start_time": "2023-01-07T18:00:03.329306",
     "status": "completed"
    },
    "tags": []
   },
   "source": [
    "The most common is S for embarked, good idea to fill in with S per default"
   ]
  },
  {
   "cell_type": "code",
   "execution_count": 20,
   "metadata": {
    "execution": {
     "iopub.execute_input": "2023-01-07T18:00:03.491299Z",
     "iopub.status.busy": "2023-01-07T18:00:03.490350Z",
     "iopub.status.idle": "2023-01-07T18:00:04.178815Z",
     "shell.execute_reply": "2023-01-07T18:00:04.179306Z",
     "shell.execute_reply.started": "2023-01-07T17:00:24.384632Z"
    },
    "papermill": {
     "duration": 0.745133,
     "end_time": "2023-01-07T18:00:04.179484",
     "exception": false,
     "start_time": "2023-01-07T18:00:03.434351",
     "status": "completed"
    },
    "tags": []
   },
   "outputs": [
    {
     "data": {
      "image/png": "[encoded data removed]",
      "text/plain": [
       "<Figure size 720x576 with 2 Axes>"
      ]
     },
     "metadata": {
      "needs_background": "light"
     },
     "output_type": "display_data"
    }
   ],
   "source": [
    "sns.heatmap(df_train.corr(),annot=True,cmap='RdYlGn')\n",
    "fig=plt.gcf()\n",
    "fig.set_size_inches(10,8)\n",
    "plt.show()"
   ]
  },
  {
   "cell_type": "markdown",
   "metadata": {
    "papermill": {
     "duration": 0.054895,
     "end_time": "2023-01-07T18:00:04.289189",
     "exception": false,
     "start_time": "2023-01-07T18:00:04.234294",
     "status": "completed"
    },
    "tags": []
   },
   "source": [
    "High values with max 1 means an increase in 1 means increase in another so in that case we do not need 2 features. Looks like we can just join sibling and parent columns into 1"
   ]
  },
  {
   "cell_type": "markdown",
   "metadata": {
    "papermill": {
     "duration": 0.05427,
     "end_time": "2023-01-07T18:00:04.397848",
     "exception": false,
     "start_time": "2023-01-07T18:00:04.343578",
     "status": "completed"
    },
    "tags": []
   },
   "source": [
    "## Organize Data\n",
    "\n",
    "Here we will replace values, add features and remove stuff if needed."
   ]
  },
  {
   "cell_type": "code",
   "execution_count": 21,
   "metadata": {
    "execution": {
     "iopub.execute_input": "2023-01-07T18:00:04.521023Z",
     "iopub.status.busy": "2023-01-07T18:00:04.519249Z",
     "iopub.status.idle": "2023-01-07T18:00:04.523832Z",
     "shell.execute_reply": "2023-01-07T18:00:04.524673Z",
     "shell.execute_reply.started": "2023-01-07T17:00:25.139292Z"
    },
    "papermill": {
     "duration": 0.072509,
     "end_time": "2023-01-07T18:00:04.524940",
     "exception": false,
     "start_time": "2023-01-07T18:00:04.452431",
     "status": "completed"
    },
    "tags": []
   },
   "outputs": [
    {
     "name": "stdout",
     "output_type": "stream",
     "text": [
      "<class 'pandas.core.frame.DataFrame'>\n",
      "RangeIndex: 891 entries, 0 to 890\n",
      "Data columns (total 12 columns):\n",
      " #   Column       Non-Null Count  Dtype  \n",
      "---  ------       --------------  -----  \n",
      " 0   PassengerId  891 non-null    int64  \n",
      " 1   Survived     891 non-null    int64  \n",
      " 2   Pclass       891 non-null    int64  \n",
      " 3   Name         891 non-null    object \n",
      " 4   Sex          891 non-null    object \n",
      " 5   Age          714 non-null    float64\n",
      " 6   SibSp        891 non-null    int64  \n",
      " 7   Parch        891 non-null    int64  \n",
      " 8   Ticket       891 non-null    object \n",
      " 9   Fare         891 non-null    float64\n",
      " 10  Cabin        204 non-null    object \n",
      " 11  Embarked     889 non-null    object \n",
      "dtypes: float64(2), int64(5), object(5)\n",
      "memory usage: 83.7+ KB\n"
     ]
    }
   ],
   "source": [
    "df_train.info()"
   ]
  },
  {
   "cell_type": "markdown",
   "metadata": {
    "papermill": {
     "duration": 0.054876,
     "end_time": "2023-01-07T18:00:04.636393",
     "exception": false,
     "start_time": "2023-01-07T18:00:04.581517",
     "status": "completed"
    },
    "tags": []
   },
   "source": [
    "## Remove unnecessary features\n",
    "\n",
    "We can remove the following from the start: \n",
    "\n",
    "* Passenger ID is just an id and does not mean much\n",
    "* Name is irrelevant to us ( we can maybe take a look at the titles the passengers have )\n",
    "* Ticket is the ticket number and is not relevant to us\n"
   ]
  },
  {
   "cell_type": "code",
   "execution_count": 22,
   "metadata": {
    "execution": {
     "iopub.execute_input": "2023-01-07T18:00:04.750139Z",
     "iopub.status.busy": "2023-01-07T18:00:04.749475Z",
     "iopub.status.idle": "2023-01-07T18:00:04.756510Z",
     "shell.execute_reply": "2023-01-07T18:00:04.755999Z",
     "shell.execute_reply.started": "2023-01-07T17:00:25.158844Z"
    },
    "papermill": {
     "duration": 0.064407,
     "end_time": "2023-01-07T18:00:04.756658",
     "exception": false,
     "start_time": "2023-01-07T18:00:04.692251",
     "status": "completed"
    },
    "tags": []
   },
   "outputs": [],
   "source": [
    "df_train = df_train.drop(['PassengerId', 'Name', 'Ticket'], axis=1)\n",
    "df_test = df_test.drop(['PassengerId', 'Name', 'Ticket'], axis=1)"
   ]
  },
  {
   "cell_type": "code",
   "execution_count": 23,
   "metadata": {
    "execution": {
     "iopub.execute_input": "2023-01-07T18:00:04.869888Z",
     "iopub.status.busy": "2023-01-07T18:00:04.869240Z",
     "iopub.status.idle": "2023-01-07T18:00:04.883791Z",
     "shell.execute_reply": "2023-01-07T18:00:04.883118Z",
     "shell.execute_reply.started": "2023-01-07T17:00:25.175666Z"
    },
    "papermill": {
     "duration": 0.072384,
     "end_time": "2023-01-07T18:00:04.883946",
     "exception": false,
     "start_time": "2023-01-07T18:00:04.811562",
     "status": "completed"
    },
    "tags": []
   },
   "outputs": [
    {
     "name": "stdout",
     "output_type": "stream",
     "text": [
      "<class 'pandas.core.frame.DataFrame'>\n",
      "RangeIndex: 891 entries, 0 to 890\n",
      "Data columns (total 9 columns):\n",
      " #   Column    Non-Null Count  Dtype  \n",
      "---  ------    --------------  -----  \n",
      " 0   Survived  891 non-null    int64  \n",
      " 1   Pclass    891 non-null    int64  \n",
      " 2   Sex       891 non-null    object \n",
      " 3   Age       714 non-null    float64\n",
      " 4   SibSp     891 non-null    int64  \n",
      " 5   Parch     891 non-null    int64  \n",
      " 6   Fare      891 non-null    float64\n",
      " 7   Cabin     204 non-null    object \n",
      " 8   Embarked  889 non-null    object \n",
      "dtypes: float64(2), int64(4), object(3)\n",
      "memory usage: 62.8+ KB\n"
     ]
    }
   ],
   "source": [
    "df_train.info()"
   ]
  },
  {
   "cell_type": "markdown",
   "metadata": {
    "papermill": {
     "duration": 0.054701,
     "end_time": "2023-01-07T18:00:04.993689",
     "exception": false,
     "start_time": "2023-01-07T18:00:04.938988",
     "status": "completed"
    },
    "tags": []
   },
   "source": [
    "## Handle siblings\n",
    "\n",
    "We have SibSp and Parch which can be summed up into num_family."
   ]
  },
  {
   "cell_type": "code",
   "execution_count": 24,
   "metadata": {
    "execution": {
     "iopub.execute_input": "2023-01-07T18:00:05.109935Z",
     "iopub.status.busy": "2023-01-07T18:00:05.109186Z",
     "iopub.status.idle": "2023-01-07T18:00:05.115807Z",
     "shell.execute_reply": "2023-01-07T18:00:05.116311Z",
     "shell.execute_reply.started": "2023-01-07T17:00:25.210018Z"
    },
    "papermill": {
     "duration": 0.065487,
     "end_time": "2023-01-07T18:00:05.116501",
     "exception": false,
     "start_time": "2023-01-07T18:00:05.051014",
     "status": "completed"
    },
    "tags": []
   },
   "outputs": [],
   "source": [
    "df_train['num_family'] = df_train['SibSp'] + df_train['Parch'] + 1\n",
    "df_test['num_family'] = df_test['SibSp'] + df_test['Parch'] + 1"
   ]
  },
  {
   "cell_type": "markdown",
   "metadata": {
    "papermill": {
     "duration": 0.055396,
     "end_time": "2023-01-07T18:00:05.229500",
     "exception": false,
     "start_time": "2023-01-07T18:00:05.174104",
     "status": "completed"
    },
    "tags": []
   },
   "source": [
    "We can also use a boolean value to indicate if the passenger was alone since that is a strong indicator if the passenger survived or not"
   ]
  },
  {
   "cell_type": "code",
   "execution_count": 25,
   "metadata": {
    "execution": {
     "iopub.execute_input": "2023-01-07T18:00:05.349262Z",
     "iopub.status.busy": "2023-01-07T18:00:05.348580Z",
     "iopub.status.idle": "2023-01-07T18:00:05.351967Z",
     "shell.execute_reply": "2023-01-07T18:00:05.351353Z",
     "shell.execute_reply.started": "2023-01-07T17:00:25.223332Z"
    },
    "papermill": {
     "duration": 0.066292,
     "end_time": "2023-01-07T18:00:05.352128",
     "exception": false,
     "start_time": "2023-01-07T18:00:05.285836",
     "status": "completed"
    },
    "tags": []
   },
   "outputs": [],
   "source": [
    "df_train['is_alone'] = np.where(df_train['num_family'] > 1, 0, 1)\n",
    "df_test['is_alone'] = np.where(df_test['num_family'] > 1, 0, 1)"
   ]
  },
  {
   "cell_type": "code",
   "execution_count": 26,
   "metadata": {
    "execution": {
     "iopub.execute_input": "2023-01-07T18:00:05.469095Z",
     "iopub.status.busy": "2023-01-07T18:00:05.468381Z",
     "iopub.status.idle": "2023-01-07T18:00:05.476838Z",
     "shell.execute_reply": "2023-01-07T18:00:05.476183Z",
     "shell.execute_reply.started": "2023-01-07T17:00:25.238738Z"
    },
    "papermill": {
     "duration": 0.068531,
     "end_time": "2023-01-07T18:00:05.476994",
     "exception": false,
     "start_time": "2023-01-07T18:00:05.408463",
     "status": "completed"
    },
    "tags": []
   },
   "outputs": [
    {
     "data": {
      "text/plain": [
       "count    891.000000\n",
       "mean       0.602694\n",
       "std        0.489615\n",
       "min        0.000000\n",
       "25%        0.000000\n",
       "50%        1.000000\n",
       "75%        1.000000\n",
       "max        1.000000\n",
       "Name: is_alone, dtype: float64"
      ]
     },
     "execution_count": 26,
     "metadata": {},
     "output_type": "execute_result"
    }
   ],
   "source": [
    "df_train['is_alone'].describe()"
   ]
  },
  {
   "cell_type": "markdown",
   "metadata": {
    "papermill": {
     "duration": 0.055291,
     "end_time": "2023-01-07T18:00:05.587824",
     "exception": false,
     "start_time": "2023-01-07T18:00:05.532533",
     "status": "completed"
    },
    "tags": []
   },
   "source": [
    "Lets see how the feature fares"
   ]
  },
  {
   "cell_type": "code",
   "execution_count": 27,
   "metadata": {
    "execution": {
     "iopub.execute_input": "2023-01-07T18:00:05.723163Z",
     "iopub.status.busy": "2023-01-07T18:00:05.720670Z",
     "iopub.status.idle": "2023-01-07T18:00:06.241605Z",
     "shell.execute_reply": "2023-01-07T18:00:06.240944Z",
     "shell.execute_reply.started": "2023-01-07T17:00:25.260233Z"
    },
    "papermill": {
     "duration": 0.598684,
     "end_time": "2023-01-07T18:00:06.241773",
     "exception": false,
     "start_time": "2023-01-07T18:00:05.643089",
     "status": "completed"
    },
    "tags": []
   },
   "outputs": [
    {
     "data": {
      "image/png": "[encoded data removed]",
      "text/plain": [
       "<Figure size 432x288 with 2 Axes>"
      ]
     },
     "metadata": {
      "needs_background": "light"
     },
     "output_type": "display_data"
    }
   ],
   "source": [
    "f,ax=plt.subplots(1,2)\n",
    "sns.pointplot(x='num_family',y='Survived',data=df_train,ax=ax[0])\n",
    "ax[0].set_title('num_family vs Survived')\n",
    "sns.pointplot(x='is_alone',y='Survived',data=df_train,ax=ax[1])\n",
    "ax[1].set_title('is_alone vs Survived')\n",
    "plt.close(2)\n",
    "plt.close(3)\n",
    "plt.show()"
   ]
  },
  {
   "cell_type": "markdown",
   "metadata": {
    "papermill": {
     "duration": 0.059662,
     "end_time": "2023-01-07T18:00:06.358656",
     "exception": false,
     "start_time": "2023-01-07T18:00:06.298994",
     "status": "completed"
    },
    "tags": []
   },
   "source": [
    "Being alone or not seems like a better predictor since \"is_alone\" reflects that survival is better when not alone"
   ]
  },
  {
   "cell_type": "code",
   "execution_count": 28,
   "metadata": {
    "execution": {
     "iopub.execute_input": "2023-01-07T18:00:06.484262Z",
     "iopub.status.busy": "2023-01-07T18:00:06.481836Z",
     "iopub.status.idle": "2023-01-07T18:00:06.488239Z",
     "shell.execute_reply": "2023-01-07T18:00:06.487578Z",
     "shell.execute_reply.started": "2023-01-07T17:00:25.839270Z"
    },
    "papermill": {
     "duration": 0.072902,
     "end_time": "2023-01-07T18:00:06.488392",
     "exception": false,
     "start_time": "2023-01-07T18:00:06.415490",
     "status": "completed"
    },
    "tags": []
   },
   "outputs": [],
   "source": [
    "df_train = df_train.drop(['SibSp', 'Parch', 'num_family'], axis=1)\n",
    "df_test = df_test.drop(['SibSp', 'Parch', 'num_family'], axis=1)"
   ]
  },
  {
   "cell_type": "code",
   "execution_count": 29,
   "metadata": {
    "execution": {
     "iopub.execute_input": "2023-01-07T18:00:06.619815Z",
     "iopub.status.busy": "2023-01-07T18:00:06.619152Z",
     "iopub.status.idle": "2023-01-07T18:00:06.623218Z",
     "shell.execute_reply": "2023-01-07T18:00:06.623878Z",
     "shell.execute_reply.started": "2023-01-07T17:00:25.852666Z"
    },
    "papermill": {
     "duration": 0.077089,
     "end_time": "2023-01-07T18:00:06.624068",
     "exception": false,
     "start_time": "2023-01-07T18:00:06.546979",
     "status": "completed"
    },
    "tags": []
   },
   "outputs": [
    {
     "name": "stdout",
     "output_type": "stream",
     "text": [
      "<class 'pandas.core.frame.DataFrame'>\n",
      "RangeIndex: 891 entries, 0 to 890\n",
      "Data columns (total 8 columns):\n",
      " #   Column    Non-Null Count  Dtype  \n",
      "---  ------    --------------  -----  \n",
      " 0   Survived  891 non-null    int64  \n",
      " 1   Pclass    891 non-null    int64  \n",
      " 2   Sex       891 non-null    object \n",
      " 3   Age       714 non-null    float64\n",
      " 4   Fare      891 non-null    float64\n",
      " 5   Cabin     204 non-null    object \n",
      " 6   Embarked  889 non-null    object \n",
      " 7   is_alone  891 non-null    int64  \n",
      "dtypes: float64(2), int64(3), object(3)\n",
      "memory usage: 55.8+ KB\n"
     ]
    }
   ],
   "source": [
    "df_train.info()"
   ]
  },
  {
   "cell_type": "markdown",
   "metadata": {
    "papermill": {
     "duration": 0.056562,
     "end_time": "2023-01-07T18:00:06.737529",
     "exception": false,
     "start_time": "2023-01-07T18:00:06.680967",
     "status": "completed"
    },
    "tags": []
   },
   "source": [
    "I will also drop cabin because it has lots of Nan's and we have the information it could give us from other variables like class"
   ]
  },
  {
   "cell_type": "code",
   "execution_count": 30,
   "metadata": {
    "execution": {
     "iopub.execute_input": "2023-01-07T18:00:06.859288Z",
     "iopub.status.busy": "2023-01-07T18:00:06.858542Z",
     "iopub.status.idle": "2023-01-07T18:00:06.861829Z",
     "shell.execute_reply": "2023-01-07T18:00:06.861269Z",
     "shell.execute_reply.started": "2023-01-07T17:00:25.874006Z"
    },
    "papermill": {
     "duration": 0.06765,
     "end_time": "2023-01-07T18:00:06.861990",
     "exception": false,
     "start_time": "2023-01-07T18:00:06.794340",
     "status": "completed"
    },
    "tags": []
   },
   "outputs": [],
   "source": [
    "df_train = df_train.drop(['Cabin'], axis=1)\n",
    "df_test = df_test.drop(['Cabin'], axis=1)"
   ]
  },
  {
   "cell_type": "markdown",
   "metadata": {
    "papermill": {
     "duration": 0.056686,
     "end_time": "2023-01-07T18:00:06.976133",
     "exception": false,
     "start_time": "2023-01-07T18:00:06.919447",
     "status": "completed"
    },
    "tags": []
   },
   "source": [
    "We should convert categorical values to ints as well"
   ]
  },
  {
   "cell_type": "code",
   "execution_count": 31,
   "metadata": {
    "execution": {
     "iopub.execute_input": "2023-01-07T18:00:07.105370Z",
     "iopub.status.busy": "2023-01-07T18:00:07.104732Z",
     "iopub.status.idle": "2023-01-07T18:00:07.107740Z",
     "shell.execute_reply": "2023-01-07T18:00:07.107092Z",
     "shell.execute_reply.started": "2023-01-07T17:00:25.885696Z"
    },
    "papermill": {
     "duration": 0.068361,
     "end_time": "2023-01-07T18:00:07.107890",
     "exception": false,
     "start_time": "2023-01-07T18:00:07.039529",
     "status": "completed"
    },
    "tags": []
   },
   "outputs": [],
   "source": [
    "df_train[\"Sex\"] = np.where(df_train[\"Sex\"] == \"male\", 0, 1)\n",
    "df_test[\"Sex\"] = np.where(df_test[\"Sex\"] == \"male\", 0, 1)"
   ]
  },
  {
   "cell_type": "markdown",
   "metadata": {
    "papermill": {
     "duration": 0.056228,
     "end_time": "2023-01-07T18:00:07.220735",
     "exception": false,
     "start_time": "2023-01-07T18:00:07.164507",
     "status": "completed"
    },
    "tags": []
   },
   "source": [
    "Now we need to fill in the nans in embarked. Since the most common Embarked is S we will take it by default"
   ]
  },
  {
   "cell_type": "code",
   "execution_count": 32,
   "metadata": {
    "execution": {
     "iopub.execute_input": "2023-01-07T18:00:07.339692Z",
     "iopub.status.busy": "2023-01-07T18:00:07.339046Z",
     "iopub.status.idle": "2023-01-07T18:00:07.342186Z",
     "shell.execute_reply": "2023-01-07T18:00:07.341680Z",
     "shell.execute_reply.started": "2023-01-07T17:00:25.902126Z"
    },
    "papermill": {
     "duration": 0.065289,
     "end_time": "2023-01-07T18:00:07.342330",
     "exception": false,
     "start_time": "2023-01-07T18:00:07.277041",
     "status": "completed"
    },
    "tags": []
   },
   "outputs": [],
   "source": [
    "df_train['Embarked'] = df_train['Embarked'].fillna('S')\n",
    "df_test['Embarked'] = df_test['Embarked'].fillna('S')"
   ]
  },
  {
   "cell_type": "markdown",
   "metadata": {
    "papermill": {
     "duration": 0.057293,
     "end_time": "2023-01-07T18:00:07.457448",
     "exception": false,
     "start_time": "2023-01-07T18:00:07.400155",
     "status": "completed"
    },
    "tags": []
   },
   "source": [
    "And cast to int"
   ]
  },
  {
   "cell_type": "code",
   "execution_count": 33,
   "metadata": {
    "execution": {
     "iopub.execute_input": "2023-01-07T18:00:07.581581Z",
     "iopub.status.busy": "2023-01-07T18:00:07.580885Z",
     "iopub.status.idle": "2023-01-07T18:00:07.584557Z",
     "shell.execute_reply": "2023-01-07T18:00:07.583917Z",
     "shell.execute_reply.started": "2023-01-07T17:00:25.914436Z"
    },
    "papermill": {
     "duration": 0.069612,
     "end_time": "2023-01-07T18:00:07.584724",
     "exception": false,
     "start_time": "2023-01-07T18:00:07.515112",
     "status": "completed"
    },
    "tags": []
   },
   "outputs": [],
   "source": [
    "df_train['Embarked'] = df_train['Embarked'].map( {'S': 0, 'C': 1, 'Q': 2} ).astype(int)\n",
    "df_test['Embarked'] = df_test['Embarked'].map( {'S': 0, 'C': 1, 'Q': 2} ).astype(int)"
   ]
  },
  {
   "cell_type": "markdown",
   "metadata": {
    "papermill": {
     "duration": 0.056677,
     "end_time": "2023-01-07T18:00:07.698180",
     "exception": false,
     "start_time": "2023-01-07T18:00:07.641503",
     "status": "completed"
    },
    "tags": []
   },
   "source": [
    "Fill in the age with median value for now"
   ]
  },
  {
   "cell_type": "code",
   "execution_count": 34,
   "metadata": {
    "execution": {
     "iopub.execute_input": "2023-01-07T18:00:07.818855Z",
     "iopub.status.busy": "2023-01-07T18:00:07.818200Z",
     "iopub.status.idle": "2023-01-07T18:00:07.821061Z",
     "shell.execute_reply": "2023-01-07T18:00:07.820546Z",
     "shell.execute_reply.started": "2023-01-07T17:00:25.931049Z"
    },
    "papermill": {
     "duration": 0.066131,
     "end_time": "2023-01-07T18:00:07.821212",
     "exception": false,
     "start_time": "2023-01-07T18:00:07.755081",
     "status": "completed"
    },
    "tags": []
   },
   "outputs": [],
   "source": [
    "df_train['Age'] = df_train['Age'].fillna(df_train['Age'].median())\n",
    "df_test['Age'] = df_test['Age'].fillna(df_test['Age'].median())"
   ]
  },
  {
   "cell_type": "code",
   "execution_count": 35,
   "metadata": {
    "execution": {
     "iopub.execute_input": "2023-01-07T18:00:07.945058Z",
     "iopub.status.busy": "2023-01-07T18:00:07.944383Z",
     "iopub.status.idle": "2023-01-07T18:00:07.949737Z",
     "shell.execute_reply": "2023-01-07T18:00:07.949183Z",
     "shell.execute_reply.started": "2023-01-07T17:00:25.952379Z"
    },
    "papermill": {
     "duration": 0.070534,
     "end_time": "2023-01-07T18:00:07.949917",
     "exception": false,
     "start_time": "2023-01-07T18:00:07.879383",
     "status": "completed"
    },
    "tags": []
   },
   "outputs": [
    {
     "data": {
      "text/plain": [
       "Survived    0\n",
       "Pclass      0\n",
       "Sex         0\n",
       "Age         0\n",
       "Fare        0\n",
       "Embarked    0\n",
       "is_alone    0\n",
       "dtype: int64"
      ]
     },
     "execution_count": 35,
     "metadata": {},
     "output_type": "execute_result"
    }
   ],
   "source": [
    "df_train.isnull().sum()"
   ]
  },
  {
   "cell_type": "code",
   "execution_count": 36,
   "metadata": {
    "execution": {
     "iopub.execute_input": "2023-01-07T18:00:08.078738Z",
     "iopub.status.busy": "2023-01-07T18:00:08.078074Z",
     "iopub.status.idle": "2023-01-07T18:00:08.084267Z",
     "shell.execute_reply": "2023-01-07T18:00:08.083622Z",
     "shell.execute_reply.started": "2023-01-07T17:00:25.972537Z"
    },
    "papermill": {
     "duration": 0.076806,
     "end_time": "2023-01-07T18:00:08.084434",
     "exception": false,
     "start_time": "2023-01-07T18:00:08.007628",
     "status": "completed"
    },
    "tags": []
   },
   "outputs": [
    {
     "data": {
      "text/html": [
       "<div>\n",
       "<style scoped>\n",
       "    .dataframe tbody tr th:only-of-type {\n",
       "        vertical-align: middle;\n",
       "    }\n",
       "\n",
       "    .dataframe tbody tr th {\n",
       "        vertical-align: top;\n",
       "    }\n",
       "\n",
       "    .dataframe thead th {\n",
       "        text-align: right;\n",
       "    }\n",
       "</style>\n",
       "<table border=\"1\" class=\"dataframe\">\n",
       "  <thead>\n",
       "    <tr style=\"text-align: right;\">\n",
       "      <th></th>\n",
       "      <th>Survived</th>\n",
       "      <th>Pclass</th>\n",
       "      <th>Sex</th>\n",
       "      <th>Age</th>\n",
       "      <th>Fare</th>\n",
       "      <th>Embarked</th>\n",
       "      <th>is_alone</th>\n",
       "    </tr>\n",
       "  </thead>\n",
       "  <tbody>\n",
       "    <tr>\n",
       "      <th>0</th>\n",
       "      <td>0</td>\n",
       "      <td>3</td>\n",
       "      <td>0</td>\n",
       "      <td>22.0</td>\n",
       "      <td>7.2500</td>\n",
       "      <td>0</td>\n",
       "      <td>0</td>\n",
       "    </tr>\n",
       "    <tr>\n",
       "      <th>1</th>\n",
       "      <td>1</td>\n",
       "      <td>1</td>\n",
       "      <td>1</td>\n",
       "      <td>38.0</td>\n",
       "      <td>71.2833</td>\n",
       "      <td>1</td>\n",
       "      <td>0</td>\n",
       "    </tr>\n",
       "    <tr>\n",
       "      <th>2</th>\n",
       "      <td>1</td>\n",
       "      <td>3</td>\n",
       "      <td>1</td>\n",
       "      <td>26.0</td>\n",
       "      <td>7.9250</td>\n",
       "      <td>0</td>\n",
       "      <td>1</td>\n",
       "    </tr>\n",
       "    <tr>\n",
       "      <th>3</th>\n",
       "      <td>1</td>\n",
       "      <td>1</td>\n",
       "      <td>1</td>\n",
       "      <td>35.0</td>\n",
       "      <td>53.1000</td>\n",
       "      <td>0</td>\n",
       "      <td>0</td>\n",
       "    </tr>\n",
       "    <tr>\n",
       "      <th>4</th>\n",
       "      <td>0</td>\n",
       "      <td>3</td>\n",
       "      <td>0</td>\n",
       "      <td>35.0</td>\n",
       "      <td>8.0500</td>\n",
       "      <td>0</td>\n",
       "      <td>1</td>\n",
       "    </tr>\n",
       "  </tbody>\n",
       "</table>\n",
       "</div>"
      ],
      "text/plain": [
       "   Survived  Pclass  Sex   Age     Fare  Embarked  is_alone\n",
       "0         0       3    0  22.0   7.2500         0         0\n",
       "1         1       1    1  38.0  71.2833         1         0\n",
       "2         1       3    1  26.0   7.9250         0         1\n",
       "3         1       1    1  35.0  53.1000         0         0\n",
       "4         0       3    0  35.0   8.0500         0         1"
      ]
     },
     "execution_count": 36,
     "metadata": {},
     "output_type": "execute_result"
    }
   ],
   "source": [
    "df_train.head()"
   ]
  },
  {
   "cell_type": "code",
   "execution_count": 37,
   "metadata": {
    "execution": {
     "iopub.execute_input": "2023-01-07T18:00:08.206161Z",
     "iopub.status.busy": "2023-01-07T18:00:08.205300Z",
     "iopub.status.idle": "2023-01-07T18:00:08.778317Z",
     "shell.execute_reply": "2023-01-07T18:00:08.777646Z",
     "shell.execute_reply.started": "2023-01-07T17:00:25.990037Z"
    },
    "papermill": {
     "duration": 0.635972,
     "end_time": "2023-01-07T18:00:08.778474",
     "exception": false,
     "start_time": "2023-01-07T18:00:08.142502",
     "status": "completed"
    },
    "tags": []
   },
   "outputs": [
    {
     "data": {
      "image/png": "[encoded data removed]",
      "text/plain": [
       "<Figure size 720x576 with 2 Axes>"
      ]
     },
     "metadata": {
      "needs_background": "light"
     },
     "output_type": "display_data"
    }
   ],
   "source": [
    "sns.heatmap(df_train.corr(),annot=True,cmap='RdYlGn')\n",
    "fig=plt.gcf()\n",
    "fig.set_size_inches(10,8)\n",
    "plt.show()"
   ]
  },
  {
   "cell_type": "markdown",
   "metadata": {
    "papermill": {
     "duration": 0.061716,
     "end_time": "2023-01-07T18:00:08.899487",
     "exception": false,
     "start_time": "2023-01-07T18:00:08.837771",
     "status": "completed"
    },
    "tags": []
   },
   "source": [
    "For fare we dont really have a need becase higher classes will be more expensive"
   ]
  },
  {
   "cell_type": "code",
   "execution_count": 38,
   "metadata": {
    "execution": {
     "iopub.execute_input": "2023-01-07T18:00:09.030050Z",
     "iopub.status.busy": "2023-01-07T18:00:09.027355Z",
     "iopub.status.idle": "2023-01-07T18:00:09.034621Z",
     "shell.execute_reply": "2023-01-07T18:00:09.032556Z",
     "shell.execute_reply.started": "2023-01-07T17:00:26.609365Z"
    },
    "papermill": {
     "duration": 0.076115,
     "end_time": "2023-01-07T18:00:09.034813",
     "exception": false,
     "start_time": "2023-01-07T18:00:08.958698",
     "status": "completed"
    },
    "tags": []
   },
   "outputs": [],
   "source": [
    "df_train = df_train.drop(['Fare'], axis=1)\n",
    "df_test = df_test.drop(['Fare'], axis=1)"
   ]
  },
  {
   "cell_type": "markdown",
   "metadata": {
    "papermill": {
     "duration": 0.058611,
     "end_time": "2023-01-07T18:00:09.152601",
     "exception": false,
     "start_time": "2023-01-07T18:00:09.093990",
     "status": "completed"
    },
    "tags": []
   },
   "source": [
    "## Modeling\n",
    "\n",
    "First we will prepare the X and y for training the model"
   ]
  },
  {
   "cell_type": "code",
   "execution_count": 39,
   "metadata": {
    "execution": {
     "iopub.execute_input": "2023-01-07T18:00:09.278131Z",
     "iopub.status.busy": "2023-01-07T18:00:09.277172Z",
     "iopub.status.idle": "2023-01-07T18:00:09.280787Z",
     "shell.execute_reply": "2023-01-07T18:00:09.280235Z",
     "shell.execute_reply.started": "2023-01-07T17:00:26.621009Z"
    },
    "papermill": {
     "duration": 0.069217,
     "end_time": "2023-01-07T18:00:09.280950",
     "exception": false,
     "start_time": "2023-01-07T18:00:09.211733",
     "status": "completed"
    },
    "tags": []
   },
   "outputs": [],
   "source": [
    "X_train = df_train.drop(\"Survived\", axis=1)\n",
    "Y_train = df_train[\"Survived\"]\n",
    "X_test = df_test.copy()"
   ]
  },
  {
   "cell_type": "markdown",
   "metadata": {
    "papermill": {
     "duration": 0.058585,
     "end_time": "2023-01-07T18:00:09.398464",
     "exception": false,
     "start_time": "2023-01-07T18:00:09.339879",
     "status": "completed"
    },
    "tags": []
   },
   "source": [
    "Before we start we should create helper methods for validation metrics"
   ]
  },
  {
   "cell_type": "code",
   "execution_count": 40,
   "metadata": {
    "execution": {
     "iopub.execute_input": "2023-01-07T18:00:09.523726Z",
     "iopub.status.busy": "2023-01-07T18:00:09.523041Z",
     "iopub.status.idle": "2023-01-07T18:00:09.718768Z",
     "shell.execute_reply": "2023-01-07T18:00:09.718146Z",
     "shell.execute_reply.started": "2023-01-07T17:07:50.661945Z"
    },
    "papermill": {
     "duration": 0.261617,
     "end_time": "2023-01-07T18:00:09.718945",
     "exception": false,
     "start_time": "2023-01-07T18:00:09.457328",
     "status": "completed"
    },
    "tags": []
   },
   "outputs": [],
   "source": [
    "from sklearn.model_selection import (\n",
    "    cross_val_score,\n",
    "    cross_val_predict\n",
    ")\n",
    "from sklearn.metrics import (\n",
    "    confusion_matrix,\n",
    "    precision_score,\n",
    "    recall_score,\n",
    "    f1_score\n",
    ")\n",
    "\n",
    "def show_metrics(model, train_x, train_y):\n",
    "    print('Cross validation score:', cross_val_score(model, train_x, train_y, cv=3, scoring=\"accuracy\"))\n",
    "    predict_y = cross_val_predict(model, train_x, train_y, cv=3)\n",
    "    print('Confusion matrix:\\n', confusion_matrix(train_y, predict_y))\n",
    "    print('Precision: ', precision_score(train_y, predict_y), 'Recall:', recall_score(train_y, predict_y), 'F1:', f1_score(train_y, predict_y))\n",
    "    print('Score', round(model.score(X_train, Y_train) * 100, 2))"
   ]
  },
  {
   "cell_type": "code",
   "execution_count": 41,
   "metadata": {
    "execution": {
     "iopub.execute_input": "2023-01-07T18:00:09.843253Z",
     "iopub.status.busy": "2023-01-07T18:00:09.842536Z",
     "iopub.status.idle": "2023-01-07T18:00:09.982929Z",
     "shell.execute_reply": "2023-01-07T18:00:09.983459Z",
     "shell.execute_reply.started": "2023-01-07T17:07:30.613200Z"
    },
    "papermill": {
     "duration": 0.204787,
     "end_time": "2023-01-07T18:00:09.983660",
     "exception": false,
     "start_time": "2023-01-07T18:00:09.778873",
     "status": "completed"
    },
    "tags": []
   },
   "outputs": [
    {
     "name": "stdout",
     "output_type": "stream",
     "text": [
      "Cross validation score: [0.78114478 0.76094276 0.8047138 ]\n",
      "Confusion matrix:\n",
      " [[475  74]\n",
      " [120 222]]\n",
      "Precision:  0.75 Recall: 0.6491228070175439 F1: 0.6959247648902821\n",
      "Score 73.06\n"
     ]
    }
   ],
   "source": [
    "# To get a baseline model\n",
    "from sklearn.linear_model import SGDClassifier\n",
    "\n",
    "sgd_clf = SGDClassifier(max_iter=1000, tol=1e-3, random_state=42)\n",
    "sgd_clf.fit(X_train, Y_train)\n",
    "\n",
    "show_metrics(sgd_clf, X_train, Y_train)"
   ]
  },
  {
   "cell_type": "code",
   "execution_count": 42,
   "metadata": {
    "execution": {
     "iopub.execute_input": "2023-01-07T18:00:10.136396Z",
     "iopub.status.busy": "2023-01-07T18:00:10.135753Z",
     "iopub.status.idle": "2023-01-07T18:00:11.611994Z",
     "shell.execute_reply": "2023-01-07T18:00:11.611306Z",
     "shell.execute_reply.started": "2023-01-07T17:07:52.892843Z"
    },
    "papermill": {
     "duration": 1.56223,
     "end_time": "2023-01-07T18:00:11.612154",
     "exception": false,
     "start_time": "2023-01-07T18:00:10.049924",
     "status": "completed"
    },
    "tags": []
   },
   "outputs": [
    {
     "name": "stdout",
     "output_type": "stream",
     "text": [
      "Cross validation score: [0.77104377 0.8047138  0.76430976]\n",
      "Confusion matrix:\n",
      " [[451  98]\n",
      " [106 236]]\n",
      "Precision:  0.7065868263473054 Recall: 0.6900584795321637 F1: 0.6982248520710058\n",
      "Score 91.58\n"
     ]
    }
   ],
   "source": [
    "from sklearn.ensemble import RandomForestClassifier\n",
    "\n",
    "random_forest = RandomForestClassifier(n_estimators=100)\n",
    "\n",
    "random_forest.fit(X_train, Y_train)\n",
    "\n",
    "show_metrics(random_forest, X_train, Y_train)"
   ]
  },
  {
   "cell_type": "code",
   "execution_count": 43,
   "metadata": {
    "execution": {
     "iopub.execute_input": "2023-01-07T18:00:11.743724Z",
     "iopub.status.busy": "2023-01-07T18:00:11.742632Z",
     "iopub.status.idle": "2023-01-07T18:00:12.715982Z",
     "shell.execute_reply": "2023-01-07T18:00:12.717070Z",
     "shell.execute_reply.started": "2023-01-07T17:08:55.399727Z"
    },
    "papermill": {
     "duration": 1.044465,
     "end_time": "2023-01-07T18:00:12.717293",
     "exception": false,
     "start_time": "2023-01-07T18:00:11.672828",
     "status": "completed"
    },
    "tags": []
   },
   "outputs": [
    {
     "name": "stderr",
     "output_type": "stream",
     "text": [
      "/opt/conda/lib/python3.7/site-packages/xgboost/sklearn.py:888: UserWarning: The use of label encoder in XGBClassifier is deprecated and will be removed in a future release. To remove this warning, do the following: 1) Pass option use_label_encoder=False when constructing XGBClassifier object; and 2) Encode your labels (y) as integers starting with 0, i.e. 0, 1, 2, ..., [num_class - 1].\n",
      "  warnings.warn(label_encoder_deprecation_msg, UserWarning)\n"
     ]
    },
    {
     "name": "stdout",
     "output_type": "stream",
     "text": [
      "[18:00:12] WARNING: ../src/learner.cc:1061: Starting in XGBoost 1.3.0, the default evaluation metric used with the objective 'binary:logistic' was changed from 'error' to 'logloss'. Explicitly set eval_metric if you'd like to restore the old behavior.\n",
      "[18:00:12] WARNING: ../src/learner.cc:1061: Starting in XGBoost 1.3.0, the default evaluation metric used with the objective 'binary:logistic' was changed from 'error' to 'logloss'. Explicitly set eval_metric if you'd like to restore the old behavior.\n",
      "[18:00:12] WARNING: ../src/learner.cc:1061: Starting in XGBoost 1.3.0, the default evaluation metric used with the objective 'binary:logistic' was changed from 'error' to 'logloss'. Explicitly set eval_metric if you'd like to restore the old behavior.\n",
      "[18:00:12] WARNING: ../src/learner.cc:1061: Starting in XGBoost 1.3.0, the default evaluation metric used with the objective 'binary:logistic' was changed from 'error' to 'logloss'. Explicitly set eval_metric if you'd like to restore the old behavior.\n",
      "Cross validation score: [0.78114478 0.80808081 0.77441077]\n",
      "[18:00:12] WARNING: ../src/learner.cc:1061: Starting in XGBoost 1.3.0, the default evaluation metric used with the objective 'binary:logistic' was changed from 'error' to 'logloss'. Explicitly set eval_metric if you'd like to restore the old behavior.\n",
      "[18:00:12] WARNING: ../src/learner.cc:1061: Starting in XGBoost 1.3.0, the default evaluation metric used with the objective 'binary:logistic' was changed from 'error' to 'logloss'. Explicitly set eval_metric if you'd like to restore the old behavior.\n",
      "[18:00:12] WARNING: ../src/learner.cc:1061: Starting in XGBoost 1.3.0, the default evaluation metric used with the objective 'binary:logistic' was changed from 'error' to 'logloss'. Explicitly set eval_metric if you'd like to restore the old behavior.\n",
      "Confusion matrix:\n",
      " [[483  66]\n",
      " [123 219]]\n",
      "Precision:  0.7684210526315789 Recall: 0.6403508771929824 F1: 0.6985645933014354\n",
      "Score 79.01\n"
     ]
    },
    {
     "name": "stderr",
     "output_type": "stream",
     "text": [
      "/opt/conda/lib/python3.7/site-packages/xgboost/sklearn.py:888: UserWarning: The use of label encoder in XGBClassifier is deprecated and will be removed in a future release. To remove this warning, do the following: 1) Pass option use_label_encoder=False when constructing XGBClassifier object; and 2) Encode your labels (y) as integers starting with 0, i.e. 0, 1, 2, ..., [num_class - 1].\n",
      "  warnings.warn(label_encoder_deprecation_msg, UserWarning)\n",
      "/opt/conda/lib/python3.7/site-packages/xgboost/sklearn.py:888: UserWarning: The use of label encoder in XGBClassifier is deprecated and will be removed in a future release. To remove this warning, do the following: 1) Pass option use_label_encoder=False when constructing XGBClassifier object; and 2) Encode your labels (y) as integers starting with 0, i.e. 0, 1, 2, ..., [num_class - 1].\n",
      "  warnings.warn(label_encoder_deprecation_msg, UserWarning)\n"
     ]
    }
   ],
   "source": [
    "from xgboost import XGBClassifier\n",
    "from sklearn.model_selection import cross_val_score\n",
    "from sklearn.model_selection import KFold\n",
    "\n",
    "bst = XGBClassifier(n_estimators=2, max_depth=2, learning_rate=1)\n",
    "bst.fit(X_train, Y_train)\n",
    "\n",
    "show_metrics(bst, X_train, Y_train)"
   ]
  },
  {
   "cell_type": "markdown",
   "metadata": {
    "papermill": {
     "duration": 0.063105,
     "end_time": "2023-01-07T18:00:12.843514",
     "exception": false,
     "start_time": "2023-01-07T18:00:12.780409",
     "status": "completed"
    },
    "tags": []
   },
   "source": [
    "We can also try to do a randomized search. I took RandomForestClassifier and XGBoost models to start"
   ]
  },
  {
   "cell_type": "code",
   "execution_count": 44,
   "metadata": {
    "execution": {
     "iopub.execute_input": "2023-01-07T18:00:12.970165Z",
     "iopub.status.busy": "2023-01-07T18:00:12.969467Z",
     "iopub.status.idle": "2023-01-07T18:00:22.396038Z",
     "shell.execute_reply": "2023-01-07T18:00:22.396532Z",
     "shell.execute_reply.started": "2023-01-07T17:30:38.214476Z"
    },
    "papermill": {
     "duration": 9.490984,
     "end_time": "2023-01-07T18:00:22.396761",
     "exception": false,
     "start_time": "2023-01-07T18:00:12.905777",
     "status": "completed"
    },
    "tags": []
   },
   "outputs": [
    {
     "name": "stdout",
     "output_type": "stream",
     "text": [
      "Best parameters: {'bootstrap': True, 'max_depth': 80, 'n_estimators': 90} Best score: 0.7980038917833155\n"
     ]
    }
   ],
   "source": [
    "from sklearn.model_selection import RandomizedSearchCV\n",
    "from scipy.stats import randint\n",
    "\n",
    "param_dist = {\n",
    "    'n_estimators': randint(low=1, high=200),\n",
    "    'bootstrap': [True, False],\n",
    "    'max_depth': [10, 20, 30, 40, 50, 60, 70, 80, 90, 100, None],\n",
    "}\n",
    "\n",
    "rnd_clf = RandomForestClassifier(random_state=42)\n",
    "rnd_search = RandomizedSearchCV(rnd_clf, param_distributions=param_dist, n_iter=10, cv=5, scoring='accuracy', random_state=32)\n",
    "rnd_search.fit(X_train, Y_train)\n",
    "\n",
    "print('Best parameters:', rnd_search.best_params_, 'Best score:', rnd_search.best_score_)"
   ]
  },
  {
   "cell_type": "code",
   "execution_count": 45,
   "metadata": {
    "execution": {
     "iopub.execute_input": "2023-01-07T18:00:22.526227Z",
     "iopub.status.busy": "2023-01-07T18:00:22.525538Z",
     "iopub.status.idle": "2023-01-07T18:00:26.950471Z",
     "shell.execute_reply": "2023-01-07T18:00:26.949365Z",
     "shell.execute_reply.started": "2023-01-07T17:32:21.344229Z"
    },
    "papermill": {
     "duration": 4.490803,
     "end_time": "2023-01-07T18:00:26.950639",
     "exception": false,
     "start_time": "2023-01-07T18:00:22.459836",
     "status": "completed"
    },
    "tags": []
   },
   "outputs": [
    {
     "name": "stderr",
     "output_type": "stream",
     "text": [
      "/opt/conda/lib/python3.7/site-packages/xgboost/sklearn.py:888: UserWarning: The use of label encoder in XGBClassifier is deprecated and will be removed in a future release. To remove this warning, do the following: 1) Pass option use_label_encoder=False when constructing XGBClassifier object; and 2) Encode your labels (y) as integers starting with 0, i.e. 0, 1, 2, ..., [num_class - 1].\n",
      "  warnings.warn(label_encoder_deprecation_msg, UserWarning)\n"
     ]
    },
    {
     "name": "stdout",
     "output_type": "stream",
     "text": [
      "Best parameters: {'learning_rate': 0.1, 'max_depth': 60, 'n_estimators': 55} Best score: 0.8182035026049841\n"
     ]
    }
   ],
   "source": [
    "param_dist = {\n",
    "    'n_estimators': randint(low=1, high=200),\n",
    "    'learning_rate': [0.0001,0.001, 0.01, 0.1, 1] ,\n",
    "    'max_depth': [10, 20, 30, 40, 50, 60, 70, 80, 90, 100, None],\n",
    "}\n",
    "\n",
    "bst = XGBClassifier(seed=0, random_state=42, eval_metric='logloss')\n",
    "rnd_search = RandomizedSearchCV(bst, param_distributions=param_dist, n_iter=10, cv=5, scoring='accuracy', random_state=32)\n",
    "rnd_search.fit(X_train, Y_train)\n",
    "\n",
    "print('Best parameters:', rnd_search.best_params_, 'Best score:', rnd_search.best_score_)"
   ]
  },
  {
   "cell_type": "markdown",
   "metadata": {
    "papermill": {
     "duration": 0.064492,
     "end_time": "2023-01-07T18:00:27.079483",
     "exception": false,
     "start_time": "2023-01-07T18:00:27.014991",
     "status": "completed"
    },
    "tags": []
   },
   "source": [
    "Finally we can assemble them in a voting classifier with the best values"
   ]
  },
  {
   "cell_type": "code",
   "execution_count": 46,
   "metadata": {
    "execution": {
     "iopub.execute_input": "2023-01-07T18:00:27.212444Z",
     "iopub.status.busy": "2023-01-07T18:00:27.211728Z",
     "iopub.status.idle": "2023-01-07T18:00:29.006279Z",
     "shell.execute_reply": "2023-01-07T18:00:29.007528Z",
     "shell.execute_reply.started": "2023-01-07T17:39:56.740519Z"
    },
    "papermill": {
     "duration": 1.864567,
     "end_time": "2023-01-07T18:00:29.007820",
     "exception": false,
     "start_time": "2023-01-07T18:00:27.143253",
     "status": "completed"
    },
    "tags": []
   },
   "outputs": [
    {
     "name": "stderr",
     "output_type": "stream",
     "text": [
      "/opt/conda/lib/python3.7/site-packages/xgboost/sklearn.py:888: UserWarning: The use of label encoder in XGBClassifier is deprecated and will be removed in a future release. To remove this warning, do the following: 1) Pass option use_label_encoder=False when constructing XGBClassifier object; and 2) Encode your labels (y) as integers starting with 0, i.e. 0, 1, 2, ..., [num_class - 1].\n",
      "  warnings.warn(label_encoder_deprecation_msg, UserWarning)\n"
     ]
    },
    {
     "name": "stdout",
     "output_type": "stream",
     "text": [
      "[18:00:27] WARNING: ../src/learner.cc:1061: Starting in XGBoost 1.3.0, the default evaluation metric used with the objective 'binary:logistic' was changed from 'error' to 'logloss'. Explicitly set eval_metric if you'd like to restore the old behavior.\n"
     ]
    },
    {
     "name": "stderr",
     "output_type": "stream",
     "text": [
      "/opt/conda/lib/python3.7/site-packages/xgboost/sklearn.py:888: UserWarning: The use of label encoder in XGBClassifier is deprecated and will be removed in a future release. To remove this warning, do the following: 1) Pass option use_label_encoder=False when constructing XGBClassifier object; and 2) Encode your labels (y) as integers starting with 0, i.e. 0, 1, 2, ..., [num_class - 1].\n",
      "  warnings.warn(label_encoder_deprecation_msg, UserWarning)\n"
     ]
    },
    {
     "name": "stdout",
     "output_type": "stream",
     "text": [
      "[18:00:27] WARNING: ../src/learner.cc:1061: Starting in XGBoost 1.3.0, the default evaluation metric used with the objective 'binary:logistic' was changed from 'error' to 'logloss'. Explicitly set eval_metric if you'd like to restore the old behavior.\n"
     ]
    },
    {
     "name": "stderr",
     "output_type": "stream",
     "text": [
      "/opt/conda/lib/python3.7/site-packages/xgboost/sklearn.py:888: UserWarning: The use of label encoder in XGBClassifier is deprecated and will be removed in a future release. To remove this warning, do the following: 1) Pass option use_label_encoder=False when constructing XGBClassifier object; and 2) Encode your labels (y) as integers starting with 0, i.e. 0, 1, 2, ..., [num_class - 1].\n",
      "  warnings.warn(label_encoder_deprecation_msg, UserWarning)\n"
     ]
    },
    {
     "name": "stdout",
     "output_type": "stream",
     "text": [
      "[18:00:27] WARNING: ../src/learner.cc:1061: Starting in XGBoost 1.3.0, the default evaluation metric used with the objective 'binary:logistic' was changed from 'error' to 'logloss'. Explicitly set eval_metric if you'd like to restore the old behavior.\n"
     ]
    },
    {
     "name": "stderr",
     "output_type": "stream",
     "text": [
      "/opt/conda/lib/python3.7/site-packages/xgboost/sklearn.py:888: UserWarning: The use of label encoder in XGBClassifier is deprecated and will be removed in a future release. To remove this warning, do the following: 1) Pass option use_label_encoder=False when constructing XGBClassifier object; and 2) Encode your labels (y) as integers starting with 0, i.e. 0, 1, 2, ..., [num_class - 1].\n",
      "  warnings.warn(label_encoder_deprecation_msg, UserWarning)\n"
     ]
    },
    {
     "name": "stdout",
     "output_type": "stream",
     "text": [
      "[18:00:28] WARNING: ../src/learner.cc:1061: Starting in XGBoost 1.3.0, the default evaluation metric used with the objective 'binary:logistic' was changed from 'error' to 'logloss'. Explicitly set eval_metric if you'd like to restore the old behavior.\n",
      "Cross validation score: [0.79124579 0.81818182 0.77104377]\n"
     ]
    },
    {
     "name": "stderr",
     "output_type": "stream",
     "text": [
      "/opt/conda/lib/python3.7/site-packages/xgboost/sklearn.py:888: UserWarning: The use of label encoder in XGBClassifier is deprecated and will be removed in a future release. To remove this warning, do the following: 1) Pass option use_label_encoder=False when constructing XGBClassifier object; and 2) Encode your labels (y) as integers starting with 0, i.e. 0, 1, 2, ..., [num_class - 1].\n",
      "  warnings.warn(label_encoder_deprecation_msg, UserWarning)\n"
     ]
    },
    {
     "name": "stdout",
     "output_type": "stream",
     "text": [
      "[18:00:28] WARNING: ../src/learner.cc:1061: Starting in XGBoost 1.3.0, the default evaluation metric used with the objective 'binary:logistic' was changed from 'error' to 'logloss'. Explicitly set eval_metric if you'd like to restore the old behavior.\n"
     ]
    },
    {
     "name": "stderr",
     "output_type": "stream",
     "text": [
      "/opt/conda/lib/python3.7/site-packages/xgboost/sklearn.py:888: UserWarning: The use of label encoder in XGBClassifier is deprecated and will be removed in a future release. To remove this warning, do the following: 1) Pass option use_label_encoder=False when constructing XGBClassifier object; and 2) Encode your labels (y) as integers starting with 0, i.e. 0, 1, 2, ..., [num_class - 1].\n",
      "  warnings.warn(label_encoder_deprecation_msg, UserWarning)\n"
     ]
    },
    {
     "name": "stdout",
     "output_type": "stream",
     "text": [
      "[18:00:28] WARNING: ../src/learner.cc:1061: Starting in XGBoost 1.3.0, the default evaluation metric used with the objective 'binary:logistic' was changed from 'error' to 'logloss'. Explicitly set eval_metric if you'd like to restore the old behavior.\n",
      "[18:00:28] WARNING: ../src/learner.cc:1061: Starting in XGBoost 1.3.0, the default evaluation metric used with the objective 'binary:logistic' was changed from 'error' to 'logloss'. Explicitly set eval_metric if you'd like to restore the old behavior.\n",
      "Confusion matrix:\n",
      " [[499  50]\n",
      " [131 211]]\n",
      "Precision:  0.8084291187739464 Recall: 0.6169590643274854 F1: 0.6998341625207297\n",
      "Score 90.12\n"
     ]
    },
    {
     "name": "stderr",
     "output_type": "stream",
     "text": [
      "/opt/conda/lib/python3.7/site-packages/xgboost/sklearn.py:888: UserWarning: The use of label encoder in XGBClassifier is deprecated and will be removed in a future release. To remove this warning, do the following: 1) Pass option use_label_encoder=False when constructing XGBClassifier object; and 2) Encode your labels (y) as integers starting with 0, i.e. 0, 1, 2, ..., [num_class - 1].\n",
      "  warnings.warn(label_encoder_deprecation_msg, UserWarning)\n"
     ]
    }
   ],
   "source": [
    "from sklearn.ensemble import VotingClassifier\n",
    "\n",
    "voting_clf = VotingClassifier(estimators=[\n",
    "    ('rf', RandomForestClassifier(bootstrap=True, max_depth=80, n_estimators=90)), \n",
    "    ('xg', XGBClassifier(learning_rate=0.1, max_depth=60, n_estimators=55))\n",
    "], voting='hard')\n",
    "\n",
    "voting_clf.fit(X_train, Y_train)\n",
    "\n",
    "show_metrics(voting_clf, X_train, Y_train)"
   ]
  },
  {
   "cell_type": "markdown",
   "metadata": {
    "papermill": {
     "duration": 0.066609,
     "end_time": "2023-01-07T18:00:29.143190",
     "exception": false,
     "start_time": "2023-01-07T18:00:29.076581",
     "status": "completed"
    },
    "tags": []
   },
   "source": [
    "With the best parameters we get 90% accuracy with the ensemble method which is great! We can move to final stage now!"
   ]
  },
  {
   "cell_type": "markdown",
   "metadata": {
    "papermill": {
     "duration": 0.066562,
     "end_time": "2023-01-07T18:00:29.277498",
     "exception": false,
     "start_time": "2023-01-07T18:00:29.210936",
     "status": "completed"
    },
    "tags": []
   },
   "source": [
    "## Submission and Conclusion\n",
    "\n",
    "You can create and submit a csv file in the following way:"
   ]
  },
  {
   "cell_type": "code",
   "execution_count": 47,
   "metadata": {
    "execution": {
     "iopub.execute_input": "2023-01-07T18:00:29.416007Z",
     "iopub.status.busy": "2023-01-07T18:00:29.414992Z",
     "iopub.status.idle": "2023-01-07T18:00:29.418640Z",
     "shell.execute_reply": "2023-01-07T18:00:29.419261Z",
     "shell.execute_reply.started": "2023-01-07T17:42:36.773444Z"
    },
    "papermill": {
     "duration": 0.075084,
     "end_time": "2023-01-07T18:00:29.419439",
     "exception": false,
     "start_time": "2023-01-07T18:00:29.344355",
     "status": "completed"
    },
    "tags": []
   },
   "outputs": [],
   "source": [
    "#Y_pred = voting_clf.predict(X_test)\n",
    "#df_submission['Survived'] = Y_pred\n",
    "#df_submission.to_csv('submission_file.csv', index=False)"
   ]
  }
 ],
 "metadata": {
  "kernelspec": {
   "display_name": "Python 3",
   "language": "python",
   "name": "python3"
  },
  "language_info": {
   "codemirror_mode": {
    "name": "ipython",
    "version": 3
   },
   "file_extension": ".py",
   "mimetype": "text/x-python",
   "name": "python",
   "nbconvert_exporter": "python",
   "pygments_lexer": "ipython3",
   "version": "3.7.9"
  },
  "papermill": {
   "default_parameters": {},
   "duration": 40.169001,
   "end_time": "2023-01-07T18:00:30.196997",
   "environment_variables": {},
   "exception": null,
   "input_path": "__notebook__.ipynb",
   "output_path": "__notebook__.ipynb",
   "parameters": {},
   "start_time": "2023-01-07T17:59:50.027996",
   "version": "2.2.2"
  }
 },
 "nbformat": 4,
 "nbformat_minor": 4
}
