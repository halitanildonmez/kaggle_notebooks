{
 "cells": [
  {
   "cell_type": "code",
   "execution_count": 1,
   "id": "87ea19c7",
   "metadata": {
    "_cell_guid": "b1076dfc-b9ad-4769-8c92-a6c4dae69d19",
    "_uuid": "8f2839f25d086af736a60e9eeb907d3b93b6e0e5",
    "execution": {
     "iopub.execute_input": "2023-01-14T17:20:36.247118Z",
     "iopub.status.busy": "2023-01-14T17:20:36.246407Z",
     "iopub.status.idle": "2023-01-14T17:20:36.259742Z",
     "shell.execute_reply": "2023-01-14T17:20:36.258729Z"
    },
    "papermill": {
     "duration": 0.027408,
     "end_time": "2023-01-14T17:20:36.262882",
     "exception": false,
     "start_time": "2023-01-14T17:20:36.235474",
     "status": "completed"
    },
    "tags": []
   },
   "outputs": [
    {
     "name": "stdout",
     "output_type": "stream",
     "text": [
      "/kaggle/input/digit-recognizer/sample_submission.csv\n",
      "/kaggle/input/digit-recognizer/train.csv\n",
      "/kaggle/input/digit-recognizer/test.csv\n"
     ]
    }
   ],
   "source": [
    "# This Python 3 environment comes with many helpful analytics libraries installed\n",
    "# It is defined by the kaggle/python Docker image: https://github.com/kaggle/docker-python\n",
    "# For example, here's several helpful packages to load\n",
    "\n",
    "import numpy as np # linear algebra\n",
    "import pandas as pd # data processing, CSV file I/O (e.g. pd.read_csv)\n",
    "\n",
    "# Input data files are available in the read-only \"../input/\" directory\n",
    "# For example, running this (by clicking run or pressing Shift+Enter) will list all files under the input directory\n",
    "\n",
    "import os\n",
    "for dirname, _, filenames in os.walk('/kaggle/input'):\n",
    "    for filename in filenames:\n",
    "        print(os.path.join(dirname, filename))\n",
    "\n",
    "# You can write up to 20GB to the current directory (/kaggle/working/) that gets preserved as output when you create a version using \"Save & Run All\" \n",
    "# You can also write temporary files to /kaggle/temp/, but they won't be saved outside of the current session"
   ]
  },
  {
   "cell_type": "code",
   "execution_count": 2,
   "id": "7b582027",
   "metadata": {
    "execution": {
     "iopub.execute_input": "2023-01-14T17:20:36.280866Z",
     "iopub.status.busy": "2023-01-14T17:20:36.280619Z",
     "iopub.status.idle": "2023-01-14T17:20:42.449383Z",
     "shell.execute_reply": "2023-01-14T17:20:42.448434Z"
    },
    "papermill": {
     "duration": 6.18035,
     "end_time": "2023-01-14T17:20:42.451914",
     "exception": false,
     "start_time": "2023-01-14T17:20:36.271564",
     "status": "completed"
    },
    "tags": []
   },
   "outputs": [],
   "source": [
    "from sklearn.model_selection import train_test_split\n",
    "from sklearn.model_selection import GridSearchCV\n",
    "from sklearn.neighbors import KNeighborsClassifier\n",
    "from sklearn.metrics import accuracy_score\n",
    "from sklearn.ensemble import RandomForestClassifier\n",
    "from sklearn.model_selection import StratifiedKFold\n",
    "from sklearn.ensemble import VotingClassifier\n",
    "from sklearn.metrics import confusion_matrix\n",
    "\n",
    "import seaborn as sns\n",
    "\n",
    "%matplotlib inline\n",
    "import matplotlib as mpl\n",
    "import matplotlib.pyplot as plt\n",
    "\n",
    "from keras.utils.np_utils import to_categorical\n",
    "from keras.preprocessing.image import ImageDataGenerator\n",
    "from keras.models import Sequential\n",
    "from keras.layers import Dense, Dropout, Flatten, Conv2D, MaxPool2D\n",
    "\n",
    "from tensorflow.keras.optimizers import Adam\n",
    "\n",
    "from keras_tuner import RandomSearch"
   ]
  },
  {
   "cell_type": "markdown",
   "id": "939ab452",
   "metadata": {
    "papermill": {
     "duration": 0.008002,
     "end_time": "2023-01-14T17:20:42.468595",
     "exception": false,
     "start_time": "2023-01-14T17:20:42.460593",
     "status": "completed"
    },
    "tags": []
   },
   "source": [
    "## Agenda\n",
    "\n",
    "In this notebook I will show how one can do multiclass classification using MNIST and hopefully provide some helper methods and references for you to use\n",
    "\n",
    "I will load and visualize data and try certain models to compare performances of them"
   ]
  },
  {
   "cell_type": "code",
   "execution_count": 3,
   "id": "f665c2f2",
   "metadata": {
    "execution": {
     "iopub.execute_input": "2023-01-14T17:20:42.488532Z",
     "iopub.status.busy": "2023-01-14T17:20:42.487377Z",
     "iopub.status.idle": "2023-01-14T17:20:47.465402Z",
     "shell.execute_reply": "2023-01-14T17:20:47.464390Z"
    },
    "papermill": {
     "duration": 4.989962,
     "end_time": "2023-01-14T17:20:47.468263",
     "exception": false,
     "start_time": "2023-01-14T17:20:42.478301",
     "status": "completed"
    },
    "tags": []
   },
   "outputs": [],
   "source": [
    "df_train = pd.read_csv('/kaggle/input/digit-recognizer/train.csv')\n",
    "df_test = pd.read_csv('/kaggle/input/digit-recognizer/test.csv')\n",
    "df_submission = pd.read_csv('/kaggle/input/digit-recognizer/sample_submission.csv')\n",
    "\n",
    "X = df_train.drop([\"label\"], axis=1)\n",
    "y = df_train[\"label\"]"
   ]
  },
  {
   "cell_type": "code",
   "execution_count": 4,
   "id": "b815d854",
   "metadata": {
    "execution": {
     "iopub.execute_input": "2023-01-14T17:20:47.491602Z",
     "iopub.status.busy": "2023-01-14T17:20:47.491298Z",
     "iopub.status.idle": "2023-01-14T17:20:47.761802Z",
     "shell.execute_reply": "2023-01-14T17:20:47.760481Z"
    },
    "papermill": {
     "duration": 0.282687,
     "end_time": "2023-01-14T17:20:47.764193",
     "exception": false,
     "start_time": "2023-01-14T17:20:47.481506",
     "status": "completed"
    },
    "tags": []
   },
   "outputs": [],
   "source": [
    "# Divide train data to test and train for measuring accuraccy and other metrics\n",
    "X_train, X_test, y_train, y_test = train_test_split(X, y, test_size = 0.3)"
   ]
  },
  {
   "cell_type": "code",
   "execution_count": 5,
   "id": "1a5d4e7b",
   "metadata": {
    "execution": {
     "iopub.execute_input": "2023-01-14T17:20:47.781938Z",
     "iopub.status.busy": "2023-01-14T17:20:47.781623Z",
     "iopub.status.idle": "2023-01-14T17:20:47.825183Z",
     "shell.execute_reply": "2023-01-14T17:20:47.824115Z"
    },
    "papermill": {
     "duration": 0.054691,
     "end_time": "2023-01-14T17:20:47.827232",
     "exception": false,
     "start_time": "2023-01-14T17:20:47.772541",
     "status": "completed"
    },
    "tags": []
   },
   "outputs": [
    {
     "name": "stdout",
     "output_type": "stream",
     "text": [
      "<class 'pandas.core.frame.DataFrame'>\n",
      "RangeIndex: 42000 entries, 0 to 41999\n",
      "Columns: 785 entries, label to pixel783\n",
      "dtypes: int64(785)\n",
      "memory usage: 251.5 MB\n"
     ]
    }
   ],
   "source": [
    "df_train.info()"
   ]
  },
  {
   "cell_type": "code",
   "execution_count": 6,
   "id": "4e7dbd94",
   "metadata": {
    "execution": {
     "iopub.execute_input": "2023-01-14T17:20:47.845534Z",
     "iopub.status.busy": "2023-01-14T17:20:47.845260Z",
     "iopub.status.idle": "2023-01-14T17:20:47.864611Z",
     "shell.execute_reply": "2023-01-14T17:20:47.863537Z"
    },
    "papermill": {
     "duration": 0.031566,
     "end_time": "2023-01-14T17:20:47.867271",
     "exception": false,
     "start_time": "2023-01-14T17:20:47.835705",
     "status": "completed"
    },
    "tags": []
   },
   "outputs": [
    {
     "data": {
      "text/html": [
       "<div>\n",
       "<style scoped>\n",
       "    .dataframe tbody tr th:only-of-type {\n",
       "        vertical-align: middle;\n",
       "    }\n",
       "\n",
       "    .dataframe tbody tr th {\n",
       "        vertical-align: top;\n",
       "    }\n",
       "\n",
       "    .dataframe thead th {\n",
       "        text-align: right;\n",
       "    }\n",
       "</style>\n",
       "<table border=\"1\" class=\"dataframe\">\n",
       "  <thead>\n",
       "    <tr style=\"text-align: right;\">\n",
       "      <th></th>\n",
       "      <th>label</th>\n",
       "      <th>pixel0</th>\n",
       "      <th>pixel1</th>\n",
       "      <th>pixel2</th>\n",
       "      <th>pixel3</th>\n",
       "      <th>pixel4</th>\n",
       "      <th>pixel5</th>\n",
       "      <th>pixel6</th>\n",
       "      <th>pixel7</th>\n",
       "      <th>pixel8</th>\n",
       "      <th>...</th>\n",
       "      <th>pixel774</th>\n",
       "      <th>pixel775</th>\n",
       "      <th>pixel776</th>\n",
       "      <th>pixel777</th>\n",
       "      <th>pixel778</th>\n",
       "      <th>pixel779</th>\n",
       "      <th>pixel780</th>\n",
       "      <th>pixel781</th>\n",
       "      <th>pixel782</th>\n",
       "      <th>pixel783</th>\n",
       "    </tr>\n",
       "  </thead>\n",
       "  <tbody>\n",
       "    <tr>\n",
       "      <th>0</th>\n",
       "      <td>1</td>\n",
       "      <td>0</td>\n",
       "      <td>0</td>\n",
       "      <td>0</td>\n",
       "      <td>0</td>\n",
       "      <td>0</td>\n",
       "      <td>0</td>\n",
       "      <td>0</td>\n",
       "      <td>0</td>\n",
       "      <td>0</td>\n",
       "      <td>...</td>\n",
       "      <td>0</td>\n",
       "      <td>0</td>\n",
       "      <td>0</td>\n",
       "      <td>0</td>\n",
       "      <td>0</td>\n",
       "      <td>0</td>\n",
       "      <td>0</td>\n",
       "      <td>0</td>\n",
       "      <td>0</td>\n",
       "      <td>0</td>\n",
       "    </tr>\n",
       "    <tr>\n",
       "      <th>1</th>\n",
       "      <td>0</td>\n",
       "      <td>0</td>\n",
       "      <td>0</td>\n",
       "      <td>0</td>\n",
       "      <td>0</td>\n",
       "      <td>0</td>\n",
       "      <td>0</td>\n",
       "      <td>0</td>\n",
       "      <td>0</td>\n",
       "      <td>0</td>\n",
       "      <td>...</td>\n",
       "      <td>0</td>\n",
       "      <td>0</td>\n",
       "      <td>0</td>\n",
       "      <td>0</td>\n",
       "      <td>0</td>\n",
       "      <td>0</td>\n",
       "      <td>0</td>\n",
       "      <td>0</td>\n",
       "      <td>0</td>\n",
       "      <td>0</td>\n",
       "    </tr>\n",
       "    <tr>\n",
       "      <th>2</th>\n",
       "      <td>1</td>\n",
       "      <td>0</td>\n",
       "      <td>0</td>\n",
       "      <td>0</td>\n",
       "      <td>0</td>\n",
       "      <td>0</td>\n",
       "      <td>0</td>\n",
       "      <td>0</td>\n",
       "      <td>0</td>\n",
       "      <td>0</td>\n",
       "      <td>...</td>\n",
       "      <td>0</td>\n",
       "      <td>0</td>\n",
       "      <td>0</td>\n",
       "      <td>0</td>\n",
       "      <td>0</td>\n",
       "      <td>0</td>\n",
       "      <td>0</td>\n",
       "      <td>0</td>\n",
       "      <td>0</td>\n",
       "      <td>0</td>\n",
       "    </tr>\n",
       "    <tr>\n",
       "      <th>3</th>\n",
       "      <td>4</td>\n",
       "      <td>0</td>\n",
       "      <td>0</td>\n",
       "      <td>0</td>\n",
       "      <td>0</td>\n",
       "      <td>0</td>\n",
       "      <td>0</td>\n",
       "      <td>0</td>\n",
       "      <td>0</td>\n",
       "      <td>0</td>\n",
       "      <td>...</td>\n",
       "      <td>0</td>\n",
       "      <td>0</td>\n",
       "      <td>0</td>\n",
       "      <td>0</td>\n",
       "      <td>0</td>\n",
       "      <td>0</td>\n",
       "      <td>0</td>\n",
       "      <td>0</td>\n",
       "      <td>0</td>\n",
       "      <td>0</td>\n",
       "    </tr>\n",
       "    <tr>\n",
       "      <th>4</th>\n",
       "      <td>0</td>\n",
       "      <td>0</td>\n",
       "      <td>0</td>\n",
       "      <td>0</td>\n",
       "      <td>0</td>\n",
       "      <td>0</td>\n",
       "      <td>0</td>\n",
       "      <td>0</td>\n",
       "      <td>0</td>\n",
       "      <td>0</td>\n",
       "      <td>...</td>\n",
       "      <td>0</td>\n",
       "      <td>0</td>\n",
       "      <td>0</td>\n",
       "      <td>0</td>\n",
       "      <td>0</td>\n",
       "      <td>0</td>\n",
       "      <td>0</td>\n",
       "      <td>0</td>\n",
       "      <td>0</td>\n",
       "      <td>0</td>\n",
       "    </tr>\n",
       "  </tbody>\n",
       "</table>\n",
       "<p>5 rows × 785 columns</p>\n",
       "</div>"
      ],
      "text/plain": [
       "   label  pixel0  pixel1  pixel2  pixel3  pixel4  pixel5  pixel6  pixel7  \\\n",
       "0      1       0       0       0       0       0       0       0       0   \n",
       "1      0       0       0       0       0       0       0       0       0   \n",
       "2      1       0       0       0       0       0       0       0       0   \n",
       "3      4       0       0       0       0       0       0       0       0   \n",
       "4      0       0       0       0       0       0       0       0       0   \n",
       "\n",
       "   pixel8  ...  pixel774  pixel775  pixel776  pixel777  pixel778  pixel779  \\\n",
       "0       0  ...         0         0         0         0         0         0   \n",
       "1       0  ...         0         0         0         0         0         0   \n",
       "2       0  ...         0         0         0         0         0         0   \n",
       "3       0  ...         0         0         0         0         0         0   \n",
       "4       0  ...         0         0         0         0         0         0   \n",
       "\n",
       "   pixel780  pixel781  pixel782  pixel783  \n",
       "0         0         0         0         0  \n",
       "1         0         0         0         0  \n",
       "2         0         0         0         0  \n",
       "3         0         0         0         0  \n",
       "4         0         0         0         0  \n",
       "\n",
       "[5 rows x 785 columns]"
      ]
     },
     "execution_count": 6,
     "metadata": {},
     "output_type": "execute_result"
    }
   ],
   "source": [
    "df_train.head()"
   ]
  },
  {
   "cell_type": "markdown",
   "id": "bb8b85cb",
   "metadata": {
    "papermill": {
     "duration": 0.008679,
     "end_time": "2023-01-14T17:20:47.884418",
     "exception": false,
     "start_time": "2023-01-14T17:20:47.875739",
     "status": "completed"
    },
    "tags": []
   },
   "source": [
    "Label indicates the number row corresponds to. We can verify by visualizing this."
   ]
  },
  {
   "cell_type": "code",
   "execution_count": 7,
   "id": "63c2084a",
   "metadata": {
    "execution": {
     "iopub.execute_input": "2023-01-14T17:20:47.902529Z",
     "iopub.status.busy": "2023-01-14T17:20:47.902260Z",
     "iopub.status.idle": "2023-01-14T17:20:48.019513Z",
     "shell.execute_reply": "2023-01-14T17:20:48.018295Z"
    },
    "papermill": {
     "duration": 0.130942,
     "end_time": "2023-01-14T17:20:48.023733",
     "exception": false,
     "start_time": "2023-01-14T17:20:47.892791",
     "status": "completed"
    },
    "tags": []
   },
   "outputs": [
    {
     "name": "stdout",
     "output_type": "stream",
     "text": [
      "6\n"
     ]
    },
    {
     "data": {
      "image/png": "[encoded data removed]",
      "text/plain": [
       "<Figure size 432x288 with 1 Axes>"
      ]
     },
     "metadata": {
      "needs_background": "light"
     },
     "output_type": "display_data"
    }
   ],
   "source": [
    "def draw_digit(digit_data):\n",
    "    # 28 because we have 784 columns and square root is 28\n",
    "    img = digit_data.reshape(28, 28)\n",
    "    plt.imshow(img, cmap=mpl.cm.binary)\n",
    "    plt.axis(\"off\")\n",
    "    plt.show()\n",
    "\n",
    "print(y_train.iloc[3])\n",
    "draw_digit(np.array(X_train.iloc[3]))"
   ]
  },
  {
   "cell_type": "markdown",
   "id": "ce77047f",
   "metadata": {
    "papermill": {
     "duration": 0.018962,
     "end_time": "2023-01-14T17:20:48.065580",
     "exception": false,
     "start_time": "2023-01-14T17:20:48.046618",
     "status": "completed"
    },
    "tags": []
   },
   "source": [
    "## Multiclass Classification\n"
   ]
  },
  {
   "cell_type": "code",
   "execution_count": 8,
   "id": "b8cb5342",
   "metadata": {
    "execution": {
     "iopub.execute_input": "2023-01-14T17:20:48.084028Z",
     "iopub.status.busy": "2023-01-14T17:20:48.083745Z",
     "iopub.status.idle": "2023-01-14T17:23:49.104665Z",
     "shell.execute_reply": "2023-01-14T17:23:49.103498Z"
    },
    "papermill": {
     "duration": 181.033168,
     "end_time": "2023-01-14T17:23:49.107283",
     "exception": false,
     "start_time": "2023-01-14T17:20:48.074115",
     "status": "completed"
    },
    "tags": []
   },
   "outputs": [
    {
     "name": "stdout",
     "output_type": "stream",
     "text": [
      "Fitting 5 folds for each of 6 candidates, totalling 30 fits\n",
      "[CV 1/5] END ....n_neighbors=3, weights=uniform;, score=0.961 total time=   5.8s\n",
      "[CV 2/5] END ....n_neighbors=3, weights=uniform;, score=0.965 total time=   5.3s\n",
      "[CV 3/5] END ....n_neighbors=3, weights=uniform;, score=0.964 total time=   6.2s\n",
      "[CV 4/5] END ....n_neighbors=3, weights=uniform;, score=0.962 total time=   5.4s\n",
      "[CV 5/5] END ....n_neighbors=3, weights=uniform;, score=0.961 total time=   5.8s\n",
      "[CV 1/5] END ...n_neighbors=3, weights=distance;, score=0.962 total time=   5.2s\n",
      "[CV 2/5] END ...n_neighbors=3, weights=distance;, score=0.966 total time=   5.6s\n",
      "[CV 3/5] END ...n_neighbors=3, weights=distance;, score=0.966 total time=   5.2s\n",
      "[CV 4/5] END ...n_neighbors=3, weights=distance;, score=0.963 total time=   6.3s\n",
      "[CV 5/5] END ...n_neighbors=3, weights=distance;, score=0.963 total time=   5.2s\n",
      "[CV 1/5] END ....n_neighbors=4, weights=uniform;, score=0.958 total time=   6.5s\n",
      "[CV 2/5] END ....n_neighbors=4, weights=uniform;, score=0.961 total time=   6.0s\n",
      "[CV 3/5] END ....n_neighbors=4, weights=uniform;, score=0.963 total time=   6.3s\n",
      "[CV 4/5] END ....n_neighbors=4, weights=uniform;, score=0.962 total time=   6.7s\n",
      "[CV 5/5] END ....n_neighbors=4, weights=uniform;, score=0.959 total time=   6.2s\n",
      "[CV 1/5] END ...n_neighbors=4, weights=distance;, score=0.964 total time=   6.3s\n",
      "[CV 2/5] END ...n_neighbors=4, weights=distance;, score=0.966 total time=   5.9s\n",
      "[CV 3/5] END ...n_neighbors=4, weights=distance;, score=0.966 total time=   6.2s\n",
      "[CV 4/5] END ...n_neighbors=4, weights=distance;, score=0.966 total time=   6.3s\n",
      "[CV 5/5] END ...n_neighbors=4, weights=distance;, score=0.964 total time=   6.4s\n",
      "[CV 1/5] END ....n_neighbors=5, weights=uniform;, score=0.960 total time=   6.1s\n",
      "[CV 2/5] END ....n_neighbors=5, weights=uniform;, score=0.963 total time=   6.0s\n",
      "[CV 3/5] END ....n_neighbors=5, weights=uniform;, score=0.963 total time=   6.1s\n",
      "[CV 4/5] END ....n_neighbors=5, weights=uniform;, score=0.963 total time=   6.3s\n",
      "[CV 5/5] END ....n_neighbors=5, weights=uniform;, score=0.961 total time=   6.6s\n",
      "[CV 1/5] END ...n_neighbors=5, weights=distance;, score=0.962 total time=   6.0s\n",
      "[CV 2/5] END ...n_neighbors=5, weights=distance;, score=0.966 total time=   6.3s\n",
      "[CV 3/5] END ...n_neighbors=5, weights=distance;, score=0.965 total time=   5.9s\n",
      "[CV 4/5] END ...n_neighbors=5, weights=distance;, score=0.965 total time=   6.0s\n",
      "[CV 5/5] END ...n_neighbors=5, weights=distance;, score=0.963 total time=   6.8s\n"
     ]
    },
    {
     "data": {
      "text/plain": [
       "GridSearchCV(estimator=KNeighborsClassifier(),\n",
       "             param_grid=[{'n_neighbors': [3, 4, 5],\n",
       "                          'weights': ['uniform', 'distance']}],\n",
       "             verbose=4)"
      ]
     },
     "execution_count": 8,
     "metadata": {},
     "output_type": "execute_result"
    }
   ],
   "source": [
    "params = [{'weights': ['uniform', 'distance'], 'n_neighbors': [3, 4, 5]}]\n",
    "\n",
    "knn = KNeighborsClassifier()\n",
    "grid_search = GridSearchCV(knn, params, verbose=4)\n",
    "\n",
    "grid_search.fit(X_train, y_train)"
   ]
  },
  {
   "cell_type": "code",
   "execution_count": 9,
   "id": "866bcfb3",
   "metadata": {
    "execution": {
     "iopub.execute_input": "2023-01-14T17:23:49.130096Z",
     "iopub.status.busy": "2023-01-14T17:23:49.129294Z",
     "iopub.status.idle": "2023-01-14T17:23:49.134848Z",
     "shell.execute_reply": "2023-01-14T17:23:49.133802Z"
    },
    "papermill": {
     "duration": 0.019926,
     "end_time": "2023-01-14T17:23:49.138026",
     "exception": false,
     "start_time": "2023-01-14T17:23:49.118100",
     "status": "completed"
    },
    "tags": []
   },
   "outputs": [
    {
     "name": "stdout",
     "output_type": "stream",
     "text": [
      "{'n_neighbors': 4, 'weights': 'distance'} 0.9653401360544217\n"
     ]
    }
   ],
   "source": [
    "print(grid_search.best_params_, grid_search.best_score_)"
   ]
  },
  {
   "cell_type": "code",
   "execution_count": 10,
   "id": "fef4ac77",
   "metadata": {
    "execution": {
     "iopub.execute_input": "2023-01-14T17:23:49.161097Z",
     "iopub.status.busy": "2023-01-14T17:23:49.160833Z",
     "iopub.status.idle": "2023-01-14T17:24:04.460281Z",
     "shell.execute_reply": "2023-01-14T17:24:04.459202Z"
    },
    "papermill": {
     "duration": 15.313491,
     "end_time": "2023-01-14T17:24:04.462602",
     "exception": false,
     "start_time": "2023-01-14T17:23:49.149111",
     "status": "completed"
    },
    "tags": []
   },
   "outputs": [
    {
     "data": {
      "text/plain": [
       "0.971031746031746"
      ]
     },
     "execution_count": 10,
     "metadata": {},
     "output_type": "execute_result"
    }
   ],
   "source": [
    "y_test_grid = grid_search.predict(X_test)\n",
    "accuracy_score(y_test, y_test_grid)"
   ]
  },
  {
   "cell_type": "code",
   "execution_count": 11,
   "id": "93de1a85",
   "metadata": {
    "execution": {
     "iopub.execute_input": "2023-01-14T17:24:04.487270Z",
     "iopub.status.busy": "2023-01-14T17:24:04.485922Z",
     "iopub.status.idle": "2023-01-14T17:27:11.900882Z",
     "shell.execute_reply": "2023-01-14T17:27:11.899848Z"
    },
    "papermill": {
     "duration": 187.438967,
     "end_time": "2023-01-14T17:27:11.913494",
     "exception": false,
     "start_time": "2023-01-14T17:24:04.474527",
     "status": "completed"
    },
    "tags": []
   },
   "outputs": [
    {
     "name": "stdout",
     "output_type": "stream",
     "text": [
      "Fitting 3 folds for each of 2 candidates, totalling 6 fits\n",
      "[CV 1/3] END ..................n_estimators=100;, score=0.956 total time=  11.2s\n",
      "[CV 2/3] END ..................n_estimators=100;, score=0.962 total time=  11.3s\n",
      "[CV 3/3] END ..................n_estimators=100;, score=0.956 total time=  11.1s\n",
      "[CV 1/3] END ..................n_estimators=300;, score=0.958 total time=  33.5s\n",
      "[CV 2/3] END ..................n_estimators=300;, score=0.964 total time=  33.2s\n",
      "[CV 3/3] END ..................n_estimators=300;, score=0.960 total time=  33.4s\n",
      "{'n_estimators': 300} 0.9607142857142857\n"
     ]
    }
   ],
   "source": [
    "rnd_clf = RandomForestClassifier()\n",
    "\n",
    "rf_param_grid = {\"n_estimators\": [100, 300]}\n",
    "\n",
    "gsRFC = GridSearchCV(rnd_clf, param_grid = rf_param_grid, cv=3, scoring=\"accuracy\", verbose=4)\n",
    "\n",
    "gsRFC.fit(X_train,y_train)\n",
    "\n",
    "print(gsRFC.best_params_, gsRFC.best_score_)"
   ]
  },
  {
   "cell_type": "code",
   "execution_count": 12,
   "id": "71e7dda0",
   "metadata": {
    "execution": {
     "iopub.execute_input": "2023-01-14T17:27:11.938047Z",
     "iopub.status.busy": "2023-01-14T17:27:11.937097Z",
     "iopub.status.idle": "2023-01-14T17:28:09.738781Z",
     "shell.execute_reply": "2023-01-14T17:28:09.737462Z"
    },
    "papermill": {
     "duration": 57.816155,
     "end_time": "2023-01-14T17:28:09.741339",
     "exception": false,
     "start_time": "2023-01-14T17:27:11.925184",
     "status": "completed"
    },
    "tags": []
   },
   "outputs": [],
   "source": [
    "knn_best = KNeighborsClassifier(n_neighbors=4, weights='distance')\n",
    "rnd_best = RandomForestClassifier(n_estimators=300)\n",
    "\n",
    "votingC = VotingClassifier(estimators=[('rfc', rnd_best), ('knnc', knn_best)], voting='soft', n_jobs=4)\n",
    "\n",
    "votingC = votingC.fit(X_train, y_train)"
   ]
  },
  {
   "cell_type": "code",
   "execution_count": 13,
   "id": "790e4c30",
   "metadata": {
    "execution": {
     "iopub.execute_input": "2023-01-14T17:28:09.764863Z",
     "iopub.status.busy": "2023-01-14T17:28:09.764556Z",
     "iopub.status.idle": "2023-01-14T17:28:46.752281Z",
     "shell.execute_reply": "2023-01-14T17:28:46.751220Z"
    },
    "papermill": {
     "duration": 37.012476,
     "end_time": "2023-01-14T17:28:46.765045",
     "exception": false,
     "start_time": "2023-01-14T17:28:09.752569",
     "status": "completed"
    },
    "tags": []
   },
   "outputs": [
    {
     "data": {
      "text/plain": [
       "array([2, 0, 9, ..., 3, 9, 2])"
      ]
     },
     "execution_count": 13,
     "metadata": {},
     "output_type": "execute_result"
    }
   ],
   "source": [
    "preds = votingC.predict(df_test)\n",
    "preds"
   ]
  },
  {
   "cell_type": "code",
   "execution_count": 14,
   "id": "e36175c7",
   "metadata": {
    "execution": {
     "iopub.execute_input": "2023-01-14T17:28:46.788887Z",
     "iopub.status.busy": "2023-01-14T17:28:46.788568Z",
     "iopub.status.idle": "2023-01-14T17:28:46.796912Z",
     "shell.execute_reply": "2023-01-14T17:28:46.796011Z"
    },
    "papermill": {
     "duration": 0.022616,
     "end_time": "2023-01-14T17:28:46.798843",
     "exception": false,
     "start_time": "2023-01-14T17:28:46.776227",
     "status": "completed"
    },
    "tags": []
   },
   "outputs": [
    {
     "data": {
      "text/plain": [
       "0        2\n",
       "1        0\n",
       "2        9\n",
       "3        4\n",
       "4        3\n",
       "        ..\n",
       "27995    9\n",
       "27996    7\n",
       "27997    3\n",
       "27998    9\n",
       "27999    2\n",
       "Name: Label, Length: 28000, dtype: int64"
      ]
     },
     "execution_count": 14,
     "metadata": {},
     "output_type": "execute_result"
    }
   ],
   "source": [
    "preds_new = pd.Series(preds, name=\"Label\")\n",
    "preds_new"
   ]
  },
  {
   "cell_type": "code",
   "execution_count": 15,
   "id": "78d2f944",
   "metadata": {
    "execution": {
     "iopub.execute_input": "2023-01-14T17:28:46.822556Z",
     "iopub.status.busy": "2023-01-14T17:28:46.821759Z",
     "iopub.status.idle": "2023-01-14T17:28:46.834176Z",
     "shell.execute_reply": "2023-01-14T17:28:46.833202Z"
    },
    "papermill": {
     "duration": 0.026554,
     "end_time": "2023-01-14T17:28:46.836233",
     "exception": false,
     "start_time": "2023-01-14T17:28:46.809679",
     "status": "completed"
    },
    "tags": []
   },
   "outputs": [
    {
     "data": {
      "text/html": [
       "<div>\n",
       "<style scoped>\n",
       "    .dataframe tbody tr th:only-of-type {\n",
       "        vertical-align: middle;\n",
       "    }\n",
       "\n",
       "    .dataframe tbody tr th {\n",
       "        vertical-align: top;\n",
       "    }\n",
       "\n",
       "    .dataframe thead th {\n",
       "        text-align: right;\n",
       "    }\n",
       "</style>\n",
       "<table border=\"1\" class=\"dataframe\">\n",
       "  <thead>\n",
       "    <tr style=\"text-align: right;\">\n",
       "      <th></th>\n",
       "      <th>ImageId</th>\n",
       "      <th>Label</th>\n",
       "    </tr>\n",
       "  </thead>\n",
       "  <tbody>\n",
       "    <tr>\n",
       "      <th>0</th>\n",
       "      <td>1</td>\n",
       "      <td>2</td>\n",
       "    </tr>\n",
       "    <tr>\n",
       "      <th>1</th>\n",
       "      <td>2</td>\n",
       "      <td>0</td>\n",
       "    </tr>\n",
       "    <tr>\n",
       "      <th>2</th>\n",
       "      <td>3</td>\n",
       "      <td>9</td>\n",
       "    </tr>\n",
       "    <tr>\n",
       "      <th>3</th>\n",
       "      <td>4</td>\n",
       "      <td>4</td>\n",
       "    </tr>\n",
       "    <tr>\n",
       "      <th>4</th>\n",
       "      <td>5</td>\n",
       "      <td>3</td>\n",
       "    </tr>\n",
       "    <tr>\n",
       "      <th>...</th>\n",
       "      <td>...</td>\n",
       "      <td>...</td>\n",
       "    </tr>\n",
       "    <tr>\n",
       "      <th>27995</th>\n",
       "      <td>27996</td>\n",
       "      <td>9</td>\n",
       "    </tr>\n",
       "    <tr>\n",
       "      <th>27996</th>\n",
       "      <td>27997</td>\n",
       "      <td>7</td>\n",
       "    </tr>\n",
       "    <tr>\n",
       "      <th>27997</th>\n",
       "      <td>27998</td>\n",
       "      <td>3</td>\n",
       "    </tr>\n",
       "    <tr>\n",
       "      <th>27998</th>\n",
       "      <td>27999</td>\n",
       "      <td>9</td>\n",
       "    </tr>\n",
       "    <tr>\n",
       "      <th>27999</th>\n",
       "      <td>28000</td>\n",
       "      <td>2</td>\n",
       "    </tr>\n",
       "  </tbody>\n",
       "</table>\n",
       "<p>28000 rows × 2 columns</p>\n",
       "</div>"
      ],
      "text/plain": [
       "       ImageId  Label\n",
       "0            1      2\n",
       "1            2      0\n",
       "2            3      9\n",
       "3            4      4\n",
       "4            5      3\n",
       "...        ...    ...\n",
       "27995    27996      9\n",
       "27996    27997      7\n",
       "27997    27998      3\n",
       "27998    27999      9\n",
       "27999    28000      2\n",
       "\n",
       "[28000 rows x 2 columns]"
      ]
     },
     "execution_count": 15,
     "metadata": {},
     "output_type": "execute_result"
    }
   ],
   "source": [
    "submission_voting = pd.concat([pd.Series(range(1,28001), name=\"ImageId\"), preds_new],axis = 1)\n",
    "submission_voting"
   ]
  },
  {
   "cell_type": "code",
   "execution_count": 16,
   "id": "6ba3753f",
   "metadata": {
    "execution": {
     "iopub.execute_input": "2023-01-14T17:28:46.860489Z",
     "iopub.status.busy": "2023-01-14T17:28:46.860219Z",
     "iopub.status.idle": "2023-01-14T17:28:46.864463Z",
     "shell.execute_reply": "2023-01-14T17:28:46.863405Z"
    },
    "papermill": {
     "duration": 0.01887,
     "end_time": "2023-01-14T17:28:46.866570",
     "exception": false,
     "start_time": "2023-01-14T17:28:46.847700",
     "status": "completed"
    },
    "tags": []
   },
   "outputs": [],
   "source": [
    "#submission_voting.to_csv(\"voting_submission.csv\",index=False) -> 96% score"
   ]
  },
  {
   "cell_type": "markdown",
   "id": "9f2a6db8",
   "metadata": {
    "papermill": {
     "duration": 0.010903,
     "end_time": "2023-01-14T17:28:46.888891",
     "exception": false,
     "start_time": "2023-01-14T17:28:46.877988",
     "status": "completed"
    },
    "tags": []
   },
   "source": [
    "## Using Convolutional Neural Networks\n",
    "\n",
    "Now we can try with CNN's. Before we do that though we have to rescale the data"
   ]
  },
  {
   "cell_type": "code",
   "execution_count": 17,
   "id": "4dc05d66",
   "metadata": {
    "execution": {
     "iopub.execute_input": "2023-01-14T17:28:46.914230Z",
     "iopub.status.busy": "2023-01-14T17:28:46.912806Z",
     "iopub.status.idle": "2023-01-14T17:28:47.090455Z",
     "shell.execute_reply": "2023-01-14T17:28:47.089361Z"
    },
    "papermill": {
     "duration": 0.19293,
     "end_time": "2023-01-14T17:28:47.093116",
     "exception": false,
     "start_time": "2023-01-14T17:28:46.900186",
     "status": "completed"
    },
    "tags": []
   },
   "outputs": [],
   "source": [
    "X_scaled = X / 255.0\n",
    "df_test = df_test / 255.0"
   ]
  },
  {
   "cell_type": "code",
   "execution_count": 18,
   "id": "24062c8a",
   "metadata": {
    "execution": {
     "iopub.execute_input": "2023-01-14T17:28:47.120559Z",
     "iopub.status.busy": "2023-01-14T17:28:47.120221Z",
     "iopub.status.idle": "2023-01-14T17:28:47.126749Z",
     "shell.execute_reply": "2023-01-14T17:28:47.125881Z"
    },
    "papermill": {
     "duration": 0.022388,
     "end_time": "2023-01-14T17:28:47.128937",
     "exception": false,
     "start_time": "2023-01-14T17:28:47.106549",
     "status": "completed"
    },
    "tags": []
   },
   "outputs": [],
   "source": [
    "X_scaled = X_scaled.values.reshape(-1, 28, 28, 1)\n",
    "df_test = df_test.values.reshape(-1, 28, 28, 1)"
   ]
  },
  {
   "cell_type": "markdown",
   "id": "3000bcd6",
   "metadata": {
    "papermill": {
     "duration": 0.011688,
     "end_time": "2023-01-14T17:28:47.152728",
     "exception": false,
     "start_time": "2023-01-14T17:28:47.141040",
     "status": "completed"
    },
    "tags": []
   },
   "source": [
    "We also need to convert the labels so they look like [0,0,1,0,0,0,0,0,0] instead of 2"
   ]
  },
  {
   "cell_type": "code",
   "execution_count": 19,
   "id": "c38f5ca5",
   "metadata": {
    "execution": {
     "iopub.execute_input": "2023-01-14T17:28:47.176653Z",
     "iopub.status.busy": "2023-01-14T17:28:47.176030Z",
     "iopub.status.idle": "2023-01-14T17:28:47.181445Z",
     "shell.execute_reply": "2023-01-14T17:28:47.180592Z"
    },
    "papermill": {
     "duration": 0.01975,
     "end_time": "2023-01-14T17:28:47.183834",
     "exception": false,
     "start_time": "2023-01-14T17:28:47.164084",
     "status": "completed"
    },
    "tags": []
   },
   "outputs": [],
   "source": [
    "y_converted = to_categorical(y, num_classes = 10)"
   ]
  },
  {
   "cell_type": "code",
   "execution_count": 20,
   "id": "fd3c6b85",
   "metadata": {
    "execution": {
     "iopub.execute_input": "2023-01-14T17:28:47.208212Z",
     "iopub.status.busy": "2023-01-14T17:28:47.207469Z",
     "iopub.status.idle": "2023-01-14T17:28:47.582507Z",
     "shell.execute_reply": "2023-01-14T17:28:47.581456Z"
    },
    "papermill": {
     "duration": 0.389031,
     "end_time": "2023-01-14T17:28:47.584890",
     "exception": false,
     "start_time": "2023-01-14T17:28:47.195859",
     "status": "completed"
    },
    "tags": []
   },
   "outputs": [],
   "source": [
    "X_train_scaled, X_test_scaled, y_train_scaled, y_test_scaled = train_test_split(X_scaled, y_converted, test_size = 0.3)"
   ]
  },
  {
   "cell_type": "code",
   "execution_count": 21,
   "id": "920282b2",
   "metadata": {
    "execution": {
     "iopub.execute_input": "2023-01-14T17:28:47.608703Z",
     "iopub.status.busy": "2023-01-14T17:28:47.608399Z",
     "iopub.status.idle": "2023-01-14T17:28:50.015937Z",
     "shell.execute_reply": "2023-01-14T17:28:50.014942Z"
    },
    "papermill": {
     "duration": 2.422094,
     "end_time": "2023-01-14T17:28:50.018534",
     "exception": false,
     "start_time": "2023-01-14T17:28:47.596440",
     "status": "completed"
    },
    "tags": []
   },
   "outputs": [
    {
     "name": "stderr",
     "output_type": "stream",
     "text": [
      "2023-01-14 17:28:47.694774: I tensorflow/stream_executor/cuda/cuda_gpu_executor.cc:937] successful NUMA node read from SysFS had negative value (-1), but there must be at least one NUMA node, so returning NUMA node zero\n",
      "2023-01-14 17:28:47.778526: I tensorflow/stream_executor/cuda/cuda_gpu_executor.cc:937] successful NUMA node read from SysFS had negative value (-1), but there must be at least one NUMA node, so returning NUMA node zero\n",
      "2023-01-14 17:28:47.779259: I tensorflow/stream_executor/cuda/cuda_gpu_executor.cc:937] successful NUMA node read from SysFS had negative value (-1), but there must be at least one NUMA node, so returning NUMA node zero\n",
      "2023-01-14 17:28:47.782094: I tensorflow/core/platform/cpu_feature_guard.cc:142] This TensorFlow binary is optimized with oneAPI Deep Neural Network Library (oneDNN) to use the following CPU instructions in performance-critical operations:  AVX2 AVX512F FMA\n",
      "To enable them in other operations, rebuild TensorFlow with the appropriate compiler flags.\n",
      "2023-01-14 17:28:47.782474: I tensorflow/stream_executor/cuda/cuda_gpu_executor.cc:937] successful NUMA node read from SysFS had negative value (-1), but there must be at least one NUMA node, so returning NUMA node zero\n",
      "2023-01-14 17:28:47.783424: I tensorflow/stream_executor/cuda/cuda_gpu_executor.cc:937] successful NUMA node read from SysFS had negative value (-1), but there must be at least one NUMA node, so returning NUMA node zero\n",
      "2023-01-14 17:28:47.784310: I tensorflow/stream_executor/cuda/cuda_gpu_executor.cc:937] successful NUMA node read from SysFS had negative value (-1), but there must be at least one NUMA node, so returning NUMA node zero\n",
      "2023-01-14 17:28:49.579379: I tensorflow/stream_executor/cuda/cuda_gpu_executor.cc:937] successful NUMA node read from SysFS had negative value (-1), but there must be at least one NUMA node, so returning NUMA node zero\n",
      "2023-01-14 17:28:49.580231: I tensorflow/stream_executor/cuda/cuda_gpu_executor.cc:937] successful NUMA node read from SysFS had negative value (-1), but there must be at least one NUMA node, so returning NUMA node zero\n",
      "2023-01-14 17:28:49.580889: I tensorflow/stream_executor/cuda/cuda_gpu_executor.cc:937] successful NUMA node read from SysFS had negative value (-1), but there must be at least one NUMA node, so returning NUMA node zero\n",
      "2023-01-14 17:28:49.581489: I tensorflow/core/common_runtime/gpu/gpu_device.cc:1510] Created device /job:localhost/replica:0/task:0/device:GPU:0 with 15401 MB memory:  -> device: 0, name: Tesla P100-PCIE-16GB, pci bus id: 0000:00:04.0, compute capability: 6.0\n"
     ]
    }
   ],
   "source": [
    "# In -> [[Conv2D->relu]*2 -> MaxPool2D -> Dropout]*2 -> Flatten -> Dense -> Dropout -> Out\n",
    "\n",
    "model = Sequential()\n",
    "model.add(Conv2D(filters = 8, kernel_size = (5,5),padding = 'Same', \n",
    "                 activation ='relu', input_shape = (28,28,1)))\n",
    "model.add(MaxPool2D(pool_size=(2,2)))\n",
    "model.add(Dropout(0.25))\n",
    "\n",
    "model.add(Conv2D(filters = 16, kernel_size = (3,3),padding = 'Same', \n",
    "                 activation ='relu'))\n",
    "model.add(MaxPool2D(pool_size=(2,2), strides=(2,2)))\n",
    "model.add(Dropout(0.25))\n",
    "\n",
    "model.add(Flatten())\n",
    "model.add(Dense(256, activation = \"relu\"))\n",
    "model.add(Dropout(0.5))\n",
    "model.add(Dense(10, activation = \"softmax\"))"
   ]
  },
  {
   "cell_type": "code",
   "execution_count": 22,
   "id": "5a73eb78",
   "metadata": {
    "execution": {
     "iopub.execute_input": "2023-01-14T17:28:50.046016Z",
     "iopub.status.busy": "2023-01-14T17:28:50.045048Z",
     "iopub.status.idle": "2023-01-14T17:28:50.050313Z",
     "shell.execute_reply": "2023-01-14T17:28:50.049358Z"
    },
    "papermill": {
     "duration": 0.021017,
     "end_time": "2023-01-14T17:28:50.052740",
     "exception": false,
     "start_time": "2023-01-14T17:28:50.031723",
     "status": "completed"
    },
    "tags": []
   },
   "outputs": [],
   "source": [
    "optimizer = Adam(learning_rate=0.001, beta_1=0.9, beta_2=0.999)"
   ]
  },
  {
   "cell_type": "code",
   "execution_count": 23,
   "id": "2de6c71d",
   "metadata": {
    "execution": {
     "iopub.execute_input": "2023-01-14T17:28:50.078850Z",
     "iopub.status.busy": "2023-01-14T17:28:50.078538Z",
     "iopub.status.idle": "2023-01-14T17:28:50.091206Z",
     "shell.execute_reply": "2023-01-14T17:28:50.090166Z"
    },
    "papermill": {
     "duration": 0.028139,
     "end_time": "2023-01-14T17:28:50.093194",
     "exception": false,
     "start_time": "2023-01-14T17:28:50.065055",
     "status": "completed"
    },
    "tags": []
   },
   "outputs": [],
   "source": [
    "model.compile(optimizer = optimizer , loss = \"categorical_crossentropy\", metrics=[\"accuracy\"])"
   ]
  },
  {
   "cell_type": "code",
   "execution_count": 24,
   "id": "2073cf59",
   "metadata": {
    "execution": {
     "iopub.execute_input": "2023-01-14T17:28:50.120116Z",
     "iopub.status.busy": "2023-01-14T17:28:50.119311Z",
     "iopub.status.idle": "2023-01-14T17:28:50.195567Z",
     "shell.execute_reply": "2023-01-14T17:28:50.194465Z"
    },
    "papermill": {
     "duration": 0.093027,
     "end_time": "2023-01-14T17:28:50.198511",
     "exception": false,
     "start_time": "2023-01-14T17:28:50.105484",
     "status": "completed"
    },
    "tags": []
   },
   "outputs": [],
   "source": [
    "datagen = ImageDataGenerator(\n",
    "        featurewise_center=False,\n",
    "        samplewise_center=False,\n",
    "        featurewise_std_normalization=False,\n",
    "        samplewise_std_normalization=False,\n",
    "        zca_whitening=False,\n",
    "        rotation_range=5,\n",
    "        zoom_range = 0.1,\n",
    "        width_shift_range=0.1,\n",
    "        height_shift_range=0.1,\n",
    "        horizontal_flip=False,\n",
    "        vertical_flip=False)\n",
    "\n",
    "datagen.fit(X_train_scaled)"
   ]
  },
  {
   "cell_type": "code",
   "execution_count": 25,
   "id": "fc794a25",
   "metadata": {
    "execution": {
     "iopub.execute_input": "2023-01-14T17:28:50.224800Z",
     "iopub.status.busy": "2023-01-14T17:28:50.224487Z",
     "iopub.status.idle": "2023-01-14T17:30:29.589696Z",
     "shell.execute_reply": "2023-01-14T17:30:29.588411Z"
    },
    "papermill": {
     "duration": 99.381058,
     "end_time": "2023-01-14T17:30:29.592441",
     "exception": false,
     "start_time": "2023-01-14T17:28:50.211383",
     "status": "completed"
    },
    "tags": []
   },
   "outputs": [
    {
     "name": "stderr",
     "output_type": "stream",
     "text": [
      "/opt/conda/lib/python3.7/site-packages/keras/engine/training.py:1972: UserWarning: `Model.fit_generator` is deprecated and will be removed in a future version. Please use `Model.fit`, which supports generators.\n",
      "  warnings.warn('`Model.fit_generator` is deprecated and '\n",
      "2023-01-14 17:28:50.387085: I tensorflow/compiler/mlir/mlir_graph_optimization_pass.cc:185] None of the MLIR Optimization Passes are enabled (registered 2)\n"
     ]
    },
    {
     "name": "stdout",
     "output_type": "stream",
     "text": [
      "Epoch 1/10\n"
     ]
    },
    {
     "name": "stderr",
     "output_type": "stream",
     "text": [
      "2023-01-14 17:28:51.640160: I tensorflow/stream_executor/cuda/cuda_dnn.cc:369] Loaded cuDNN version 8005\n"
     ]
    },
    {
     "name": "stdout",
     "output_type": "stream",
     "text": [
      "117/117 [==============================] - 15s 70ms/step - loss: 1.2662 - accuracy: 0.5755 - val_loss: 0.2817 - val_accuracy: 0.9274\n",
      "Epoch 2/10\n",
      "117/117 [==============================] - 8s 66ms/step - loss: 0.5175 - accuracy: 0.8347 - val_loss: 0.1368 - val_accuracy: 0.9622\n",
      "Epoch 3/10\n",
      "117/117 [==============================] - 7s 64ms/step - loss: 0.3567 - accuracy: 0.8880 - val_loss: 0.1051 - val_accuracy: 0.9679\n",
      "Epoch 4/10\n",
      "117/117 [==============================] - 8s 65ms/step - loss: 0.2998 - accuracy: 0.9070 - val_loss: 0.0916 - val_accuracy: 0.9734\n",
      "Epoch 5/10\n",
      "117/117 [==============================] - 8s 66ms/step - loss: 0.2545 - accuracy: 0.9196 - val_loss: 0.0778 - val_accuracy: 0.9774\n",
      "Epoch 6/10\n",
      "117/117 [==============================] - 7s 62ms/step - loss: 0.2319 - accuracy: 0.9271 - val_loss: 0.0696 - val_accuracy: 0.9800\n",
      "Epoch 7/10\n",
      "117/117 [==============================] - 7s 61ms/step - loss: 0.2131 - accuracy: 0.9335 - val_loss: 0.0650 - val_accuracy: 0.9818\n",
      "Epoch 8/10\n",
      "117/117 [==============================] - 8s 69ms/step - loss: 0.1978 - accuracy: 0.9389 - val_loss: 0.0592 - val_accuracy: 0.9827\n",
      "Epoch 9/10\n",
      "117/117 [==============================] - 8s 66ms/step - loss: 0.1871 - accuracy: 0.9427 - val_loss: 0.0572 - val_accuracy: 0.9836\n",
      "Epoch 10/10\n",
      "117/117 [==============================] - 7s 63ms/step - loss: 0.1764 - accuracy: 0.9457 - val_loss: 0.0509 - val_accuracy: 0.9853\n",
      "dict_keys(['loss', 'accuracy', 'val_loss', 'val_accuracy']) {'verbose': 1, 'epochs': 10, 'steps': 117}\n"
     ]
    }
   ],
   "source": [
    "history = model.fit_generator(datagen.flow(X_train_scaled,y_train_scaled, batch_size=250),\n",
    "                              epochs = 10, validation_data = (X_test_scaled,y_test_scaled), steps_per_epoch=X_train.shape[0] // 250)\n",
    "print(history.history.keys(), history.params)"
   ]
  },
  {
   "cell_type": "markdown",
   "id": "0a6f0b17",
   "metadata": {
    "papermill": {
     "duration": 0.063094,
     "end_time": "2023-01-14T17:30:29.719419",
     "exception": false,
     "start_time": "2023-01-14T17:30:29.656325",
     "status": "completed"
    },
    "tags": []
   },
   "source": [
    "Now it is time to evaluate the model"
   ]
  },
  {
   "cell_type": "code",
   "execution_count": 26,
   "id": "fd1d7fcd",
   "metadata": {
    "execution": {
     "iopub.execute_input": "2023-01-14T17:30:29.852374Z",
     "iopub.status.busy": "2023-01-14T17:30:29.851413Z",
     "iopub.status.idle": "2023-01-14T17:30:30.047451Z",
     "shell.execute_reply": "2023-01-14T17:30:30.046529Z"
    },
    "papermill": {
     "duration": 0.263569,
     "end_time": "2023-01-14T17:30:30.049440",
     "exception": false,
     "start_time": "2023-01-14T17:30:29.785871",
     "status": "completed"
    },
    "tags": []
   },
   "outputs": [
    {
     "data": {
      "image/png": "[encoded data removed]",
      "text/plain": [
       "<Figure size 432x288 with 1 Axes>"
      ]
     },
     "metadata": {
      "needs_background": "light"
     },
     "output_type": "display_data"
    }
   ],
   "source": [
    "plt.plot(history.history['val_loss'], color='b', label=\"validation loss\")\n",
    "plt.title(\"Test Loss\")\n",
    "plt.xlabel(\"Number of Epochs\")\n",
    "plt.ylabel(\"Loss\")\n",
    "plt.legend()\n",
    "plt.show()"
   ]
  },
  {
   "cell_type": "markdown",
   "id": "97ddc1d4",
   "metadata": {
    "papermill": {
     "duration": 0.064017,
     "end_time": "2023-01-14T17:30:30.177826",
     "exception": false,
     "start_time": "2023-01-14T17:30:30.113809",
     "status": "completed"
    },
    "tags": []
   },
   "source": [
    "The graph above plots the loss and accuracy curve for training and test"
   ]
  },
  {
   "cell_type": "code",
   "execution_count": 27,
   "id": "fd07e94e",
   "metadata": {
    "execution": {
     "iopub.execute_input": "2023-01-14T17:30:30.305751Z",
     "iopub.status.busy": "2023-01-14T17:30:30.305408Z",
     "iopub.status.idle": "2023-01-14T17:30:30.595052Z",
     "shell.execute_reply": "2023-01-14T17:30:30.594067Z"
    },
    "papermill": {
     "duration": 0.355754,
     "end_time": "2023-01-14T17:30:30.597074",
     "exception": false,
     "start_time": "2023-01-14T17:30:30.241320",
     "status": "completed"
    },
    "tags": []
   },
   "outputs": [
    {
     "data": {
      "image/png": "[encoded data removed]",
      "text/plain": [
       "<Figure size 432x288 with 2 Axes>"
      ]
     },
     "metadata": {
      "needs_background": "light"
     },
     "output_type": "display_data"
    }
   ],
   "source": [
    "fig, ax = plt.subplots(2,1)\n",
    "ax[0].plot(history.history['loss'], color='b', label=\"Training loss\")\n",
    "ax[0].plot(history.history['val_loss'], color='r', label=\"validation loss\",axes =ax[0])\n",
    "legend = ax[0].legend(loc='best', shadow=True)\n",
    "\n",
    "ax[1].plot(history.history['accuracy'], color='b', label=\"Training accuracy\")\n",
    "ax[1].plot(history.history['val_accuracy'], color='r',label=\"Validation accuracy\")\n",
    "legend = ax[1].legend(loc='best', shadow=True)"
   ]
  },
  {
   "cell_type": "markdown",
   "id": "8a4bc319",
   "metadata": {
    "papermill": {
     "duration": 0.063593,
     "end_time": "2023-01-14T17:30:30.725058",
     "exception": false,
     "start_time": "2023-01-14T17:30:30.661465",
     "status": "completed"
    },
    "tags": []
   },
   "source": [
    "We get 99% accuracy on 2 epochs which is really good. Validation accuracy is larger than training accuracy which also means that we are not overfitting."
   ]
  },
  {
   "cell_type": "code",
   "execution_count": 28,
   "id": "5a7bcd58",
   "metadata": {
    "execution": {
     "iopub.execute_input": "2023-01-14T17:30:30.853844Z",
     "iopub.status.busy": "2023-01-14T17:30:30.853502Z",
     "iopub.status.idle": "2023-01-14T17:30:32.209016Z",
     "shell.execute_reply": "2023-01-14T17:30:32.208065Z"
    },
    "papermill": {
     "duration": 1.422042,
     "end_time": "2023-01-14T17:30:32.211280",
     "exception": false,
     "start_time": "2023-01-14T17:30:30.789238",
     "status": "completed"
    },
    "tags": []
   },
   "outputs": [
    {
     "data": {
      "image/png": "[encoded data removed]",
      "text/plain": [
       "<Figure size 576x576 with 2 Axes>"
      ]
     },
     "metadata": {
      "needs_background": "light"
     },
     "output_type": "display_data"
    }
   ],
   "source": [
    "Y_pred = model.predict(X_test_scaled)\n",
    "Y_pred_classes = np.argmax(y_test_scaled,axis = 1) \n",
    "Y_true = np.argmax(y_test_scaled,axis = 1) \n",
    "\n",
    "confusion_mtx = confusion_matrix(Y_true, Y_pred_classes) \n",
    "\n",
    "f,ax = plt.subplots(figsize=(8, 8))\n",
    "sns.heatmap(confusion_mtx, annot=True, linewidths=0.01, ax=ax)\n",
    "plt.xlabel(\"Predicted Label\")\n",
    "plt.ylabel(\"True Label\")\n",
    "plt.show()"
   ]
  },
  {
   "cell_type": "markdown",
   "id": "d8bbc611",
   "metadata": {
    "papermill": {
     "duration": 0.064415,
     "end_time": "2023-01-14T17:30:32.341546",
     "exception": false,
     "start_time": "2023-01-14T17:30:32.277131",
     "status": "completed"
    },
    "tags": []
   },
   "source": [
    "How do you make sense of this ? Take number 1 for true label and predicted label. If the value is > 0 for a cell it means there is a relationship between them. All other values are 0 for 1 except for 1 in true and predicted. Which means there is a correlation between true label 1 and predicted 1 which is the true prediction\n",
    "\n",
    "Lets plot for Knn"
   ]
  },
  {
   "cell_type": "code",
   "execution_count": 29,
   "id": "c879e1da",
   "metadata": {
    "execution": {
     "iopub.execute_input": "2023-01-14T17:30:32.473457Z",
     "iopub.status.busy": "2023-01-14T17:30:32.471581Z",
     "iopub.status.idle": "2023-01-14T17:30:33.249395Z",
     "shell.execute_reply": "2023-01-14T17:30:33.248422Z"
    },
    "papermill": {
     "duration": 0.84566,
     "end_time": "2023-01-14T17:30:33.251822",
     "exception": false,
     "start_time": "2023-01-14T17:30:32.406162",
     "status": "completed"
    },
    "tags": []
   },
   "outputs": [
    {
     "data": {
      "image/png": "[encoded data removed]",
      "text/plain": [
       "<Figure size 576x576 with 2 Axes>"
      ]
     },
     "metadata": {
      "needs_background": "light"
     },
     "output_type": "display_data"
    }
   ],
   "source": [
    "confusion_mtx = confusion_matrix(y_test, y_test_grid) \n",
    "\n",
    "f,ax = plt.subplots(figsize=(8, 8))\n",
    "sns.heatmap(confusion_mtx, annot=True, linewidths=0.01, ax=ax)\n",
    "plt.xlabel(\"Predicted Label\")\n",
    "plt.ylabel(\"True Label\")\n",
    "plt.show()"
   ]
  },
  {
   "cell_type": "code",
   "execution_count": 30,
   "id": "5a7c2f06",
   "metadata": {
    "execution": {
     "iopub.execute_input": "2023-01-14T17:30:33.383886Z",
     "iopub.status.busy": "2023-01-14T17:30:33.383574Z",
     "iopub.status.idle": "2023-01-14T17:30:35.035899Z",
     "shell.execute_reply": "2023-01-14T17:30:35.034873Z"
    },
    "papermill": {
     "duration": 1.720997,
     "end_time": "2023-01-14T17:30:35.038309",
     "exception": false,
     "start_time": "2023-01-14T17:30:33.317312",
     "status": "completed"
    },
    "tags": []
   },
   "outputs": [],
   "source": [
    "preds = model.predict(df_test)\n",
    "preds = np.argmax(preds, axis = 1)\n",
    "preds = pd.Series(preds, name=\"Label\")"
   ]
  },
  {
   "cell_type": "code",
   "execution_count": 31,
   "id": "2ba4f635",
   "metadata": {
    "execution": {
     "iopub.execute_input": "2023-01-14T17:30:35.173688Z",
     "iopub.status.busy": "2023-01-14T17:30:35.173281Z",
     "iopub.status.idle": "2023-01-14T17:30:35.177830Z",
     "shell.execute_reply": "2023-01-14T17:30:35.176792Z"
    },
    "papermill": {
     "duration": 0.074829,
     "end_time": "2023-01-14T17:30:35.180356",
     "exception": false,
     "start_time": "2023-01-14T17:30:35.105527",
     "status": "completed"
    },
    "tags": []
   },
   "outputs": [],
   "source": [
    "# uncomment to submit. This will give 98% score\n",
    "#submission = pd.concat([pd.Series(range(1,28001), name=\"ImageId\"), preds],axis = 1)\n",
    "#submission.to_csv(\"cnn_submission.csv\",index=False)"
   ]
  },
  {
   "cell_type": "markdown",
   "id": "4883768b",
   "metadata": {
    "papermill": {
     "duration": 0.063734,
     "end_time": "2023-01-14T17:30:35.307780",
     "exception": false,
     "start_time": "2023-01-14T17:30:35.244046",
     "status": "completed"
    },
    "tags": []
   },
   "source": [
    "We can do a random search on the created CNN model as well and see if we can do any better than 98% score"
   ]
  },
  {
   "cell_type": "code",
   "execution_count": 32,
   "id": "23f6f6ba",
   "metadata": {
    "execution": {
     "iopub.execute_input": "2023-01-14T17:30:35.438622Z",
     "iopub.status.busy": "2023-01-14T17:30:35.438324Z",
     "iopub.status.idle": "2023-01-14T17:32:39.522002Z",
     "shell.execute_reply": "2023-01-14T17:32:39.520621Z"
    },
    "papermill": {
     "duration": 124.151742,
     "end_time": "2023-01-14T17:32:39.524355",
     "exception": false,
     "start_time": "2023-01-14T17:30:35.372613",
     "status": "completed"
    },
    "tags": []
   },
   "outputs": [
    {
     "name": "stdout",
     "output_type": "stream",
     "text": [
      "Trial 3 Complete [00h 00m 40s]\n",
      "val_accuracy: 0.9825396537780762\n",
      "\n",
      "Best val_accuracy So Far: 0.9825396537780762\n",
      "Total elapsed time: 00h 02m 04s\n"
     ]
    }
   ],
   "source": [
    "def create_model(hp):\n",
    "    model = Sequential()\n",
    "    model.add(Conv2D(filters = hp.Int('conv_1_filter', min_value=2, max_value=32, step=2), \n",
    "                     kernel_size = hp.Choice('conv_1_kernel', values = [3,5,7]),\n",
    "                     padding = 'Same', \n",
    "                     activation ='relu', input_shape = (28,28,1)))\n",
    "    model.add(MaxPool2D(pool_size=(2,2)))\n",
    "    model.add(Dropout(0.25))\n",
    "\n",
    "    model.add(Conv2D(filters = hp.Int('conv_1_filter', min_value=2, max_value=32, step=2), \n",
    "                     kernel_size=hp.Choice('conv_2_kernel', values = [3,5]),\n",
    "                     padding = 'Same', \n",
    "                     activation ='relu'))\n",
    "    model.add(MaxPool2D(pool_size=(2,2), strides=(2,2)))\n",
    "    model.add(Dropout(0.25))\n",
    "\n",
    "    model.add(Flatten())\n",
    "    model.add(Dense(units=hp.Int('dense_1_units', min_value=128, max_value=256, step=32), \n",
    "                    activation = \"relu\"))\n",
    "    model.add(Dropout(0.5))\n",
    "    model.add(Dense(10, activation = \"softmax\"))\n",
    "    \n",
    "    model.compile(optimizer=Adam(hp.Choice('learning_rate', values=[0.001, 0.01, 0.1]),\n",
    "                                hp.Choice('beta_1', values=[0.9, 1.0, 0.1]),\n",
    "                                hp.Choice('beta_2', values=[0.999, 1.0, 0.1])), \n",
    "                  loss = \"categorical_crossentropy\", metrics=[\"accuracy\"])\n",
    "    return model\n",
    "\n",
    "tuner = RandomSearch(create_model, objective='val_accuracy', max_trials = 3)\n",
    "tuner.search(X_train_scaled,y_train_scaled,epochs=10,validation_data=(X_test_scaled,y_test_scaled))"
   ]
  },
  {
   "cell_type": "code",
   "execution_count": 33,
   "id": "ce9e6421",
   "metadata": {
    "execution": {
     "iopub.execute_input": "2023-01-14T17:32:39.657652Z",
     "iopub.status.busy": "2023-01-14T17:32:39.656785Z",
     "iopub.status.idle": "2023-01-14T17:32:39.944738Z",
     "shell.execute_reply": "2023-01-14T17:32:39.942827Z"
    },
    "papermill": {
     "duration": 0.356496,
     "end_time": "2023-01-14T17:32:39.947770",
     "exception": false,
     "start_time": "2023-01-14T17:32:39.591274",
     "status": "completed"
    },
    "tags": []
   },
   "outputs": [
    {
     "name": "stdout",
     "output_type": "stream",
     "text": [
      "Model: \"sequential\"\n",
      "_________________________________________________________________\n",
      "Layer (type)                 Output Shape              Param #   \n",
      "=================================================================\n",
      "conv2d (Conv2D)              (None, 28, 28, 4)         200       \n",
      "_________________________________________________________________\n",
      "max_pooling2d (MaxPooling2D) (None, 14, 14, 4)         0         \n",
      "_________________________________________________________________\n",
      "dropout (Dropout)            (None, 14, 14, 4)         0         \n",
      "_________________________________________________________________\n",
      "conv2d_1 (Conv2D)            (None, 14, 14, 4)         404       \n",
      "_________________________________________________________________\n",
      "max_pooling2d_1 (MaxPooling2 (None, 7, 7, 4)           0         \n",
      "_________________________________________________________________\n",
      "dropout_1 (Dropout)          (None, 7, 7, 4)           0         \n",
      "_________________________________________________________________\n",
      "flatten (Flatten)            (None, 196)               0         \n",
      "_________________________________________________________________\n",
      "dense (Dense)                (None, 192)               37824     \n",
      "_________________________________________________________________\n",
      "dropout_2 (Dropout)          (None, 192)               0         \n",
      "_________________________________________________________________\n",
      "dense_1 (Dense)              (None, 10)                1930      \n",
      "=================================================================\n",
      "Total params: 40,358\n",
      "Trainable params: 40,358\n",
      "Non-trainable params: 0\n",
      "_________________________________________________________________\n"
     ]
    }
   ],
   "source": [
    "tuned_model = tuner.get_best_models(num_models=1)[0]\n",
    "#summary of best model\n",
    "tuned_model.summary()"
   ]
  },
  {
   "cell_type": "code",
   "execution_count": 34,
   "id": "1081092e",
   "metadata": {
    "execution": {
     "iopub.execute_input": "2023-01-14T17:32:40.083250Z",
     "iopub.status.busy": "2023-01-14T17:32:40.082912Z",
     "iopub.status.idle": "2023-01-14T17:34:03.590238Z",
     "shell.execute_reply": "2023-01-14T17:34:03.589090Z"
    },
    "papermill": {
     "duration": 83.577278,
     "end_time": "2023-01-14T17:34:03.592891",
     "exception": false,
     "start_time": "2023-01-14T17:32:40.015613",
     "status": "completed"
    },
    "tags": []
   },
   "outputs": [
    {
     "name": "stderr",
     "output_type": "stream",
     "text": [
      "/opt/conda/lib/python3.7/site-packages/keras/engine/training.py:1972: UserWarning: `Model.fit_generator` is deprecated and will be removed in a future version. Please use `Model.fit`, which supports generators.\n",
      "  warnings.warn('`Model.fit_generator` is deprecated and '\n"
     ]
    },
    {
     "name": "stdout",
     "output_type": "stream",
     "text": [
      "Epoch 1/10\n",
      "117/117 [==============================] - 8s 68ms/step - loss: 0.4732 - accuracy: 0.8556 - val_loss: 0.0800 - val_accuracy: 0.9797\n",
      "Epoch 2/10\n",
      "117/117 [==============================] - 7s 62ms/step - loss: 0.3753 - accuracy: 0.8836 - val_loss: 0.0779 - val_accuracy: 0.9789\n",
      "Epoch 3/10\n",
      "117/117 [==============================] - 8s 65ms/step - loss: 0.3380 - accuracy: 0.8941 - val_loss: 0.0775 - val_accuracy: 0.9783\n",
      "Epoch 4/10\n",
      "117/117 [==============================] - 8s 67ms/step - loss: 0.3098 - accuracy: 0.9058 - val_loss: 0.0740 - val_accuracy: 0.9795\n",
      "Epoch 5/10\n",
      "117/117 [==============================] - 8s 67ms/step - loss: 0.3104 - accuracy: 0.9055 - val_loss: 0.0759 - val_accuracy: 0.9790\n",
      "Epoch 6/10\n",
      "117/117 [==============================] - 8s 65ms/step - loss: 0.2936 - accuracy: 0.9079 - val_loss: 0.0763 - val_accuracy: 0.9799\n",
      "Epoch 7/10\n",
      "117/117 [==============================] - 7s 62ms/step - loss: 0.2854 - accuracy: 0.9126 - val_loss: 0.0743 - val_accuracy: 0.9791\n",
      "Epoch 8/10\n",
      "117/117 [==============================] - 7s 63ms/step - loss: 0.2759 - accuracy: 0.9135 - val_loss: 0.0720 - val_accuracy: 0.9802\n",
      "Epoch 9/10\n",
      "117/117 [==============================] - 7s 64ms/step - loss: 0.2648 - accuracy: 0.9180 - val_loss: 0.0728 - val_accuracy: 0.9798\n",
      "Epoch 10/10\n",
      "117/117 [==============================] - 7s 61ms/step - loss: 0.2588 - accuracy: 0.9195 - val_loss: 0.0730 - val_accuracy: 0.9798\n"
     ]
    }
   ],
   "source": [
    "history = tuned_model.fit_generator(datagen.flow(X_train_scaled,y_train_scaled, batch_size=250),\n",
    "                              epochs = 10, validation_data = (X_test_scaled,y_test_scaled), steps_per_epoch=X_train.shape[0] // 250)"
   ]
  },
  {
   "cell_type": "code",
   "execution_count": 35,
   "id": "fb7900f2",
   "metadata": {
    "execution": {
     "iopub.execute_input": "2023-01-14T17:34:03.872409Z",
     "iopub.status.busy": "2023-01-14T17:34:03.871917Z",
     "iopub.status.idle": "2023-01-14T17:34:05.041064Z",
     "shell.execute_reply": "2023-01-14T17:34:05.039982Z"
    },
    "papermill": {
     "duration": 1.294507,
     "end_time": "2023-01-14T17:34:05.043718",
     "exception": false,
     "start_time": "2023-01-14T17:34:03.749211",
     "status": "completed"
    },
    "tags": []
   },
   "outputs": [],
   "source": [
    "new_preds = tuned_model.predict(df_test)\n",
    "new_preds = np.argmax(new_preds, axis = 1)\n",
    "new_preds = pd.Series(new_preds, name=\"Label\")"
   ]
  },
  {
   "cell_type": "code",
   "execution_count": 36,
   "id": "91b459a1",
   "metadata": {
    "execution": {
     "iopub.execute_input": "2023-01-14T17:34:05.287984Z",
     "iopub.status.busy": "2023-01-14T17:34:05.287636Z",
     "iopub.status.idle": "2023-01-14T17:34:05.295336Z",
     "shell.execute_reply": "2023-01-14T17:34:05.294496Z"
    },
    "papermill": {
     "duration": 0.131823,
     "end_time": "2023-01-14T17:34:05.297505",
     "exception": false,
     "start_time": "2023-01-14T17:34:05.165682",
     "status": "completed"
    },
    "tags": []
   },
   "outputs": [],
   "source": [
    "submission_tuned = pd.concat([pd.Series(range(1,28001), name=\"ImageId\"), new_preds],axis = 1)\n",
    "# Uncomment to submit, This will give 99228% accuracy score\n",
    "#submission_tuned.to_csv(\"tuned_submission.csv\",index=False)"
   ]
  }
 ],
 "metadata": {
  "kernelspec": {
   "display_name": "Python 3",
   "language": "python",
   "name": "python3"
  },
  "language_info": {
   "codemirror_mode": {
    "name": "ipython",
    "version": 3
   },
   "file_extension": ".py",
   "mimetype": "text/x-python",
   "name": "python",
   "nbconvert_exporter": "python",
   "pygments_lexer": "ipython3",
   "version": "3.7.12"
  },
  "papermill": {
   "default_parameters": {},
   "duration": 819.808647,
   "end_time": "2023-01-14T17:34:08.239400",
   "environment_variables": {},
   "exception": null,
   "input_path": "__notebook__.ipynb",
   "output_path": "__notebook__.ipynb",
   "parameters": {},
   "start_time": "2023-01-14T17:20:28.430753",
   "version": "2.3.4"
  }
 },
 "nbformat": 4,
 "nbformat_minor": 5
}
