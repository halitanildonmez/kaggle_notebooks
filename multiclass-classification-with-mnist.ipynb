{
 "cells": [
  {
   "cell_type": "code",
   "execution_count": 1,
   "id": "a99582b8",
   "metadata": {
    "_cell_guid": "b1076dfc-b9ad-4769-8c92-a6c4dae69d19",
    "_uuid": "8f2839f25d086af736a60e9eeb907d3b93b6e0e5",
    "execution": {
     "iopub.execute_input": "2023-01-08T17:35:48.755384Z",
     "iopub.status.busy": "2023-01-08T17:35:48.754847Z",
     "iopub.status.idle": "2023-01-08T17:35:48.775180Z",
     "shell.execute_reply": "2023-01-08T17:35:48.774193Z"
    },
    "papermill": {
     "duration": 0.036837,
     "end_time": "2023-01-08T17:35:48.778318",
     "exception": false,
     "start_time": "2023-01-08T17:35:48.741481",
     "status": "completed"
    },
    "tags": []
   },
   "outputs": [
    {
     "name": "stdout",
     "output_type": "stream",
     "text": [
      "/kaggle/input/digit-recognizer/sample_submission.csv\n",
      "/kaggle/input/digit-recognizer/train.csv\n",
      "/kaggle/input/digit-recognizer/test.csv\n"
     ]
    }
   ],
   "source": [
    "# This Python 3 environment comes with many helpful analytics libraries installed\n",
    "# It is defined by the kaggle/python Docker image: https://github.com/kaggle/docker-python\n",
    "# For example, here's several helpful packages to load\n",
    "\n",
    "import numpy as np # linear algebra\n",
    "import pandas as pd # data processing, CSV file I/O (e.g. pd.read_csv)\n",
    "\n",
    "# Input data files are available in the read-only \"../input/\" directory\n",
    "# For example, running this (by clicking run or pressing Shift+Enter) will list all files under the input directory\n",
    "\n",
    "import os\n",
    "for dirname, _, filenames in os.walk('/kaggle/input'):\n",
    "    for filename in filenames:\n",
    "        print(os.path.join(dirname, filename))\n",
    "\n",
    "# You can write up to 20GB to the current directory (/kaggle/working/) that gets preserved as output when you create a version using \"Save & Run All\" \n",
    "# You can also write temporary files to /kaggle/temp/, but they won't be saved outside of the current session"
   ]
  },
  {
   "cell_type": "markdown",
   "id": "b012bf10",
   "metadata": {
    "papermill": {
     "duration": 0.010162,
     "end_time": "2023-01-08T17:35:48.796197",
     "exception": false,
     "start_time": "2023-01-08T17:35:48.786035",
     "status": "completed"
    },
    "tags": []
   },
   "source": [
    "## Agenda\n",
    "\n",
    "In this notebook I will show how one can do multiclass classification using MNIST and hopefully provide some helper methods and references for you to use\n",
    "\n",
    "I will load and visualize data and try certain models to compare performances of them"
   ]
  },
  {
   "cell_type": "code",
   "execution_count": 2,
   "id": "ca8d6a52",
   "metadata": {
    "execution": {
     "iopub.execute_input": "2023-01-08T17:35:48.823961Z",
     "iopub.status.busy": "2023-01-08T17:35:48.823502Z",
     "iopub.status.idle": "2023-01-08T17:35:53.898189Z",
     "shell.execute_reply": "2023-01-08T17:35:53.897199Z"
    },
    "papermill": {
     "duration": 5.094189,
     "end_time": "2023-01-08T17:35:53.900611",
     "exception": false,
     "start_time": "2023-01-08T17:35:48.806422",
     "status": "completed"
    },
    "tags": []
   },
   "outputs": [],
   "source": [
    "df_train = pd.read_csv('/kaggle/input/digit-recognizer/train.csv')\n",
    "df_test = pd.read_csv('/kaggle/input/digit-recognizer/test.csv')\n",
    "df_submission = pd.read_csv('/kaggle/input/digit-recognizer/sample_submission.csv')\n",
    "\n",
    "X = df_train.drop([\"label\"], axis=1)\n",
    "y = df_train[\"label\"]"
   ]
  },
  {
   "cell_type": "code",
   "execution_count": 3,
   "id": "faa4c1ef",
   "metadata": {
    "execution": {
     "iopub.execute_input": "2023-01-08T17:35:53.914894Z",
     "iopub.status.busy": "2023-01-08T17:35:53.914574Z",
     "iopub.status.idle": "2023-01-08T17:35:54.986906Z",
     "shell.execute_reply": "2023-01-08T17:35:54.985858Z"
    },
    "papermill": {
     "duration": 1.082416,
     "end_time": "2023-01-08T17:35:54.989554",
     "exception": false,
     "start_time": "2023-01-08T17:35:53.907138",
     "status": "completed"
    },
    "tags": []
   },
   "outputs": [],
   "source": [
    "# Divide train data to test and train for measuring accuraccy and other metrics\n",
    "from sklearn.model_selection import train_test_split\n",
    "\n",
    "X_train, X_test, y_train, y_test = train_test_split(X, y, test_size = 0.3)"
   ]
  },
  {
   "cell_type": "code",
   "execution_count": 4,
   "id": "cf1f6730",
   "metadata": {
    "execution": {
     "iopub.execute_input": "2023-01-08T17:35:55.002108Z",
     "iopub.status.busy": "2023-01-08T17:35:55.001760Z",
     "iopub.status.idle": "2023-01-08T17:35:55.046398Z",
     "shell.execute_reply": "2023-01-08T17:35:55.045330Z"
    },
    "papermill": {
     "duration": 0.05429,
     "end_time": "2023-01-08T17:35:55.049551",
     "exception": false,
     "start_time": "2023-01-08T17:35:54.995261",
     "status": "completed"
    },
    "tags": []
   },
   "outputs": [
    {
     "name": "stdout",
     "output_type": "stream",
     "text": [
      "<class 'pandas.core.frame.DataFrame'>\n",
      "RangeIndex: 42000 entries, 0 to 41999\n",
      "Columns: 785 entries, label to pixel783\n",
      "dtypes: int64(785)\n",
      "memory usage: 251.5 MB\n"
     ]
    }
   ],
   "source": [
    "df_train.info()"
   ]
  },
  {
   "cell_type": "code",
   "execution_count": 5,
   "id": "5271786e",
   "metadata": {
    "execution": {
     "iopub.execute_input": "2023-01-08T17:35:55.062279Z",
     "iopub.status.busy": "2023-01-08T17:35:55.061918Z",
     "iopub.status.idle": "2023-01-08T17:35:55.083219Z",
     "shell.execute_reply": "2023-01-08T17:35:55.082355Z"
    },
    "papermill": {
     "duration": 0.029867,
     "end_time": "2023-01-08T17:35:55.085231",
     "exception": false,
     "start_time": "2023-01-08T17:35:55.055364",
     "status": "completed"
    },
    "tags": []
   },
   "outputs": [
    {
     "data": {
      "text/html": [
       "<div>\n",
       "<style scoped>\n",
       "    .dataframe tbody tr th:only-of-type {\n",
       "        vertical-align: middle;\n",
       "    }\n",
       "\n",
       "    .dataframe tbody tr th {\n",
       "        vertical-align: top;\n",
       "    }\n",
       "\n",
       "    .dataframe thead th {\n",
       "        text-align: right;\n",
       "    }\n",
       "</style>\n",
       "<table border=\"1\" class=\"dataframe\">\n",
       "  <thead>\n",
       "    <tr style=\"text-align: right;\">\n",
       "      <th></th>\n",
       "      <th>label</th>\n",
       "      <th>pixel0</th>\n",
       "      <th>pixel1</th>\n",
       "      <th>pixel2</th>\n",
       "      <th>pixel3</th>\n",
       "      <th>pixel4</th>\n",
       "      <th>pixel5</th>\n",
       "      <th>pixel6</th>\n",
       "      <th>pixel7</th>\n",
       "      <th>pixel8</th>\n",
       "      <th>...</th>\n",
       "      <th>pixel774</th>\n",
       "      <th>pixel775</th>\n",
       "      <th>pixel776</th>\n",
       "      <th>pixel777</th>\n",
       "      <th>pixel778</th>\n",
       "      <th>pixel779</th>\n",
       "      <th>pixel780</th>\n",
       "      <th>pixel781</th>\n",
       "      <th>pixel782</th>\n",
       "      <th>pixel783</th>\n",
       "    </tr>\n",
       "  </thead>\n",
       "  <tbody>\n",
       "    <tr>\n",
       "      <th>0</th>\n",
       "      <td>1</td>\n",
       "      <td>0</td>\n",
       "      <td>0</td>\n",
       "      <td>0</td>\n",
       "      <td>0</td>\n",
       "      <td>0</td>\n",
       "      <td>0</td>\n",
       "      <td>0</td>\n",
       "      <td>0</td>\n",
       "      <td>0</td>\n",
       "      <td>...</td>\n",
       "      <td>0</td>\n",
       "      <td>0</td>\n",
       "      <td>0</td>\n",
       "      <td>0</td>\n",
       "      <td>0</td>\n",
       "      <td>0</td>\n",
       "      <td>0</td>\n",
       "      <td>0</td>\n",
       "      <td>0</td>\n",
       "      <td>0</td>\n",
       "    </tr>\n",
       "    <tr>\n",
       "      <th>1</th>\n",
       "      <td>0</td>\n",
       "      <td>0</td>\n",
       "      <td>0</td>\n",
       "      <td>0</td>\n",
       "      <td>0</td>\n",
       "      <td>0</td>\n",
       "      <td>0</td>\n",
       "      <td>0</td>\n",
       "      <td>0</td>\n",
       "      <td>0</td>\n",
       "      <td>...</td>\n",
       "      <td>0</td>\n",
       "      <td>0</td>\n",
       "      <td>0</td>\n",
       "      <td>0</td>\n",
       "      <td>0</td>\n",
       "      <td>0</td>\n",
       "      <td>0</td>\n",
       "      <td>0</td>\n",
       "      <td>0</td>\n",
       "      <td>0</td>\n",
       "    </tr>\n",
       "    <tr>\n",
       "      <th>2</th>\n",
       "      <td>1</td>\n",
       "      <td>0</td>\n",
       "      <td>0</td>\n",
       "      <td>0</td>\n",
       "      <td>0</td>\n",
       "      <td>0</td>\n",
       "      <td>0</td>\n",
       "      <td>0</td>\n",
       "      <td>0</td>\n",
       "      <td>0</td>\n",
       "      <td>...</td>\n",
       "      <td>0</td>\n",
       "      <td>0</td>\n",
       "      <td>0</td>\n",
       "      <td>0</td>\n",
       "      <td>0</td>\n",
       "      <td>0</td>\n",
       "      <td>0</td>\n",
       "      <td>0</td>\n",
       "      <td>0</td>\n",
       "      <td>0</td>\n",
       "    </tr>\n",
       "    <tr>\n",
       "      <th>3</th>\n",
       "      <td>4</td>\n",
       "      <td>0</td>\n",
       "      <td>0</td>\n",
       "      <td>0</td>\n",
       "      <td>0</td>\n",
       "      <td>0</td>\n",
       "      <td>0</td>\n",
       "      <td>0</td>\n",
       "      <td>0</td>\n",
       "      <td>0</td>\n",
       "      <td>...</td>\n",
       "      <td>0</td>\n",
       "      <td>0</td>\n",
       "      <td>0</td>\n",
       "      <td>0</td>\n",
       "      <td>0</td>\n",
       "      <td>0</td>\n",
       "      <td>0</td>\n",
       "      <td>0</td>\n",
       "      <td>0</td>\n",
       "      <td>0</td>\n",
       "    </tr>\n",
       "    <tr>\n",
       "      <th>4</th>\n",
       "      <td>0</td>\n",
       "      <td>0</td>\n",
       "      <td>0</td>\n",
       "      <td>0</td>\n",
       "      <td>0</td>\n",
       "      <td>0</td>\n",
       "      <td>0</td>\n",
       "      <td>0</td>\n",
       "      <td>0</td>\n",
       "      <td>0</td>\n",
       "      <td>...</td>\n",
       "      <td>0</td>\n",
       "      <td>0</td>\n",
       "      <td>0</td>\n",
       "      <td>0</td>\n",
       "      <td>0</td>\n",
       "      <td>0</td>\n",
       "      <td>0</td>\n",
       "      <td>0</td>\n",
       "      <td>0</td>\n",
       "      <td>0</td>\n",
       "    </tr>\n",
       "  </tbody>\n",
       "</table>\n",
       "<p>5 rows × 785 columns</p>\n",
       "</div>"
      ],
      "text/plain": [
       "   label  pixel0  pixel1  pixel2  pixel3  pixel4  pixel5  pixel6  pixel7  \\\n",
       "0      1       0       0       0       0       0       0       0       0   \n",
       "1      0       0       0       0       0       0       0       0       0   \n",
       "2      1       0       0       0       0       0       0       0       0   \n",
       "3      4       0       0       0       0       0       0       0       0   \n",
       "4      0       0       0       0       0       0       0       0       0   \n",
       "\n",
       "   pixel8  ...  pixel774  pixel775  pixel776  pixel777  pixel778  pixel779  \\\n",
       "0       0  ...         0         0         0         0         0         0   \n",
       "1       0  ...         0         0         0         0         0         0   \n",
       "2       0  ...         0         0         0         0         0         0   \n",
       "3       0  ...         0         0         0         0         0         0   \n",
       "4       0  ...         0         0         0         0         0         0   \n",
       "\n",
       "   pixel780  pixel781  pixel782  pixel783  \n",
       "0         0         0         0         0  \n",
       "1         0         0         0         0  \n",
       "2         0         0         0         0  \n",
       "3         0         0         0         0  \n",
       "4         0         0         0         0  \n",
       "\n",
       "[5 rows x 785 columns]"
      ]
     },
     "execution_count": 5,
     "metadata": {},
     "output_type": "execute_result"
    }
   ],
   "source": [
    "df_train.head()"
   ]
  },
  {
   "cell_type": "markdown",
   "id": "f0268523",
   "metadata": {
    "papermill": {
     "duration": 0.005538,
     "end_time": "2023-01-08T17:35:55.096683",
     "exception": false,
     "start_time": "2023-01-08T17:35:55.091145",
     "status": "completed"
    },
    "tags": []
   },
   "source": [
    "Label indicates the number row corresponds to. We can verify by visualizing this."
   ]
  },
  {
   "cell_type": "code",
   "execution_count": 6,
   "id": "f23cc96d",
   "metadata": {
    "execution": {
     "iopub.execute_input": "2023-01-08T17:35:55.110776Z",
     "iopub.status.busy": "2023-01-08T17:35:55.110476Z",
     "iopub.status.idle": "2023-01-08T17:35:55.213870Z",
     "shell.execute_reply": "2023-01-08T17:35:55.212654Z"
    },
    "papermill": {
     "duration": 0.113078,
     "end_time": "2023-01-08T17:35:55.216812",
     "exception": false,
     "start_time": "2023-01-08T17:35:55.103734",
     "status": "completed"
    },
    "tags": []
   },
   "outputs": [
    {
     "name": "stdout",
     "output_type": "stream",
     "text": [
      "6\n"
     ]
    },
    {
     "data": {
      "image/png": "[encoded data removed]",
      "text/plain": [
       "<Figure size 432x288 with 1 Axes>"
      ]
     },
     "metadata": {
      "needs_background": "light"
     },
     "output_type": "display_data"
    }
   ],
   "source": [
    "%matplotlib inline\n",
    "import matplotlib as mpl\n",
    "import matplotlib.pyplot as plt\n",
    "\n",
    "def draw_digit(digit_data):\n",
    "    # 28 because we have 784 columns and square root is 28\n",
    "    img = digit_data.reshape(28, 28)\n",
    "    plt.imshow(img, cmap=mpl.cm.binary)\n",
    "    plt.axis(\"off\")\n",
    "    plt.show()\n",
    "\n",
    "print(y_train.iloc[3])\n",
    "draw_digit(np.array(X_train.iloc[3]))"
   ]
  },
  {
   "cell_type": "markdown",
   "id": "a90541a4",
   "metadata": {
    "papermill": {
     "duration": 0.014401,
     "end_time": "2023-01-08T17:35:55.246012",
     "exception": false,
     "start_time": "2023-01-08T17:35:55.231611",
     "status": "completed"
    },
    "tags": []
   },
   "source": [
    "## Multiclass Classification\n"
   ]
  },
  {
   "cell_type": "code",
   "execution_count": 7,
   "id": "87209845",
   "metadata": {
    "execution": {
     "iopub.execute_input": "2023-01-08T17:35:55.274502Z",
     "iopub.status.busy": "2023-01-08T17:35:55.274237Z",
     "iopub.status.idle": "2023-01-08T17:38:42.128955Z",
     "shell.execute_reply": "2023-01-08T17:38:42.128020Z"
    },
    "papermill": {
     "duration": 166.881935,
     "end_time": "2023-01-08T17:38:42.142524",
     "exception": false,
     "start_time": "2023-01-08T17:35:55.260589",
     "status": "completed"
    },
    "tags": []
   },
   "outputs": [
    {
     "name": "stdout",
     "output_type": "stream",
     "text": [
      "Fitting 5 folds for each of 6 candidates, totalling 30 fits\n",
      "[CV 1/5] END ....n_neighbors=3, weights=uniform;, score=0.965 total time=   4.9s\n",
      "[CV 2/5] END ....n_neighbors=3, weights=uniform;, score=0.962 total time=   6.0s\n",
      "[CV 3/5] END ....n_neighbors=3, weights=uniform;, score=0.961 total time=   5.0s\n",
      "[CV 4/5] END ....n_neighbors=3, weights=uniform;, score=0.962 total time=   5.3s\n",
      "[CV 5/5] END ....n_neighbors=3, weights=uniform;, score=0.965 total time=   4.9s\n",
      "[CV 1/5] END ...n_neighbors=3, weights=distance;, score=0.967 total time=   5.1s\n",
      "[CV 2/5] END ...n_neighbors=3, weights=distance;, score=0.962 total time=   4.9s\n",
      "[CV 3/5] END ...n_neighbors=3, weights=distance;, score=0.963 total time=   5.9s\n",
      "[CV 4/5] END ...n_neighbors=3, weights=distance;, score=0.963 total time=   4.9s\n",
      "[CV 5/5] END ...n_neighbors=3, weights=distance;, score=0.967 total time=   5.0s\n",
      "[CV 1/5] END ....n_neighbors=5, weights=uniform;, score=0.964 total time=   5.6s\n",
      "[CV 2/5] END ....n_neighbors=5, weights=uniform;, score=0.959 total time=   5.6s\n",
      "[CV 3/5] END ....n_neighbors=5, weights=uniform;, score=0.961 total time=   5.8s\n",
      "[CV 4/5] END ....n_neighbors=5, weights=uniform;, score=0.963 total time=   6.2s\n",
      "[CV 5/5] END ....n_neighbors=5, weights=uniform;, score=0.964 total time=   5.6s\n",
      "[CV 1/5] END ...n_neighbors=5, weights=distance;, score=0.966 total time=   5.8s\n",
      "[CV 2/5] END ...n_neighbors=5, weights=distance;, score=0.963 total time=   5.3s\n",
      "[CV 3/5] END ...n_neighbors=5, weights=distance;, score=0.963 total time=   5.7s\n",
      "[CV 4/5] END ...n_neighbors=5, weights=distance;, score=0.963 total time=   5.8s\n",
      "[CV 5/5] END ...n_neighbors=5, weights=distance;, score=0.966 total time=   6.3s\n",
      "[CV 1/5] END ...n_neighbors=10, weights=uniform;, score=0.959 total time=   5.6s\n",
      "[CV 2/5] END ...n_neighbors=10, weights=uniform;, score=0.957 total time=   5.8s\n",
      "[CV 3/5] END ...n_neighbors=10, weights=uniform;, score=0.960 total time=   5.6s\n",
      "[CV 4/5] END ...n_neighbors=10, weights=uniform;, score=0.958 total time=   6.1s\n",
      "[CV 5/5] END ...n_neighbors=10, weights=uniform;, score=0.961 total time=   5.9s\n",
      "[CV 1/5] END ..n_neighbors=10, weights=distance;, score=0.963 total time=   5.6s\n",
      "[CV 2/5] END ..n_neighbors=10, weights=distance;, score=0.957 total time=   5.3s\n",
      "[CV 3/5] END ..n_neighbors=10, weights=distance;, score=0.962 total time=   5.7s\n",
      "[CV 4/5] END ..n_neighbors=10, weights=distance;, score=0.961 total time=   5.5s\n",
      "[CV 5/5] END ..n_neighbors=10, weights=distance;, score=0.964 total time=   5.7s\n"
     ]
    },
    {
     "data": {
      "text/plain": [
       "GridSearchCV(estimator=KNeighborsClassifier(),\n",
       "             param_grid=[{'n_neighbors': [3, 5, 10],\n",
       "                          'weights': ['uniform', 'distance']}],\n",
       "             verbose=4)"
      ]
     },
     "execution_count": 7,
     "metadata": {},
     "output_type": "execute_result"
    }
   ],
   "source": [
    "from sklearn.model_selection import GridSearchCV\n",
    "from sklearn.neighbors import KNeighborsClassifier\n",
    "\n",
    "params = [{'weights': ['uniform', 'distance'], 'n_neighbors': [3, 5, 10]}]\n",
    "\n",
    "knn = KNeighborsClassifier()\n",
    "grid_search = GridSearchCV(knn, params, verbose=4)\n",
    "\n",
    "grid_search.fit(X_train, y_train)"
   ]
  },
  {
   "cell_type": "code",
   "execution_count": 8,
   "id": "7988cc76",
   "metadata": {
    "execution": {
     "iopub.execute_input": "2023-01-08T17:38:42.159512Z",
     "iopub.status.busy": "2023-01-08T17:38:42.159228Z",
     "iopub.status.idle": "2023-01-08T17:38:42.164039Z",
     "shell.execute_reply": "2023-01-08T17:38:42.163139Z"
    },
    "papermill": {
     "duration": 0.015911,
     "end_time": "2023-01-08T17:38:42.166726",
     "exception": false,
     "start_time": "2023-01-08T17:38:42.150815",
     "status": "completed"
    },
    "tags": []
   },
   "outputs": [
    {
     "name": "stdout",
     "output_type": "stream",
     "text": [
      "{'n_neighbors': 3, 'weights': 'distance'} 0.964421768707483\n"
     ]
    }
   ],
   "source": [
    "print(grid_search.best_params_, grid_search.best_score_)"
   ]
  },
  {
   "cell_type": "code",
   "execution_count": 9,
   "id": "921e214d",
   "metadata": {
    "execution": {
     "iopub.execute_input": "2023-01-08T17:38:42.184142Z",
     "iopub.status.busy": "2023-01-08T17:38:42.183272Z",
     "iopub.status.idle": "2023-01-08T17:38:55.147855Z",
     "shell.execute_reply": "2023-01-08T17:38:55.146931Z"
    },
    "papermill": {
     "duration": 12.975047,
     "end_time": "2023-01-08T17:38:55.150086",
     "exception": false,
     "start_time": "2023-01-08T17:38:42.175039",
     "status": "completed"
    },
    "tags": []
   },
   "outputs": [
    {
     "data": {
      "text/plain": [
       "0.9662698412698413"
      ]
     },
     "execution_count": 9,
     "metadata": {},
     "output_type": "execute_result"
    }
   ],
   "source": [
    "from sklearn.metrics import accuracy_score\n",
    "\n",
    "y_test_grid = grid_search.predict(X_test)\n",
    "accuracy_score(y_test, y_test_grid)"
   ]
  },
  {
   "cell_type": "markdown",
   "id": "83a8e1a3",
   "metadata": {
    "papermill": {
     "duration": 0.007397,
     "end_time": "2023-01-08T17:38:55.165363",
     "exception": false,
     "start_time": "2023-01-08T17:38:55.157966",
     "status": "completed"
    },
    "tags": []
   },
   "source": [
    "## Using Convolutional Neural Networks\n",
    "\n",
    "Now we can try with CNN's. Before we do that though we have to rescale the data"
   ]
  },
  {
   "cell_type": "code",
   "execution_count": 10,
   "id": "3dbfd2c7",
   "metadata": {
    "execution": {
     "iopub.execute_input": "2023-01-08T17:38:55.182377Z",
     "iopub.status.busy": "2023-01-08T17:38:55.181498Z",
     "iopub.status.idle": "2023-01-08T17:38:55.344110Z",
     "shell.execute_reply": "2023-01-08T17:38:55.343129Z"
    },
    "papermill": {
     "duration": 0.173946,
     "end_time": "2023-01-08T17:38:55.347015",
     "exception": false,
     "start_time": "2023-01-08T17:38:55.173069",
     "status": "completed"
    },
    "tags": []
   },
   "outputs": [],
   "source": [
    "X_scaled = X / 255.0\n",
    "df_test = df_test / 255.0"
   ]
  },
  {
   "cell_type": "code",
   "execution_count": 11,
   "id": "0ffdf0e2",
   "metadata": {
    "execution": {
     "iopub.execute_input": "2023-01-08T17:38:55.363873Z",
     "iopub.status.busy": "2023-01-08T17:38:55.363545Z",
     "iopub.status.idle": "2023-01-08T17:38:55.368344Z",
     "shell.execute_reply": "2023-01-08T17:38:55.367274Z"
    },
    "papermill": {
     "duration": 0.015797,
     "end_time": "2023-01-08T17:38:55.370659",
     "exception": false,
     "start_time": "2023-01-08T17:38:55.354862",
     "status": "completed"
    },
    "tags": []
   },
   "outputs": [],
   "source": [
    "X_scaled = X_scaled.values.reshape(-1, 28, 28, 1)\n",
    "df_test = df_test.values.reshape(-1, 28, 28, 1)"
   ]
  },
  {
   "cell_type": "markdown",
   "id": "e123e95c",
   "metadata": {
    "papermill": {
     "duration": 0.008107,
     "end_time": "2023-01-08T17:38:55.386400",
     "exception": false,
     "start_time": "2023-01-08T17:38:55.378293",
     "status": "completed"
    },
    "tags": []
   },
   "source": [
    "We also need to convert the labels so they look like [0,0,1,0,0,0,0,0,0] instead of 2"
   ]
  },
  {
   "cell_type": "code",
   "execution_count": 12,
   "id": "b3d64573",
   "metadata": {
    "execution": {
     "iopub.execute_input": "2023-01-08T17:38:55.402747Z",
     "iopub.status.busy": "2023-01-08T17:38:55.402430Z",
     "iopub.status.idle": "2023-01-08T17:39:00.164801Z",
     "shell.execute_reply": "2023-01-08T17:39:00.163811Z"
    },
    "papermill": {
     "duration": 4.773664,
     "end_time": "2023-01-08T17:39:00.167569",
     "exception": false,
     "start_time": "2023-01-08T17:38:55.393905",
     "status": "completed"
    },
    "tags": []
   },
   "outputs": [],
   "source": [
    "from keras.utils.np_utils import to_categorical\n",
    "y_converted = to_categorical(y, num_classes = 10)"
   ]
  },
  {
   "cell_type": "code",
   "execution_count": 13,
   "id": "1b726fa3",
   "metadata": {
    "execution": {
     "iopub.execute_input": "2023-01-08T17:39:00.185538Z",
     "iopub.status.busy": "2023-01-08T17:39:00.184999Z",
     "iopub.status.idle": "2023-01-08T17:39:00.561087Z",
     "shell.execute_reply": "2023-01-08T17:39:00.560039Z"
    },
    "papermill": {
     "duration": 0.387826,
     "end_time": "2023-01-08T17:39:00.563597",
     "exception": false,
     "start_time": "2023-01-08T17:39:00.175771",
     "status": "completed"
    },
    "tags": []
   },
   "outputs": [],
   "source": [
    "X_train_scaled, X_test_scaled, y_train_scaled, y_test_scaled = train_test_split(X_scaled, y_converted, test_size = 0.3)"
   ]
  },
  {
   "cell_type": "code",
   "execution_count": 14,
   "id": "d194e5e3",
   "metadata": {
    "execution": {
     "iopub.execute_input": "2023-01-08T17:39:00.581869Z",
     "iopub.status.busy": "2023-01-08T17:39:00.580358Z",
     "iopub.status.idle": "2023-01-08T17:39:03.174968Z",
     "shell.execute_reply": "2023-01-08T17:39:03.174035Z"
    },
    "papermill": {
     "duration": 2.605733,
     "end_time": "2023-01-08T17:39:03.177455",
     "exception": false,
     "start_time": "2023-01-08T17:39:00.571722",
     "status": "completed"
    },
    "tags": []
   },
   "outputs": [
    {
     "name": "stderr",
     "output_type": "stream",
     "text": [
      "2023-01-08 17:39:00.671057: I tensorflow/stream_executor/cuda/cuda_gpu_executor.cc:937] successful NUMA node read from SysFS had negative value (-1), but there must be at least one NUMA node, so returning NUMA node zero\n",
      "2023-01-08 17:39:00.758382: I tensorflow/stream_executor/cuda/cuda_gpu_executor.cc:937] successful NUMA node read from SysFS had negative value (-1), but there must be at least one NUMA node, so returning NUMA node zero\n",
      "2023-01-08 17:39:00.759127: I tensorflow/stream_executor/cuda/cuda_gpu_executor.cc:937] successful NUMA node read from SysFS had negative value (-1), but there must be at least one NUMA node, so returning NUMA node zero\n",
      "2023-01-08 17:39:00.761344: I tensorflow/core/platform/cpu_feature_guard.cc:142] This TensorFlow binary is optimized with oneAPI Deep Neural Network Library (oneDNN) to use the following CPU instructions in performance-critical operations:  AVX2 AVX512F FMA\n",
      "To enable them in other operations, rebuild TensorFlow with the appropriate compiler flags.\n",
      "2023-01-08 17:39:00.761694: I tensorflow/stream_executor/cuda/cuda_gpu_executor.cc:937] successful NUMA node read from SysFS had negative value (-1), but there must be at least one NUMA node, so returning NUMA node zero\n",
      "2023-01-08 17:39:00.762633: I tensorflow/stream_executor/cuda/cuda_gpu_executor.cc:937] successful NUMA node read from SysFS had negative value (-1), but there must be at least one NUMA node, so returning NUMA node zero\n",
      "2023-01-08 17:39:00.763522: I tensorflow/stream_executor/cuda/cuda_gpu_executor.cc:937] successful NUMA node read from SysFS had negative value (-1), but there must be at least one NUMA node, so returning NUMA node zero\n",
      "2023-01-08 17:39:02.744073: I tensorflow/stream_executor/cuda/cuda_gpu_executor.cc:937] successful NUMA node read from SysFS had negative value (-1), but there must be at least one NUMA node, so returning NUMA node zero\n",
      "2023-01-08 17:39:02.744934: I tensorflow/stream_executor/cuda/cuda_gpu_executor.cc:937] successful NUMA node read from SysFS had negative value (-1), but there must be at least one NUMA node, so returning NUMA node zero\n",
      "2023-01-08 17:39:02.745644: I tensorflow/stream_executor/cuda/cuda_gpu_executor.cc:937] successful NUMA node read from SysFS had negative value (-1), but there must be at least one NUMA node, so returning NUMA node zero\n",
      "2023-01-08 17:39:02.746257: I tensorflow/core/common_runtime/gpu/gpu_device.cc:1510] Created device /job:localhost/replica:0/task:0/device:GPU:0 with 15401 MB memory:  -> device: 0, name: Tesla P100-PCIE-16GB, pci bus id: 0000:00:04.0, compute capability: 6.0\n"
     ]
    }
   ],
   "source": [
    "from keras.models import Sequential\n",
    "from keras.layers import Dense, Dropout, Flatten, Conv2D, MaxPool2D\n",
    "\n",
    "model = Sequential()\n",
    "model.add(Conv2D(filters = 8, kernel_size = (5,5),padding = 'Same', \n",
    "                 activation ='relu', input_shape = (28,28,1)))\n",
    "model.add(MaxPool2D(pool_size=(2,2)))\n",
    "model.add(Dropout(0.25))\n",
    "\n",
    "model.add(Conv2D(filters = 16, kernel_size = (3,3),padding = 'Same', \n",
    "                 activation ='relu'))\n",
    "model.add(MaxPool2D(pool_size=(2,2), strides=(2,2)))\n",
    "model.add(Dropout(0.25))\n",
    "\n",
    "model.add(Flatten())\n",
    "model.add(Dense(256, activation = \"relu\"))\n",
    "model.add(Dropout(0.5))\n",
    "model.add(Dense(10, activation = \"softmax\"))"
   ]
  },
  {
   "cell_type": "code",
   "execution_count": 15,
   "id": "201aa660",
   "metadata": {
    "execution": {
     "iopub.execute_input": "2023-01-08T17:39:03.194385Z",
     "iopub.status.busy": "2023-01-08T17:39:03.194097Z",
     "iopub.status.idle": "2023-01-08T17:39:03.470954Z",
     "shell.execute_reply": "2023-01-08T17:39:03.469965Z"
    },
    "papermill": {
     "duration": 0.288479,
     "end_time": "2023-01-08T17:39:03.473859",
     "exception": false,
     "start_time": "2023-01-08T17:39:03.185380",
     "status": "completed"
    },
    "tags": []
   },
   "outputs": [
    {
     "name": "stderr",
     "output_type": "stream",
     "text": [
      "/opt/conda/lib/python3.7/site-packages/keras/optimizer_v2/optimizer_v2.py:356: UserWarning: The `lr` argument is deprecated, use `learning_rate` instead.\n",
      "  \"The `lr` argument is deprecated, use `learning_rate` instead.\")\n"
     ]
    }
   ],
   "source": [
    "from tensorflow.keras.optimizers import Adam\n",
    "optimizer = Adam(lr=0.001, beta_1=0.9, beta_2=0.999)"
   ]
  },
  {
   "cell_type": "code",
   "execution_count": 16,
   "id": "b1db674c",
   "metadata": {
    "execution": {
     "iopub.execute_input": "2023-01-08T17:39:03.492568Z",
     "iopub.status.busy": "2023-01-08T17:39:03.491666Z",
     "iopub.status.idle": "2023-01-08T17:39:03.503960Z",
     "shell.execute_reply": "2023-01-08T17:39:03.503108Z"
    },
    "papermill": {
     "duration": 0.023357,
     "end_time": "2023-01-08T17:39:03.505965",
     "exception": false,
     "start_time": "2023-01-08T17:39:03.482608",
     "status": "completed"
    },
    "tags": []
   },
   "outputs": [],
   "source": [
    "model.compile(optimizer = optimizer , loss = \"categorical_crossentropy\", metrics=[\"accuracy\"])"
   ]
  },
  {
   "cell_type": "code",
   "execution_count": 17,
   "id": "46ef8255",
   "metadata": {
    "execution": {
     "iopub.execute_input": "2023-01-08T17:39:03.522616Z",
     "iopub.status.busy": "2023-01-08T17:39:03.522346Z",
     "iopub.status.idle": "2023-01-08T17:39:03.597450Z",
     "shell.execute_reply": "2023-01-08T17:39:03.596421Z"
    },
    "papermill": {
     "duration": 0.086037,
     "end_time": "2023-01-08T17:39:03.599826",
     "exception": false,
     "start_time": "2023-01-08T17:39:03.513789",
     "status": "completed"
    },
    "tags": []
   },
   "outputs": [],
   "source": [
    "from keras.preprocessing.image import ImageDataGenerator\n",
    "datagen = ImageDataGenerator(\n",
    "        featurewise_center=False,\n",
    "        samplewise_center=False,\n",
    "        featurewise_std_normalization=False,\n",
    "        samplewise_std_normalization=False,\n",
    "        zca_whitening=False,\n",
    "        rotation_range=5,\n",
    "        zoom_range = 0.1,\n",
    "        width_shift_range=0.1,\n",
    "        height_shift_range=0.1,\n",
    "        horizontal_flip=False,\n",
    "        vertical_flip=False)\n",
    "\n",
    "datagen.fit(X_train_scaled)"
   ]
  },
  {
   "cell_type": "code",
   "execution_count": 18,
   "id": "2e55f6c0",
   "metadata": {
    "execution": {
     "iopub.execute_input": "2023-01-08T17:39:03.617135Z",
     "iopub.status.busy": "2023-01-08T17:39:03.616816Z",
     "iopub.status.idle": "2023-01-08T17:40:48.093758Z",
     "shell.execute_reply": "2023-01-08T17:40:48.092735Z"
    },
    "papermill": {
     "duration": 104.488838,
     "end_time": "2023-01-08T17:40:48.096878",
     "exception": false,
     "start_time": "2023-01-08T17:39:03.608040",
     "status": "completed"
    },
    "tags": []
   },
   "outputs": [
    {
     "name": "stderr",
     "output_type": "stream",
     "text": [
      "/opt/conda/lib/python3.7/site-packages/keras/engine/training.py:1972: UserWarning: `Model.fit_generator` is deprecated and will be removed in a future version. Please use `Model.fit`, which supports generators.\n",
      "  warnings.warn('`Model.fit_generator` is deprecated and '\n",
      "2023-01-08 17:39:03.782023: I tensorflow/compiler/mlir/mlir_graph_optimization_pass.cc:185] None of the MLIR Optimization Passes are enabled (registered 2)\n"
     ]
    },
    {
     "name": "stdout",
     "output_type": "stream",
     "text": [
      "Epoch 1/10\n"
     ]
    },
    {
     "name": "stderr",
     "output_type": "stream",
     "text": [
      "2023-01-08 17:39:05.164180: I tensorflow/stream_executor/cuda/cuda_dnn.cc:369] Loaded cuDNN version 8005\n"
     ]
    },
    {
     "name": "stdout",
     "output_type": "stream",
     "text": [
      "117/117 [==============================] - 15s 67ms/step - loss: 1.2024 - accuracy: 0.5971 - val_loss: 0.2512 - val_accuracy: 0.9365\n",
      "Epoch 2/10\n",
      "117/117 [==============================] - 7s 58ms/step - loss: 0.4892 - accuracy: 0.8443 - val_loss: 0.1569 - val_accuracy: 0.9558\n",
      "Epoch 3/10\n",
      "117/117 [==============================] - 7s 59ms/step - loss: 0.3491 - accuracy: 0.8898 - val_loss: 0.1168 - val_accuracy: 0.9644\n",
      "Epoch 4/10\n",
      "117/117 [==============================] - 7s 63ms/step - loss: 0.2962 - accuracy: 0.9094 - val_loss: 0.0983 - val_accuracy: 0.9690\n",
      "Epoch 5/10\n",
      "117/117 [==============================] - 8s 65ms/step - loss: 0.2637 - accuracy: 0.9200 - val_loss: 0.0865 - val_accuracy: 0.9734\n",
      "Epoch 6/10\n",
      "117/117 [==============================] - 8s 66ms/step - loss: 0.2449 - accuracy: 0.9246 - val_loss: 0.0852 - val_accuracy: 0.9736\n",
      "Epoch 7/10\n",
      "117/117 [==============================] - 7s 58ms/step - loss: 0.2246 - accuracy: 0.9302 - val_loss: 0.0739 - val_accuracy: 0.9774\n",
      "Epoch 8/10\n",
      "117/117 [==============================] - 7s 63ms/step - loss: 0.2043 - accuracy: 0.9361 - val_loss: 0.0682 - val_accuracy: 0.9793\n",
      "Epoch 9/10\n",
      "117/117 [==============================] - 7s 62ms/step - loss: 0.1988 - accuracy: 0.9379 - val_loss: 0.0721 - val_accuracy: 0.9771\n",
      "Epoch 10/10\n",
      "117/117 [==============================] - 7s 61ms/step - loss: 0.1920 - accuracy: 0.9413 - val_loss: 0.0618 - val_accuracy: 0.9822\n"
     ]
    }
   ],
   "source": [
    "history = model.fit_generator(datagen.flow(X_train_scaled,y_train_scaled, batch_size=250),\n",
    "                              epochs = 10, validation_data = (X_test_scaled,y_test_scaled), steps_per_epoch=X_train.shape[0] // 250)"
   ]
  },
  {
   "cell_type": "markdown",
   "id": "cd4c5311",
   "metadata": {
    "papermill": {
     "duration": 0.055527,
     "end_time": "2023-01-08T17:40:48.239495",
     "exception": false,
     "start_time": "2023-01-08T17:40:48.183968",
     "status": "completed"
    },
    "tags": []
   },
   "source": [
    "Now it is time to evaluate the model"
   ]
  },
  {
   "cell_type": "code",
   "execution_count": 19,
   "id": "dd84eaa0",
   "metadata": {
    "execution": {
     "iopub.execute_input": "2023-01-08T17:40:48.348712Z",
     "iopub.status.busy": "2023-01-08T17:40:48.348052Z",
     "iopub.status.idle": "2023-01-08T17:40:48.560668Z",
     "shell.execute_reply": "2023-01-08T17:40:48.559621Z"
    },
    "papermill": {
     "duration": 0.2689,
     "end_time": "2023-01-08T17:40:48.562822",
     "exception": false,
     "start_time": "2023-01-08T17:40:48.293922",
     "status": "completed"
    },
    "tags": []
   },
   "outputs": [
    {
     "data": {
      "image/png": "[encoded data removed]",
      "text/plain": [
       "<Figure size 432x288 with 1 Axes>"
      ]
     },
     "metadata": {
      "needs_background": "light"
     },
     "output_type": "display_data"
    }
   ],
   "source": [
    "plt.plot(history.history['val_loss'], color='b', label=\"validation loss\")\n",
    "plt.title(\"Test Loss\")\n",
    "plt.xlabel(\"Number of Epochs\")\n",
    "plt.ylabel(\"Loss\")\n",
    "plt.legend()\n",
    "plt.show()"
   ]
  },
  {
   "cell_type": "markdown",
   "id": "47e4bd64",
   "metadata": {
    "papermill": {
     "duration": 0.052999,
     "end_time": "2023-01-08T17:40:48.670155",
     "exception": false,
     "start_time": "2023-01-08T17:40:48.617156",
     "status": "completed"
    },
    "tags": []
   },
   "source": [
    "The graph above plots the loss and accuracy curve for training and test"
   ]
  },
  {
   "cell_type": "code",
   "execution_count": 20,
   "id": "1a1f0ff0",
   "metadata": {
    "execution": {
     "iopub.execute_input": "2023-01-08T17:40:48.790352Z",
     "iopub.status.busy": "2023-01-08T17:40:48.789941Z",
     "iopub.status.idle": "2023-01-08T17:40:50.221613Z",
     "shell.execute_reply": "2023-01-08T17:40:50.220249Z"
    },
    "papermill": {
     "duration": 1.500932,
     "end_time": "2023-01-08T17:40:50.225491",
     "exception": false,
     "start_time": "2023-01-08T17:40:48.724559",
     "status": "completed"
    },
    "tags": []
   },
   "outputs": [
    {
     "data": {
      "image/png": "[encoded data removed]",
      "text/plain": [
       "<Figure size 576x576 with 2 Axes>"
      ]
     },
     "metadata": {
      "needs_background": "light"
     },
     "output_type": "display_data"
    }
   ],
   "source": [
    "import seaborn as sns\n",
    "from sklearn.metrics import confusion_matrix\n",
    "\n",
    "Y_pred = model.predict(X_test_scaled)\n",
    "Y_pred_classes = np.argmax(y_test_scaled,axis = 1) \n",
    "Y_true = np.argmax(y_test_scaled,axis = 1) \n",
    "\n",
    "confusion_mtx = confusion_matrix(Y_true, Y_pred_classes) \n",
    "\n",
    "f,ax = plt.subplots(figsize=(8, 8))\n",
    "sns.heatmap(confusion_mtx, annot=True, linewidths=0.01, ax=ax)\n",
    "plt.xlabel(\"Predicted Label\")\n",
    "plt.ylabel(\"True Label\")\n",
    "plt.show()"
   ]
  },
  {
   "cell_type": "markdown",
   "id": "92bace15",
   "metadata": {
    "papermill": {
     "duration": 0.087426,
     "end_time": "2023-01-08T17:40:50.402803",
     "exception": false,
     "start_time": "2023-01-08T17:40:50.315377",
     "status": "completed"
    },
    "tags": []
   },
   "source": [
    "How do you make sense of this ? Take number 1 for true label and predicted label. If the value is > 0 for a cell it means there is a relationship between them. All other values are 0 for 1 except for 1 in true and predicted. Which means there is a correlation between true label 1 and predicted 1 which is the true prediction\n",
    "\n",
    "Lets plot for Knn"
   ]
  },
  {
   "cell_type": "code",
   "execution_count": 21,
   "id": "c69073f1",
   "metadata": {
    "execution": {
     "iopub.execute_input": "2023-01-08T17:40:50.566321Z",
     "iopub.status.busy": "2023-01-08T17:40:50.565769Z",
     "iopub.status.idle": "2023-01-08T17:40:51.316958Z",
     "shell.execute_reply": "2023-01-08T17:40:51.315930Z"
    },
    "papermill": {
     "duration": 0.835921,
     "end_time": "2023-01-08T17:40:51.319211",
     "exception": false,
     "start_time": "2023-01-08T17:40:50.483290",
     "status": "completed"
    },
    "tags": []
   },
   "outputs": [
    {
     "data": {
      "image/png": "[encoded data removed]",
      "text/plain": [
       "<Figure size 576x576 with 2 Axes>"
      ]
     },
     "metadata": {
      "needs_background": "light"
     },
     "output_type": "display_data"
    }
   ],
   "source": [
    "confusion_mtx = confusion_matrix(y_test, y_test_grid) \n",
    "\n",
    "f,ax = plt.subplots(figsize=(8, 8))\n",
    "sns.heatmap(confusion_mtx, annot=True, linewidths=0.01, ax=ax)\n",
    "plt.xlabel(\"Predicted Label\")\n",
    "plt.ylabel(\"True Label\")\n",
    "plt.show()"
   ]
  }
 ],
 "metadata": {
  "kernelspec": {
   "display_name": "Python 3",
   "language": "python",
   "name": "python3"
  },
  "language_info": {
   "codemirror_mode": {
    "name": "ipython",
    "version": 3
   },
   "file_extension": ".py",
   "mimetype": "text/x-python",
   "name": "python",
   "nbconvert_exporter": "python",
   "pygments_lexer": "ipython3",
   "version": "3.7.12"
  },
  "papermill": {
   "default_parameters": {},
   "duration": 313.428139,
   "end_time": "2023-01-08T17:40:54.589428",
   "environment_variables": {},
   "exception": null,
   "input_path": "__notebook__.ipynb",
   "output_path": "__notebook__.ipynb",
   "parameters": {},
   "start_time": "2023-01-08T17:35:41.161289",
   "version": "2.3.4"
  }
 },
 "nbformat": 4,
 "nbformat_minor": 5
}
